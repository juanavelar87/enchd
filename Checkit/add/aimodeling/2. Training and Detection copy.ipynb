{
  "cells": [
    {
      "cell_type": "markdown",
      "metadata": {
        "id": "QUANWN3rpfC9"
      },
      "source": [
        "# 0. Setup Paths"
      ]
    },
    {
      "cell_type": "code",
      "execution_count": 11,
      "metadata": {
        "id": "146BB11JpfDA"
      },
      "outputs": [],
      "source": [
        "import os"
      ]
    },
    {
      "cell_type": "code",
      "execution_count": 12,
      "metadata": {
        "id": "42hJEdo_pfDB"
      },
      "outputs": [],
      "source": [
        "CUSTOM_MODEL_NAME = 'my_ssd_mobnet_tuned_chips' \n",
        "PRETRAINED_MODEL_NAME = 'ssd_mobilenet_v2_fpnlite_320x320_coco17_tpu-8'\n",
        "PRETRAINED_MODEL_URL = 'http://download.tensorflow.org/models/object_detection/tf2/20200711/ssd_mobilenet_v2_fpnlite_320x320_coco17_tpu-8.tar.gz'\n",
        "TF_RECORD_SCRIPT_NAME = 'generate_tfrecord.py'\n",
        "LABEL_MAP_NAME = 'label_map.pbtxt'"
      ]
    },
    {
      "cell_type": "code",
      "execution_count": 13,
      "metadata": {
        "id": "hbPhYVy_pfDB"
      },
      "outputs": [],
      "source": [
        "paths = {\n",
        "    'WORKSPACE_PATH': os.path.join('Tensorflow', 'workspace'),\n",
        "    'SCRIPTS_PATH': os.path.join('Tensorflow','scripts'),\n",
        "    'APIMODEL_PATH': os.path.join('Tensorflow','models'),\n",
        "    'ANNOTATION_PATH': os.path.join('Tensorflow', 'workspace','annotations'),\n",
        "    'IMAGE_PATH': os.path.join('Tensorflow', 'workspace','images'),\n",
        "    'MODEL_PATH': os.path.join('Tensorflow', 'workspace','models'),\n",
        "    'PRETRAINED_MODEL_PATH': os.path.join('Tensorflow', 'workspace','pre-trained-models'),\n",
        "    'CHECKPOINT_PATH': os.path.join('Tensorflow', 'workspace','models',CUSTOM_MODEL_NAME), \n",
        "    'OUTPUT_PATH': os.path.join('Tensorflow', 'workspace','models',CUSTOM_MODEL_NAME, 'export'), \n",
        "    'TFJS_PATH':os.path.join('Tensorflow', 'workspace','models',CUSTOM_MODEL_NAME, 'tfjsexport'), \n",
        "    'TFLITE_PATH':os.path.join('Tensorflow', 'workspace','models',CUSTOM_MODEL_NAME, 'tfliteexport'), \n",
        "    'PROTOC_PATH':os.path.join('Tensorflow','protoc')\n",
        " }"
      ]
    },
    {
      "cell_type": "code",
      "execution_count": 14,
      "metadata": {
        "id": "LwhWZMI0pfDC"
      },
      "outputs": [],
      "source": [
        "files = {\n",
        "    'PIPELINE_CONFIG':os.path.join('Tensorflow', 'workspace','models', CUSTOM_MODEL_NAME, 'pipeline.config'),\n",
        "    'TF_RECORD_SCRIPT': os.path.join(paths['SCRIPTS_PATH'], TF_RECORD_SCRIPT_NAME), \n",
        "    'LABELMAP': os.path.join(paths['ANNOTATION_PATH'], LABEL_MAP_NAME)\n",
        "}"
      ]
    },
    {
      "cell_type": "code",
      "execution_count": 15,
      "metadata": {
        "id": "HR-TfDGrpfDC"
      },
      "outputs": [],
      "source": [
        "for path in paths.values():\n",
        "    if not os.path.exists(path):\n",
        "        if os.name == 'posix':\n",
        "            !mkdir -p {path}\n",
        "        if os.name == 'nt':\n",
        "            !mkdir {path}"
      ]
    },
    {
      "cell_type": "markdown",
      "metadata": {
        "id": "OLU-rs_ipfDE"
      },
      "source": [
        "# 1. Download TF Models Pretrained Models from Tensorflow Model Zoo and Install TFOD"
      ]
    },
    {
      "cell_type": "code",
      "execution_count": null,
      "metadata": {
        "id": "NsJQelGs_Iq_"
      },
      "outputs": [],
      "source": [
        "# https://www.tensorflow.org/install/source_windows"
      ]
    },
    {
      "cell_type": "code",
      "execution_count": null,
      "metadata": {
        "id": "K-Cmz2edpfDE",
        "scrolled": true
      },
      "outputs": [],
      "source": [
        "if os.name=='nt':\n",
        "    !pip install wget\n",
        "    import wget\n"
      ]
    },
    {
      "cell_type": "code",
      "execution_count": null,
      "metadata": {
        "id": "iA1DIq5OpfDE"
      },
      "outputs": [],
      "source": [
        "if not os.path.exists(os.path.join(paths['APIMODEL_PATH'], 'research', 'object_detection')):\n",
        "    !git clone https://github.com/tensorflow/models {paths['APIMODEL_PATH']}"
      ]
    },
    {
      "cell_type": "code",
      "execution_count": null,
      "metadata": {
        "id": "rJjMHbnDs3Tv",
        "outputId": "4815404e-968d-4d8a-8f96-67d4c1cb7e8f"
      },
      "outputs": [
        {
          "name": "stdout",
          "output_type": "stream",
          "text": [
            "E: Could not open lock file /var/lib/dpkg/lock-frontend - open (13: Permission denied)\n",
            "E: Unable to acquire the dpkg frontend lock (/var/lib/dpkg/lock-frontend), are you root?\n",
            "Processing /home/juanyael/Programming/checkit/Checkit/Checkit/add/aimodeling/Tensorflow/models/research\n",
            "Requirement already satisfied: Cython in /home/juanyael/Programming/objectsdetection/env/lib/python3.8/site-packages (from object-detection==0.1) (0.29.28)\n",
            "Requirement already satisfied: apache-beam in /home/juanyael/Programming/objectsdetection/env/lib/python3.8/site-packages (from object-detection==0.1) (2.37.0)\n",
            "Requirement already satisfied: avro-python3 in /home/juanyael/Programming/objectsdetection/env/lib/python3.8/site-packages (from object-detection==0.1) (1.10.2)\n",
            "Requirement already satisfied: contextlib2 in /home/juanyael/Programming/objectsdetection/env/lib/python3.8/site-packages (from object-detection==0.1) (21.6.0)\n",
            "Requirement already satisfied: keras in /home/juanyael/Programming/objectsdetection/env/lib/python3.8/site-packages (from object-detection==0.1) (2.8.0)\n",
            "Requirement already satisfied: lvis in /home/juanyael/Programming/objectsdetection/env/lib/python3.8/site-packages (from object-detection==0.1) (0.5.3)\n",
            "Requirement already satisfied: lxml in /home/juanyael/Programming/objectsdetection/env/lib/python3.8/site-packages (from object-detection==0.1) (4.8.0)\n",
            "Requirement already satisfied: matplotlib in /home/juanyael/Programming/objectsdetection/env/lib/python3.8/site-packages (from object-detection==0.1) (3.2.0)\n",
            "Requirement already satisfied: pandas in /home/juanyael/Programming/objectsdetection/env/lib/python3.8/site-packages (from object-detection==0.1) (1.4.1)\n",
            "Requirement already satisfied: pillow in /home/juanyael/Programming/objectsdetection/env/lib/python3.8/site-packages (from object-detection==0.1) (9.0.1)\n",
            "Requirement already satisfied: pycocotools in /home/juanyael/Programming/objectsdetection/env/lib/python3.8/site-packages (from object-detection==0.1) (2.0.4)\n",
            "Requirement already satisfied: scipy in /home/juanyael/Programming/objectsdetection/env/lib/python3.8/site-packages (from object-detection==0.1) (1.8.0)\n",
            "Requirement already satisfied: six in /home/juanyael/Programming/objectsdetection/env/lib/python3.8/site-packages (from object-detection==0.1) (1.16.0)\n",
            "Requirement already satisfied: tensorflow_io in /home/juanyael/Programming/objectsdetection/env/lib/python3.8/site-packages (from object-detection==0.1) (0.24.0)\n",
            "Requirement already satisfied: tf-models-official>=2.5.1 in /home/juanyael/Programming/objectsdetection/env/lib/python3.8/site-packages (from object-detection==0.1) (2.8.0)\n",
            "Requirement already satisfied: tf-slim in /home/juanyael/Programming/objectsdetection/env/lib/python3.8/site-packages (from object-detection==0.1) (1.1.0)\n",
            "Requirement already satisfied: numpy<1.22.0,>=1.14.3 in /home/juanyael/Programming/objectsdetection/env/lib/python3.8/site-packages (from apache-beam->object-detection==0.1) (1.21.5)\n",
            "Requirement already satisfied: httplib2<0.20.0,>=0.8 in /home/juanyael/Programming/objectsdetection/env/lib/python3.8/site-packages (from apache-beam->object-detection==0.1) (0.19.1)\n",
            "Requirement already satisfied: pydot<2,>=1.2.0 in /home/juanyael/Programming/objectsdetection/env/lib/python3.8/site-packages (from apache-beam->object-detection==0.1) (1.4.2)\n",
            "Requirement already satisfied: hdfs<3.0.0,>=2.1.0 in /home/juanyael/Programming/objectsdetection/env/lib/python3.8/site-packages (from apache-beam->object-detection==0.1) (2.6.0)\n",
            "Requirement already satisfied: orjson<4.0 in /home/juanyael/Programming/objectsdetection/env/lib/python3.8/site-packages (from apache-beam->object-detection==0.1) (3.6.7)\n",
            "Requirement already satisfied: pytz>=2018.3 in /home/juanyael/Programming/objectsdetection/env/lib/python3.8/site-packages (from apache-beam->object-detection==0.1) (2021.3)\n",
            "Requirement already satisfied: protobuf<4,>=3.12.2 in /home/juanyael/Programming/objectsdetection/env/lib/python3.8/site-packages (from apache-beam->object-detection==0.1) (3.20.0)\n",
            "Requirement already satisfied: requests<3.0.0,>=2.24.0 in /home/juanyael/Programming/objectsdetection/env/lib/python3.8/site-packages (from apache-beam->object-detection==0.1) (2.27.1)\n",
            "Requirement already satisfied: crcmod<2.0,>=1.7 in /home/juanyael/Programming/objectsdetection/env/lib/python3.8/site-packages (from apache-beam->object-detection==0.1) (1.7)\n",
            "Requirement already satisfied: python-dateutil<3,>=2.8.0 in /home/juanyael/Programming/objectsdetection/env/lib/python3.8/site-packages (from apache-beam->object-detection==0.1) (2.8.2)\n",
            "Requirement already satisfied: oauth2client<5,>=2.0.1 in /home/juanyael/Programming/objectsdetection/env/lib/python3.8/site-packages (from apache-beam->object-detection==0.1) (4.1.3)\n",
            "Requirement already satisfied: dill<0.3.2,>=0.3.1.1 in /home/juanyael/Programming/objectsdetection/env/lib/python3.8/site-packages (from apache-beam->object-detection==0.1) (0.3.1.1)\n",
            "Requirement already satisfied: proto-plus<2,>=1.7.1 in /home/juanyael/Programming/objectsdetection/env/lib/python3.8/site-packages (from apache-beam->object-detection==0.1) (1.20.3)\n",
            "Requirement already satisfied: pymongo<4.0.0,>=3.8.0 in /home/juanyael/Programming/objectsdetection/env/lib/python3.8/site-packages (from apache-beam->object-detection==0.1) (3.12.3)\n",
            "Requirement already satisfied: grpcio<2,>=1.29.0 in /home/juanyael/Programming/objectsdetection/env/lib/python3.8/site-packages (from apache-beam->object-detection==0.1) (1.44.0)\n",
            "Requirement already satisfied: cloudpickle<3,>=2.0.0 in /home/juanyael/Programming/objectsdetection/env/lib/python3.8/site-packages (from apache-beam->object-detection==0.1) (2.0.0)\n",
            "Requirement already satisfied: fastavro<2,>=0.23.6 in /home/juanyael/Programming/objectsdetection/env/lib/python3.8/site-packages (from apache-beam->object-detection==0.1) (1.4.10)\n",
            "Requirement already satisfied: pyarrow<7.0.0,>=0.15.1 in /home/juanyael/Programming/objectsdetection/env/lib/python3.8/site-packages (from apache-beam->object-detection==0.1) (6.0.1)\n",
            "Requirement already satisfied: typing-extensions>=3.7.0 in /home/juanyael/Programming/objectsdetection/env/lib/python3.8/site-packages (from apache-beam->object-detection==0.1) (4.1.1)\n",
            "Requirement already satisfied: opencv-python>=4.1.0.25 in /home/juanyael/Programming/objectsdetection/env/lib/python3.8/site-packages (from lvis->object-detection==0.1) (4.5.5.64)\n",
            "Requirement already satisfied: kiwisolver>=1.1.0 in /home/juanyael/Programming/objectsdetection/env/lib/python3.8/site-packages (from lvis->object-detection==0.1) (1.3.2)\n",
            "Requirement already satisfied: pyparsing>=2.4.0 in /home/juanyael/Programming/objectsdetection/env/lib/python3.8/site-packages (from lvis->object-detection==0.1) (2.4.2)\n",
            "Requirement already satisfied: cycler>=0.10.0 in /home/juanyael/Programming/objectsdetection/env/lib/python3.8/site-packages (from lvis->object-detection==0.1) (0.11.0)\n",
            "Requirement already satisfied: tensorflow-io-gcs-filesystem==0.24.0 in /home/juanyael/Programming/objectsdetection/env/lib/python3.8/site-packages (from tensorflow_io->object-detection==0.1) (0.24.0)\n",
            "Requirement already satisfied: py-cpuinfo>=3.3.0 in /home/juanyael/Programming/objectsdetection/env/lib/python3.8/site-packages (from tf-models-official>=2.5.1->object-detection==0.1) (8.0.0)\n",
            "Requirement already satisfied: sacrebleu in /home/juanyael/Programming/objectsdetection/env/lib/python3.8/site-packages (from tf-models-official>=2.5.1->object-detection==0.1) (2.0.0)\n",
            "Requirement already satisfied: sentencepiece in /home/juanyael/Programming/objectsdetection/env/lib/python3.8/site-packages (from tf-models-official>=2.5.1->object-detection==0.1) (0.1.96)\n",
            "Requirement already satisfied: google-api-python-client>=1.6.7 in /home/juanyael/Programming/objectsdetection/env/lib/python3.8/site-packages (from tf-models-official>=2.5.1->object-detection==0.1) (2.39.0)\n",
            "Requirement already satisfied: pyyaml<6.0,>=5.1 in /home/juanyael/Programming/objectsdetection/env/lib/python3.8/site-packages (from tf-models-official>=2.5.1->object-detection==0.1) (5.4.1)\n",
            "Requirement already satisfied: kaggle>=1.3.9 in /home/juanyael/Programming/objectsdetection/env/lib/python3.8/site-packages (from tf-models-official>=2.5.1->object-detection==0.1) (1.5.12)\n",
            "Requirement already satisfied: tensorflow~=2.8.0 in /home/juanyael/Programming/objectsdetection/env/lib/python3.8/site-packages (from tf-models-official>=2.5.1->object-detection==0.1) (2.8.0)\n",
            "Requirement already satisfied: tensorflow-addons in /home/juanyael/Programming/objectsdetection/env/lib/python3.8/site-packages (from tf-models-official>=2.5.1->object-detection==0.1) (0.16.1)\n",
            "Requirement already satisfied: psutil>=5.4.3 in /home/juanyael/Programming/objectsdetection/env/lib/python3.8/site-packages (from tf-models-official>=2.5.1->object-detection==0.1) (5.9.0)\n",
            "Requirement already satisfied: seqeval in /home/juanyael/Programming/objectsdetection/env/lib/python3.8/site-packages (from tf-models-official>=2.5.1->object-detection==0.1) (1.2.2)\n",
            "Requirement already satisfied: tensorflow-model-optimization>=0.4.1 in /home/juanyael/Programming/objectsdetection/env/lib/python3.8/site-packages (from tf-models-official>=2.5.1->object-detection==0.1) (0.7.1)\n",
            "Requirement already satisfied: tensorflow-hub>=0.6.0 in /home/juanyael/Programming/objectsdetection/env/lib/python3.8/site-packages (from tf-models-official>=2.5.1->object-detection==0.1) (0.12.0)\n",
            "Requirement already satisfied: gin-config in /home/juanyael/Programming/objectsdetection/env/lib/python3.8/site-packages (from tf-models-official>=2.5.1->object-detection==0.1) (0.5.0)\n",
            "Requirement already satisfied: tensorflow-text~=2.8.0 in /home/juanyael/Programming/objectsdetection/env/lib/python3.8/site-packages (from tf-models-official>=2.5.1->object-detection==0.1) (2.8.1)\n",
            "Requirement already satisfied: opencv-python-headless in /home/juanyael/Programming/objectsdetection/env/lib/python3.8/site-packages (from tf-models-official>=2.5.1->object-detection==0.1) (4.5.5.62)\n",
            "Requirement already satisfied: tensorflow-datasets in /home/juanyael/Programming/objectsdetection/env/lib/python3.8/site-packages (from tf-models-official>=2.5.1->object-detection==0.1) (4.5.2)\n",
            "Requirement already satisfied: absl-py>=0.2.2 in /home/juanyael/Programming/objectsdetection/env/lib/python3.8/site-packages (from tf-slim->object-detection==0.1) (1.0.0)\n",
            "Requirement already satisfied: docopt in /home/juanyael/Programming/objectsdetection/env/lib/python3.8/site-packages (from hdfs<3.0.0,>=2.1.0->apache-beam->object-detection==0.1) (0.6.2)\n",
            "Requirement already satisfied: charset-normalizer~=2.0.0; python_version >= \"3\" in /home/juanyael/Programming/objectsdetection/env/lib/python3.8/site-packages (from requests<3.0.0,>=2.24.0->apache-beam->object-detection==0.1) (2.0.12)\n",
            "Requirement already satisfied: urllib3<1.27,>=1.21.1 in /home/juanyael/Programming/objectsdetection/env/lib/python3.8/site-packages (from requests<3.0.0,>=2.24.0->apache-beam->object-detection==0.1) (1.26.8)\n",
            "Requirement already satisfied: certifi>=2017.4.17 in /home/juanyael/Programming/objectsdetection/env/lib/python3.8/site-packages (from requests<3.0.0,>=2.24.0->apache-beam->object-detection==0.1) (2021.10.8)\n",
            "Requirement already satisfied: idna<4,>=2.5; python_version >= \"3\" in /home/juanyael/Programming/objectsdetection/env/lib/python3.8/site-packages (from requests<3.0.0,>=2.24.0->apache-beam->object-detection==0.1) (3.3)\n",
            "Requirement already satisfied: pyasn1-modules>=0.0.5 in /home/juanyael/Programming/objectsdetection/env/lib/python3.8/site-packages (from oauth2client<5,>=2.0.1->apache-beam->object-detection==0.1) (0.2.8)\n",
            "Requirement already satisfied: pyasn1>=0.1.7 in /home/juanyael/Programming/objectsdetection/env/lib/python3.8/site-packages (from oauth2client<5,>=2.0.1->apache-beam->object-detection==0.1) (0.4.8)\n",
            "Requirement already satisfied: rsa>=3.1.4 in /home/juanyael/Programming/objectsdetection/env/lib/python3.8/site-packages (from oauth2client<5,>=2.0.1->apache-beam->object-detection==0.1) (4.8)\n",
            "Requirement already satisfied: portalocker in /home/juanyael/Programming/objectsdetection/env/lib/python3.8/site-packages (from sacrebleu->tf-models-official>=2.5.1->object-detection==0.1) (2.4.0)\n",
            "Requirement already satisfied: colorama in /home/juanyael/Programming/objectsdetection/env/lib/python3.8/site-packages (from sacrebleu->tf-models-official>=2.5.1->object-detection==0.1) (0.4.4)\n",
            "Requirement already satisfied: tabulate>=0.8.9 in /home/juanyael/Programming/objectsdetection/env/lib/python3.8/site-packages (from sacrebleu->tf-models-official>=2.5.1->object-detection==0.1) (0.8.9)\n",
            "Requirement already satisfied: regex in /home/juanyael/Programming/objectsdetection/env/lib/python3.8/site-packages (from sacrebleu->tf-models-official>=2.5.1->object-detection==0.1) (2022.3.2)\n",
            "Requirement already satisfied: google-auth<3.0.0dev,>=1.16.0 in /home/juanyael/Programming/objectsdetection/env/lib/python3.8/site-packages (from google-api-python-client>=1.6.7->tf-models-official>=2.5.1->object-detection==0.1) (2.6.0)\n",
            "Requirement already satisfied: google-api-core<3.0.0dev,>=1.21.0 in /home/juanyael/Programming/objectsdetection/env/lib/python3.8/site-packages (from google-api-python-client>=1.6.7->tf-models-official>=2.5.1->object-detection==0.1) (2.6.0)\n",
            "Requirement already satisfied: uritemplate<5,>=3.0.1 in /home/juanyael/Programming/objectsdetection/env/lib/python3.8/site-packages (from google-api-python-client>=1.6.7->tf-models-official>=2.5.1->object-detection==0.1) (4.1.1)\n",
            "Requirement already satisfied: google-auth-httplib2>=0.1.0 in /home/juanyael/Programming/objectsdetection/env/lib/python3.8/site-packages (from google-api-python-client>=1.6.7->tf-models-official>=2.5.1->object-detection==0.1) (0.1.0)\n",
            "Requirement already satisfied: tqdm in /home/juanyael/Programming/objectsdetection/env/lib/python3.8/site-packages (from kaggle>=1.3.9->tf-models-official>=2.5.1->object-detection==0.1) (4.63.0)\n",
            "Requirement already satisfied: python-slugify in /home/juanyael/Programming/objectsdetection/env/lib/python3.8/site-packages (from kaggle>=1.3.9->tf-models-official>=2.5.1->object-detection==0.1) (6.1.1)\n",
            "Requirement already satisfied: gast>=0.2.1 in /home/juanyael/Programming/objectsdetection/env/lib/python3.8/site-packages (from tensorflow~=2.8.0->tf-models-official>=2.5.1->object-detection==0.1) (0.5.3)\n",
            "Requirement already satisfied: astunparse>=1.6.0 in /home/juanyael/Programming/objectsdetection/env/lib/python3.8/site-packages (from tensorflow~=2.8.0->tf-models-official>=2.5.1->object-detection==0.1) (1.6.3)\n",
            "Requirement already satisfied: flatbuffers>=1.12 in /home/juanyael/Programming/objectsdetection/env/lib/python3.8/site-packages (from tensorflow~=2.8.0->tf-models-official>=2.5.1->object-detection==0.1) (2.0)\n",
            "Requirement already satisfied: google-pasta>=0.1.1 in /home/juanyael/Programming/objectsdetection/env/lib/python3.8/site-packages (from tensorflow~=2.8.0->tf-models-official>=2.5.1->object-detection==0.1) (0.2.0)\n",
            "Requirement already satisfied: wrapt>=1.11.0 in /home/juanyael/Programming/objectsdetection/env/lib/python3.8/site-packages (from tensorflow~=2.8.0->tf-models-official>=2.5.1->object-detection==0.1) (1.13.3)\n",
            "Requirement already satisfied: libclang>=9.0.1 in /home/juanyael/Programming/objectsdetection/env/lib/python3.8/site-packages (from tensorflow~=2.8.0->tf-models-official>=2.5.1->object-detection==0.1) (13.0.0)\n",
            "Requirement already satisfied: opt-einsum>=2.3.2 in /home/juanyael/Programming/objectsdetection/env/lib/python3.8/site-packages (from tensorflow~=2.8.0->tf-models-official>=2.5.1->object-detection==0.1) (3.3.0)\n",
            "Requirement already satisfied: h5py>=2.9.0 in /home/juanyael/Programming/objectsdetection/env/lib/python3.8/site-packages (from tensorflow~=2.8.0->tf-models-official>=2.5.1->object-detection==0.1) (3.6.0)\n",
            "Requirement already satisfied: keras-preprocessing>=1.1.1 in /home/juanyael/Programming/objectsdetection/env/lib/python3.8/site-packages (from tensorflow~=2.8.0->tf-models-official>=2.5.1->object-detection==0.1) (1.1.2)\n",
            "Requirement already satisfied: termcolor>=1.1.0 in /home/juanyael/Programming/objectsdetection/env/lib/python3.8/site-packages (from tensorflow~=2.8.0->tf-models-official>=2.5.1->object-detection==0.1) (1.1.0)\n",
            "Requirement already satisfied: tf-estimator-nightly==2.8.0.dev2021122109 in /home/juanyael/Programming/objectsdetection/env/lib/python3.8/site-packages (from tensorflow~=2.8.0->tf-models-official>=2.5.1->object-detection==0.1) (2.8.0.dev2021122109)\n",
            "Requirement already satisfied: tensorboard<2.9,>=2.8 in /home/juanyael/Programming/objectsdetection/env/lib/python3.8/site-packages (from tensorflow~=2.8.0->tf-models-official>=2.5.1->object-detection==0.1) (2.8.0)\n",
            "Requirement already satisfied: setuptools in /home/juanyael/Programming/objectsdetection/env/lib/python3.8/site-packages (from tensorflow~=2.8.0->tf-models-official>=2.5.1->object-detection==0.1) (44.0.0)\n",
            "Requirement already satisfied: typeguard>=2.7 in /home/juanyael/Programming/objectsdetection/env/lib/python3.8/site-packages (from tensorflow-addons->tf-models-official>=2.5.1->object-detection==0.1) (2.13.3)\n",
            "Requirement already satisfied: scikit-learn>=0.21.3 in /home/juanyael/Programming/objectsdetection/env/lib/python3.8/site-packages (from seqeval->tf-models-official>=2.5.1->object-detection==0.1) (1.0.2)\n",
            "Requirement already satisfied: dm-tree~=0.1.1 in /home/juanyael/Programming/objectsdetection/env/lib/python3.8/site-packages (from tensorflow-model-optimization>=0.4.1->tf-models-official>=2.5.1->object-detection==0.1) (0.1.6)\n",
            "Requirement already satisfied: promise in /home/juanyael/Programming/objectsdetection/env/lib/python3.8/site-packages (from tensorflow-datasets->tf-models-official>=2.5.1->object-detection==0.1) (2.3)\n",
            "Requirement already satisfied: tensorflow-metadata in /home/juanyael/Programming/objectsdetection/env/lib/python3.8/site-packages (from tensorflow-datasets->tf-models-official>=2.5.1->object-detection==0.1) (1.7.0)\n",
            "Requirement already satisfied: importlib-resources; python_version < \"3.9\" in /home/juanyael/Programming/objectsdetection/env/lib/python3.8/site-packages (from tensorflow-datasets->tf-models-official>=2.5.1->object-detection==0.1) (5.4.0)\n",
            "Requirement already satisfied: cachetools<6.0,>=2.0.0 in /home/juanyael/Programming/objectsdetection/env/lib/python3.8/site-packages (from google-auth<3.0.0dev,>=1.16.0->google-api-python-client>=1.6.7->tf-models-official>=2.5.1->object-detection==0.1) (5.0.0)\n",
            "Requirement already satisfied: googleapis-common-protos<2.0dev,>=1.52.0 in /home/juanyael/Programming/objectsdetection/env/lib/python3.8/site-packages (from google-api-core<3.0.0dev,>=1.21.0->google-api-python-client>=1.6.7->tf-models-official>=2.5.1->object-detection==0.1) (1.55.0)\n",
            "Requirement already satisfied: text-unidecode>=1.3 in /home/juanyael/Programming/objectsdetection/env/lib/python3.8/site-packages (from python-slugify->kaggle>=1.3.9->tf-models-official>=2.5.1->object-detection==0.1) (1.3)\n",
            "Requirement already satisfied: wheel<1.0,>=0.23.0 in /home/juanyael/Programming/objectsdetection/env/lib/python3.8/site-packages (from astunparse>=1.6.0->tensorflow~=2.8.0->tf-models-official>=2.5.1->object-detection==0.1) (0.37.1)\n",
            "Requirement already satisfied: werkzeug>=0.11.15 in /home/juanyael/Programming/objectsdetection/env/lib/python3.8/site-packages (from tensorboard<2.9,>=2.8->tensorflow~=2.8.0->tf-models-official>=2.5.1->object-detection==0.1) (2.0.3)\n",
            "Requirement already satisfied: tensorboard-plugin-wit>=1.6.0 in /home/juanyael/Programming/objectsdetection/env/lib/python3.8/site-packages (from tensorboard<2.9,>=2.8->tensorflow~=2.8.0->tf-models-official>=2.5.1->object-detection==0.1) (1.8.1)\n",
            "Requirement already satisfied: google-auth-oauthlib<0.5,>=0.4.1 in /home/juanyael/Programming/objectsdetection/env/lib/python3.8/site-packages (from tensorboard<2.9,>=2.8->tensorflow~=2.8.0->tf-models-official>=2.5.1->object-detection==0.1) (0.4.6)\n",
            "Requirement already satisfied: markdown>=2.6.8 in /home/juanyael/Programming/objectsdetection/env/lib/python3.8/site-packages (from tensorboard<2.9,>=2.8->tensorflow~=2.8.0->tf-models-official>=2.5.1->object-detection==0.1) (3.3.6)\n",
            "Requirement already satisfied: tensorboard-data-server<0.7.0,>=0.6.0 in /home/juanyael/Programming/objectsdetection/env/lib/python3.8/site-packages (from tensorboard<2.9,>=2.8->tensorflow~=2.8.0->tf-models-official>=2.5.1->object-detection==0.1) (0.6.1)\n",
            "Requirement already satisfied: joblib>=0.11 in /home/juanyael/Programming/objectsdetection/env/lib/python3.8/site-packages (from scikit-learn>=0.21.3->seqeval->tf-models-official>=2.5.1->object-detection==0.1) (1.1.0)\n",
            "Requirement already satisfied: threadpoolctl>=2.0.0 in /home/juanyael/Programming/objectsdetection/env/lib/python3.8/site-packages (from scikit-learn>=0.21.3->seqeval->tf-models-official>=2.5.1->object-detection==0.1) (3.1.0)\n",
            "Requirement already satisfied: zipp>=3.1.0; python_version < \"3.10\" in /home/juanyael/Programming/objectsdetection/env/lib/python3.8/site-packages (from importlib-resources; python_version < \"3.9\"->tensorflow-datasets->tf-models-official>=2.5.1->object-detection==0.1) (3.7.0)\n",
            "Requirement already satisfied: requests-oauthlib>=0.7.0 in /home/juanyael/Programming/objectsdetection/env/lib/python3.8/site-packages (from google-auth-oauthlib<0.5,>=0.4.1->tensorboard<2.9,>=2.8->tensorflow~=2.8.0->tf-models-official>=2.5.1->object-detection==0.1) (1.3.1)\n",
            "Requirement already satisfied: importlib-metadata>=4.4; python_version < \"3.10\" in /home/juanyael/Programming/objectsdetection/env/lib/python3.8/site-packages (from markdown>=2.6.8->tensorboard<2.9,>=2.8->tensorflow~=2.8.0->tf-models-official>=2.5.1->object-detection==0.1) (4.11.2)\n",
            "Requirement already satisfied: oauthlib>=3.0.0 in /home/juanyael/Programming/objectsdetection/env/lib/python3.8/site-packages (from requests-oauthlib>=0.7.0->google-auth-oauthlib<0.5,>=0.4.1->tensorboard<2.9,>=2.8->tensorflow~=2.8.0->tf-models-official>=2.5.1->object-detection==0.1) (3.2.0)\n",
            "Building wheels for collected packages: object-detection\n",
            "  Building wheel for object-detection (setup.py) ... \u001b[?25ldone\n",
            "\u001b[?25h  Created wheel for object-detection: filename=object_detection-0.1-py3-none-any.whl size=1691278 sha256=8739a4238205a9e4fc74fae0a3e6b69251983835263e63bdeb1a646df16a87d7\n",
            "  Stored in directory: /tmp/pip-ephem-wheel-cache-ppc_7eq3/wheels/63/2e/53/6422f982346193baa065d8494e34e6e66cd3320e1c354451b7\n",
            "Successfully built object-detection\n",
            "Installing collected packages: object-detection\n",
            "  Attempting uninstall: object-detection\n",
            "    Found existing installation: object-detection 0.1\n",
            "    Not uninstalling object-detection at /home/juanyael/Programming/checkit/Checkit/Checkit/add/aimodeling/Tensorflow/models/research, outside environment /home/juanyael/Programming/objectsdetection/env\n",
            "    Can't uninstall 'object-detection'. No files were found to uninstall.\n",
            "Successfully installed object-detection-0.1\n"
          ]
        }
      ],
      "source": [
        "# Install Tensorflow Object Detection \n",
        "if os.name=='posix':  \n",
        "    !apt-get install protobuf-compiler\n",
        "    !cd Tensorflow/models/research && protoc object_detection/protos/*.proto --python_out=. && cp object_detection/packages/tf2/setup.py . && python -m pip install . \n",
        "    \n",
        "if os.name=='nt':\n",
        "    url=\"https://github.com/protocolbuffers/protobuf/releases/download/v3.15.6/protoc-3.15.6-win64.zip\"\n",
        "    wget.download(url)\n",
        "    !move protoc-3.15.6-win64.zip {paths['PROTOC_PATH']}\n",
        "    !cd {paths['PROTOC_PATH']} && tar -xf protoc-3.15.6-win64.zip\n",
        "    os.environ['PATH'] += os.pathsep + os.path.abspath(os.path.join(paths['PROTOC_PATH'], 'bin'))   \n",
        "    !cd Tensorflow/models/research && protoc object_detection/protos/*.proto --python_out=. && copy object_detection\\\\packages\\\\tf2\\\\setup.py setup.py && python setup.py build && python setup.py install\n",
        "    !cd Tensorflow/models/research/slim && pip install -e . "
      ]
    },
    {
      "cell_type": "code",
      "execution_count": null,
      "metadata": {
        "scrolled": true,
        "id": "py7NbU3E_IrI",
        "outputId": "cfaaf7a8-1110-49e2-c4b1-f5a033c5aedd"
      },
      "outputs": [
        {
          "name": "stdout",
          "output_type": "stream",
          "text": [
            "2022-03-19 08:05:47.260033: E tensorflow/stream_executor/cuda/cuda_driver.cc:271] failed call to cuInit: CUDA_ERROR_NO_DEVICE: no CUDA-capable device is detected\n",
            "2022-03-19 08:05:47.260144: I tensorflow/stream_executor/cuda/cuda_diagnostics.cc:156] kernel driver does not appear to be running on this host (Indigo): /proc/driver/nvidia/version does not exist\n",
            "Running tests under Python 3.8.10: /home/juanyael/Programming/objectsdetection/env/bin/python\n",
            "[ RUN      ] ModelBuilderTF2Test.test_create_center_net_deepmac\n",
            "2022-03-19 08:05:47.293853: I tensorflow/core/platform/cpu_feature_guard.cc:151] This TensorFlow binary is optimized with oneAPI Deep Neural Network Library (oneDNN) to use the following CPU instructions in performance-critical operations:  AVX2\n",
            "To enable them in other operations, rebuild TensorFlow with the appropriate compiler flags.\n",
            "/home/juanyael/Programming/objectsdetection/env/lib/python3.8/site-packages/object_detection/builders/model_builder.py:1100: DeprecationWarning: The 'warn' function is deprecated, use 'warning' instead\n",
            "  logging.warn(('Building experimental DeepMAC meta-arch.'\n",
            "W0319 08:05:48.180535 140311022638912 model_builder.py:1100] Building experimental DeepMAC meta-arch. Some features may be omitted.\n",
            "INFO:tensorflow:time(__main__.ModelBuilderTF2Test.test_create_center_net_deepmac): 1.8s\n",
            "I0319 08:05:49.074068 140311022638912 test_util.py:2373] time(__main__.ModelBuilderTF2Test.test_create_center_net_deepmac): 1.8s\n",
            "[       OK ] ModelBuilderTF2Test.test_create_center_net_deepmac\n",
            "[ RUN      ] ModelBuilderTF2Test.test_create_center_net_model0 (customize_head_params=True)\n",
            "INFO:tensorflow:time(__main__.ModelBuilderTF2Test.test_create_center_net_model0 (customize_head_params=True)): 1.19s\n",
            "I0319 08:05:50.266029 140311022638912 test_util.py:2373] time(__main__.ModelBuilderTF2Test.test_create_center_net_model0 (customize_head_params=True)): 1.19s\n",
            "[       OK ] ModelBuilderTF2Test.test_create_center_net_model0 (customize_head_params=True)\n",
            "[ RUN      ] ModelBuilderTF2Test.test_create_center_net_model1 (customize_head_params=False)\n",
            "INFO:tensorflow:time(__main__.ModelBuilderTF2Test.test_create_center_net_model1 (customize_head_params=False)): 0.73s\n",
            "I0319 08:05:51.002774 140311022638912 test_util.py:2373] time(__main__.ModelBuilderTF2Test.test_create_center_net_model1 (customize_head_params=False)): 0.73s\n",
            "[       OK ] ModelBuilderTF2Test.test_create_center_net_model1 (customize_head_params=False)\n",
            "[ RUN      ] ModelBuilderTF2Test.test_create_center_net_model_from_keypoints\n",
            "INFO:tensorflow:time(__main__.ModelBuilderTF2Test.test_create_center_net_model_from_keypoints): 0.54s\n",
            "I0319 08:05:51.544873 140311022638912 test_util.py:2373] time(__main__.ModelBuilderTF2Test.test_create_center_net_model_from_keypoints): 0.54s\n",
            "[       OK ] ModelBuilderTF2Test.test_create_center_net_model_from_keypoints\n",
            "[ RUN      ] ModelBuilderTF2Test.test_create_center_net_model_mobilenet\n",
            "INFO:tensorflow:time(__main__.ModelBuilderTF2Test.test_create_center_net_model_mobilenet): 5.04s\n",
            "I0319 08:05:56.585317 140311022638912 test_util.py:2373] time(__main__.ModelBuilderTF2Test.test_create_center_net_model_mobilenet): 5.04s\n",
            "[       OK ] ModelBuilderTF2Test.test_create_center_net_model_mobilenet\n",
            "[ RUN      ] ModelBuilderTF2Test.test_create_experimental_model\n",
            "INFO:tensorflow:time(__main__.ModelBuilderTF2Test.test_create_experimental_model): 0.0s\n",
            "I0319 08:05:56.587754 140311022638912 test_util.py:2373] time(__main__.ModelBuilderTF2Test.test_create_experimental_model): 0.0s\n",
            "[       OK ] ModelBuilderTF2Test.test_create_experimental_model\n",
            "[ RUN      ] ModelBuilderTF2Test.test_create_faster_rcnn_from_config_with_crop_feature0 (True)\n",
            "INFO:tensorflow:time(__main__.ModelBuilderTF2Test.test_create_faster_rcnn_from_config_with_crop_feature0 (True)): 0.08s\n",
            "I0319 08:05:56.669460 140311022638912 test_util.py:2373] time(__main__.ModelBuilderTF2Test.test_create_faster_rcnn_from_config_with_crop_feature0 (True)): 0.08s\n",
            "[       OK ] ModelBuilderTF2Test.test_create_faster_rcnn_from_config_with_crop_feature0 (True)\n",
            "[ RUN      ] ModelBuilderTF2Test.test_create_faster_rcnn_from_config_with_crop_feature1 (False)\n",
            "INFO:tensorflow:time(__main__.ModelBuilderTF2Test.test_create_faster_rcnn_from_config_with_crop_feature1 (False)): 0.04s\n",
            "I0319 08:05:56.707011 140311022638912 test_util.py:2373] time(__main__.ModelBuilderTF2Test.test_create_faster_rcnn_from_config_with_crop_feature1 (False)): 0.04s\n",
            "[       OK ] ModelBuilderTF2Test.test_create_faster_rcnn_from_config_with_crop_feature1 (False)\n",
            "[ RUN      ] ModelBuilderTF2Test.test_create_faster_rcnn_model_from_config_with_example_miner\n",
            "INFO:tensorflow:time(__main__.ModelBuilderTF2Test.test_create_faster_rcnn_model_from_config_with_example_miner): 0.04s\n",
            "I0319 08:05:56.745475 140311022638912 test_util.py:2373] time(__main__.ModelBuilderTF2Test.test_create_faster_rcnn_model_from_config_with_example_miner): 0.04s\n",
            "[       OK ] ModelBuilderTF2Test.test_create_faster_rcnn_model_from_config_with_example_miner\n",
            "[ RUN      ] ModelBuilderTF2Test.test_create_faster_rcnn_models_from_config_faster_rcnn_with_matmul\n",
            "INFO:tensorflow:time(__main__.ModelBuilderTF2Test.test_create_faster_rcnn_models_from_config_faster_rcnn_with_matmul): 0.19s\n",
            "I0319 08:05:56.940667 140311022638912 test_util.py:2373] time(__main__.ModelBuilderTF2Test.test_create_faster_rcnn_models_from_config_faster_rcnn_with_matmul): 0.19s\n",
            "[       OK ] ModelBuilderTF2Test.test_create_faster_rcnn_models_from_config_faster_rcnn_with_matmul\n",
            "[ RUN      ] ModelBuilderTF2Test.test_create_faster_rcnn_models_from_config_faster_rcnn_without_matmul\n",
            "INFO:tensorflow:time(__main__.ModelBuilderTF2Test.test_create_faster_rcnn_models_from_config_faster_rcnn_without_matmul): 0.19s\n",
            "I0319 08:05:57.135914 140311022638912 test_util.py:2373] time(__main__.ModelBuilderTF2Test.test_create_faster_rcnn_models_from_config_faster_rcnn_without_matmul): 0.19s\n",
            "[       OK ] ModelBuilderTF2Test.test_create_faster_rcnn_models_from_config_faster_rcnn_without_matmul\n",
            "[ RUN      ] ModelBuilderTF2Test.test_create_faster_rcnn_models_from_config_mask_rcnn_with_matmul\n",
            "INFO:tensorflow:time(__main__.ModelBuilderTF2Test.test_create_faster_rcnn_models_from_config_mask_rcnn_with_matmul): 0.2s\n",
            "I0319 08:05:57.333098 140311022638912 test_util.py:2373] time(__main__.ModelBuilderTF2Test.test_create_faster_rcnn_models_from_config_mask_rcnn_with_matmul): 0.2s\n",
            "[       OK ] ModelBuilderTF2Test.test_create_faster_rcnn_models_from_config_mask_rcnn_with_matmul\n",
            "[ RUN      ] ModelBuilderTF2Test.test_create_faster_rcnn_models_from_config_mask_rcnn_without_matmul\n",
            "INFO:tensorflow:time(__main__.ModelBuilderTF2Test.test_create_faster_rcnn_models_from_config_mask_rcnn_without_matmul): 0.25s\n",
            "I0319 08:05:57.585327 140311022638912 test_util.py:2373] time(__main__.ModelBuilderTF2Test.test_create_faster_rcnn_models_from_config_mask_rcnn_without_matmul): 0.25s\n",
            "[       OK ] ModelBuilderTF2Test.test_create_faster_rcnn_models_from_config_mask_rcnn_without_matmul\n",
            "[ RUN      ] ModelBuilderTF2Test.test_create_rfcn_model_from_config\n",
            "INFO:tensorflow:time(__main__.ModelBuilderTF2Test.test_create_rfcn_model_from_config): 0.21s\n",
            "I0319 08:05:57.799038 140311022638912 test_util.py:2373] time(__main__.ModelBuilderTF2Test.test_create_rfcn_model_from_config): 0.21s\n",
            "[       OK ] ModelBuilderTF2Test.test_create_rfcn_model_from_config\n",
            "[ RUN      ] ModelBuilderTF2Test.test_create_ssd_fpn_model_from_config\n",
            "INFO:tensorflow:time(__main__.ModelBuilderTF2Test.test_create_ssd_fpn_model_from_config): 0.05s\n",
            "I0319 08:05:57.853085 140311022638912 test_util.py:2373] time(__main__.ModelBuilderTF2Test.test_create_ssd_fpn_model_from_config): 0.05s\n",
            "[       OK ] ModelBuilderTF2Test.test_create_ssd_fpn_model_from_config\n",
            "[ RUN      ] ModelBuilderTF2Test.test_create_ssd_models_from_config\n",
            "I0319 08:05:58.193596 140311022638912 ssd_efficientnet_bifpn_feature_extractor.py:145] EfficientDet EfficientNet backbone version: efficientnet-b0\n",
            "I0319 08:05:58.193886 140311022638912 ssd_efficientnet_bifpn_feature_extractor.py:147] EfficientDet BiFPN num filters: 64\n",
            "I0319 08:05:58.194034 140311022638912 ssd_efficientnet_bifpn_feature_extractor.py:148] EfficientDet BiFPN num iterations: 3\n",
            "I0319 08:05:58.198931 140311022638912 efficientnet_model.py:144] round_filter input=32 output=32\n",
            "I0319 08:05:58.236532 140311022638912 efficientnet_model.py:144] round_filter input=32 output=32\n",
            "I0319 08:05:58.236850 140311022638912 efficientnet_model.py:144] round_filter input=16 output=16\n",
            "I0319 08:05:58.356492 140311022638912 efficientnet_model.py:144] round_filter input=16 output=16\n",
            "I0319 08:05:58.356762 140311022638912 efficientnet_model.py:144] round_filter input=24 output=24\n",
            "I0319 08:05:58.723855 140311022638912 efficientnet_model.py:144] round_filter input=24 output=24\n",
            "I0319 08:05:58.724181 140311022638912 efficientnet_model.py:144] round_filter input=40 output=40\n",
            "I0319 08:05:59.071406 140311022638912 efficientnet_model.py:144] round_filter input=40 output=40\n",
            "I0319 08:05:59.071649 140311022638912 efficientnet_model.py:144] round_filter input=80 output=80\n",
            "I0319 08:05:59.728305 140311022638912 efficientnet_model.py:144] round_filter input=80 output=80\n",
            "I0319 08:05:59.728518 140311022638912 efficientnet_model.py:144] round_filter input=112 output=112\n",
            "I0319 08:06:00.298311 140311022638912 efficientnet_model.py:144] round_filter input=112 output=112\n",
            "I0319 08:06:00.298560 140311022638912 efficientnet_model.py:144] round_filter input=192 output=192\n",
            "I0319 08:06:01.268352 140311022638912 efficientnet_model.py:144] round_filter input=192 output=192\n",
            "I0319 08:06:01.268615 140311022638912 efficientnet_model.py:144] round_filter input=320 output=320\n",
            "I0319 08:06:01.454592 140311022638912 efficientnet_model.py:144] round_filter input=1280 output=1280\n",
            "I0319 08:06:01.559694 140311022638912 efficientnet_model.py:454] Building model efficientnet with params ModelConfig(width_coefficient=1.0, depth_coefficient=1.0, resolution=224, dropout_rate=0.2, blocks=(BlockConfig(input_filters=32, output_filters=16, kernel_size=3, num_repeat=1, expand_ratio=1, strides=(1, 1), se_ratio=0.25, id_skip=True, fused_conv=False, conv_type='depthwise'), BlockConfig(input_filters=16, output_filters=24, kernel_size=3, num_repeat=2, expand_ratio=6, strides=(2, 2), se_ratio=0.25, id_skip=True, fused_conv=False, conv_type='depthwise'), BlockConfig(input_filters=24, output_filters=40, kernel_size=5, num_repeat=2, expand_ratio=6, strides=(2, 2), se_ratio=0.25, id_skip=True, fused_conv=False, conv_type='depthwise'), BlockConfig(input_filters=40, output_filters=80, kernel_size=3, num_repeat=3, expand_ratio=6, strides=(2, 2), se_ratio=0.25, id_skip=True, fused_conv=False, conv_type='depthwise'), BlockConfig(input_filters=80, output_filters=112, kernel_size=5, num_repeat=3, expand_ratio=6, strides=(1, 1), se_ratio=0.25, id_skip=True, fused_conv=False, conv_type='depthwise'), BlockConfig(input_filters=112, output_filters=192, kernel_size=5, num_repeat=4, expand_ratio=6, strides=(2, 2), se_ratio=0.25, id_skip=True, fused_conv=False, conv_type='depthwise'), BlockConfig(input_filters=192, output_filters=320, kernel_size=3, num_repeat=1, expand_ratio=6, strides=(1, 1), se_ratio=0.25, id_skip=True, fused_conv=False, conv_type='depthwise')), stem_base_filters=32, top_base_filters=1280, activation='simple_swish', batch_norm='default', bn_momentum=0.99, bn_epsilon=0.001, weight_decay=5e-06, drop_connect_rate=0.2, depth_divisor=8, min_depth=None, use_se=True, input_channels=3, num_classes=1000, model_name='efficientnet', rescale_input=False, data_format='channels_last', dtype='float32')\n",
            "I0319 08:06:01.660780 140311022638912 ssd_efficientnet_bifpn_feature_extractor.py:145] EfficientDet EfficientNet backbone version: efficientnet-b1\n",
            "I0319 08:06:01.660982 140311022638912 ssd_efficientnet_bifpn_feature_extractor.py:147] EfficientDet BiFPN num filters: 88\n",
            "I0319 08:06:01.661150 140311022638912 ssd_efficientnet_bifpn_feature_extractor.py:148] EfficientDet BiFPN num iterations: 4\n",
            "I0319 08:06:01.663611 140311022638912 efficientnet_model.py:144] round_filter input=32 output=32\n",
            "I0319 08:06:01.697096 140311022638912 efficientnet_model.py:144] round_filter input=32 output=32\n",
            "I0319 08:06:01.697348 140311022638912 efficientnet_model.py:144] round_filter input=16 output=16\n",
            "I0319 08:06:01.960983 140311022638912 efficientnet_model.py:144] round_filter input=16 output=16\n",
            "I0319 08:06:01.961231 140311022638912 efficientnet_model.py:144] round_filter input=24 output=24\n",
            "I0319 08:06:02.397676 140311022638912 efficientnet_model.py:144] round_filter input=24 output=24\n",
            "I0319 08:06:02.397941 140311022638912 efficientnet_model.py:144] round_filter input=40 output=40\n",
            "I0319 08:06:02.801640 140311022638912 efficientnet_model.py:144] round_filter input=40 output=40\n",
            "I0319 08:06:02.801850 140311022638912 efficientnet_model.py:144] round_filter input=80 output=80\n",
            "I0319 08:06:03.320365 140311022638912 efficientnet_model.py:144] round_filter input=80 output=80\n",
            "I0319 08:06:03.320780 140311022638912 efficientnet_model.py:144] round_filter input=112 output=112\n",
            "I0319 08:06:03.964780 140311022638912 efficientnet_model.py:144] round_filter input=112 output=112\n",
            "I0319 08:06:03.965035 140311022638912 efficientnet_model.py:144] round_filter input=192 output=192\n",
            "I0319 08:06:04.752810 140311022638912 efficientnet_model.py:144] round_filter input=192 output=192\n",
            "I0319 08:06:04.752989 140311022638912 efficientnet_model.py:144] round_filter input=320 output=320\n",
            "I0319 08:06:05.044508 140311022638912 efficientnet_model.py:144] round_filter input=1280 output=1280\n",
            "I0319 08:06:05.108849 140311022638912 efficientnet_model.py:454] Building model efficientnet with params ModelConfig(width_coefficient=1.0, depth_coefficient=1.1, resolution=240, dropout_rate=0.2, blocks=(BlockConfig(input_filters=32, output_filters=16, kernel_size=3, num_repeat=1, expand_ratio=1, strides=(1, 1), se_ratio=0.25, id_skip=True, fused_conv=False, conv_type='depthwise'), BlockConfig(input_filters=16, output_filters=24, kernel_size=3, num_repeat=2, expand_ratio=6, strides=(2, 2), se_ratio=0.25, id_skip=True, fused_conv=False, conv_type='depthwise'), BlockConfig(input_filters=24, output_filters=40, kernel_size=5, num_repeat=2, expand_ratio=6, strides=(2, 2), se_ratio=0.25, id_skip=True, fused_conv=False, conv_type='depthwise'), BlockConfig(input_filters=40, output_filters=80, kernel_size=3, num_repeat=3, expand_ratio=6, strides=(2, 2), se_ratio=0.25, id_skip=True, fused_conv=False, conv_type='depthwise'), BlockConfig(input_filters=80, output_filters=112, kernel_size=5, num_repeat=3, expand_ratio=6, strides=(1, 1), se_ratio=0.25, id_skip=True, fused_conv=False, conv_type='depthwise'), BlockConfig(input_filters=112, output_filters=192, kernel_size=5, num_repeat=4, expand_ratio=6, strides=(2, 2), se_ratio=0.25, id_skip=True, fused_conv=False, conv_type='depthwise'), BlockConfig(input_filters=192, output_filters=320, kernel_size=3, num_repeat=1, expand_ratio=6, strides=(1, 1), se_ratio=0.25, id_skip=True, fused_conv=False, conv_type='depthwise')), stem_base_filters=32, top_base_filters=1280, activation='simple_swish', batch_norm='default', bn_momentum=0.99, bn_epsilon=0.001, weight_decay=5e-06, drop_connect_rate=0.2, depth_divisor=8, min_depth=None, use_se=True, input_channels=3, num_classes=1000, model_name='efficientnet', rescale_input=False, data_format='channels_last', dtype='float32')\n",
            "I0319 08:06:05.199421 140311022638912 ssd_efficientnet_bifpn_feature_extractor.py:145] EfficientDet EfficientNet backbone version: efficientnet-b2\n",
            "I0319 08:06:05.199617 140311022638912 ssd_efficientnet_bifpn_feature_extractor.py:147] EfficientDet BiFPN num filters: 112\n",
            "I0319 08:06:05.199695 140311022638912 ssd_efficientnet_bifpn_feature_extractor.py:148] EfficientDet BiFPN num iterations: 5\n",
            "I0319 08:06:05.202037 140311022638912 efficientnet_model.py:144] round_filter input=32 output=32\n",
            "I0319 08:06:05.231599 140311022638912 efficientnet_model.py:144] round_filter input=32 output=32\n",
            "I0319 08:06:05.231780 140311022638912 efficientnet_model.py:144] round_filter input=16 output=16\n",
            "I0319 08:06:05.489082 140311022638912 efficientnet_model.py:144] round_filter input=16 output=16\n",
            "I0319 08:06:05.489298 140311022638912 efficientnet_model.py:144] round_filter input=24 output=24\n",
            "I0319 08:06:05.877879 140311022638912 efficientnet_model.py:144] round_filter input=24 output=24\n",
            "I0319 08:06:05.878112 140311022638912 efficientnet_model.py:144] round_filter input=40 output=48\n",
            "I0319 08:06:06.253257 140311022638912 efficientnet_model.py:144] round_filter input=40 output=48\n",
            "I0319 08:06:06.253429 140311022638912 efficientnet_model.py:144] round_filter input=80 output=88\n",
            "I0319 08:06:06.723288 140311022638912 efficientnet_model.py:144] round_filter input=80 output=88\n",
            "I0319 08:06:06.723455 140311022638912 efficientnet_model.py:144] round_filter input=112 output=120\n",
            "I0319 08:06:07.229198 140311022638912 efficientnet_model.py:144] round_filter input=112 output=120\n",
            "I0319 08:06:07.229378 140311022638912 efficientnet_model.py:144] round_filter input=192 output=208\n",
            "I0319 08:06:08.041429 140311022638912 efficientnet_model.py:144] round_filter input=192 output=208\n",
            "I0319 08:06:08.041607 140311022638912 efficientnet_model.py:144] round_filter input=320 output=352\n",
            "I0319 08:06:08.343949 140311022638912 efficientnet_model.py:144] round_filter input=1280 output=1408\n",
            "I0319 08:06:08.412060 140311022638912 efficientnet_model.py:454] Building model efficientnet with params ModelConfig(width_coefficient=1.1, depth_coefficient=1.2, resolution=260, dropout_rate=0.3, blocks=(BlockConfig(input_filters=32, output_filters=16, kernel_size=3, num_repeat=1, expand_ratio=1, strides=(1, 1), se_ratio=0.25, id_skip=True, fused_conv=False, conv_type='depthwise'), BlockConfig(input_filters=16, output_filters=24, kernel_size=3, num_repeat=2, expand_ratio=6, strides=(2, 2), se_ratio=0.25, id_skip=True, fused_conv=False, conv_type='depthwise'), BlockConfig(input_filters=24, output_filters=40, kernel_size=5, num_repeat=2, expand_ratio=6, strides=(2, 2), se_ratio=0.25, id_skip=True, fused_conv=False, conv_type='depthwise'), BlockConfig(input_filters=40, output_filters=80, kernel_size=3, num_repeat=3, expand_ratio=6, strides=(2, 2), se_ratio=0.25, id_skip=True, fused_conv=False, conv_type='depthwise'), BlockConfig(input_filters=80, output_filters=112, kernel_size=5, num_repeat=3, expand_ratio=6, strides=(1, 1), se_ratio=0.25, id_skip=True, fused_conv=False, conv_type='depthwise'), BlockConfig(input_filters=112, output_filters=192, kernel_size=5, num_repeat=4, expand_ratio=6, strides=(2, 2), se_ratio=0.25, id_skip=True, fused_conv=False, conv_type='depthwise'), BlockConfig(input_filters=192, output_filters=320, kernel_size=3, num_repeat=1, expand_ratio=6, strides=(1, 1), se_ratio=0.25, id_skip=True, fused_conv=False, conv_type='depthwise')), stem_base_filters=32, top_base_filters=1280, activation='simple_swish', batch_norm='default', bn_momentum=0.99, bn_epsilon=0.001, weight_decay=5e-06, drop_connect_rate=0.2, depth_divisor=8, min_depth=None, use_se=True, input_channels=3, num_classes=1000, model_name='efficientnet', rescale_input=False, data_format='channels_last', dtype='float32')\n",
            "I0319 08:06:08.512984 140311022638912 ssd_efficientnet_bifpn_feature_extractor.py:145] EfficientDet EfficientNet backbone version: efficientnet-b3\n",
            "I0319 08:06:08.513257 140311022638912 ssd_efficientnet_bifpn_feature_extractor.py:147] EfficientDet BiFPN num filters: 160\n",
            "I0319 08:06:08.513367 140311022638912 ssd_efficientnet_bifpn_feature_extractor.py:148] EfficientDet BiFPN num iterations: 6\n",
            "I0319 08:06:08.515999 140311022638912 efficientnet_model.py:144] round_filter input=32 output=40\n",
            "I0319 08:06:08.547397 140311022638912 efficientnet_model.py:144] round_filter input=32 output=40\n",
            "I0319 08:06:08.547595 140311022638912 efficientnet_model.py:144] round_filter input=16 output=24\n",
            "I0319 08:06:08.818105 140311022638912 efficientnet_model.py:144] round_filter input=16 output=24\n",
            "I0319 08:06:08.818390 140311022638912 efficientnet_model.py:144] round_filter input=24 output=32\n",
            "I0319 08:06:09.218688 140311022638912 efficientnet_model.py:144] round_filter input=24 output=32\n",
            "I0319 08:06:09.218883 140311022638912 efficientnet_model.py:144] round_filter input=40 output=48\n",
            "I0319 08:06:09.631668 140311022638912 efficientnet_model.py:144] round_filter input=40 output=48\n",
            "I0319 08:06:09.631849 140311022638912 efficientnet_model.py:144] round_filter input=80 output=96\n",
            "I0319 08:06:10.268610 140311022638912 efficientnet_model.py:144] round_filter input=80 output=96\n",
            "I0319 08:06:10.268836 140311022638912 efficientnet_model.py:144] round_filter input=112 output=136\n",
            "I0319 08:06:10.901246 140311022638912 efficientnet_model.py:144] round_filter input=112 output=136\n",
            "I0319 08:06:10.901463 140311022638912 efficientnet_model.py:144] round_filter input=192 output=232\n",
            "I0319 08:06:11.787088 140311022638912 efficientnet_model.py:144] round_filter input=192 output=232\n",
            "I0319 08:06:11.787298 140311022638912 efficientnet_model.py:144] round_filter input=320 output=384\n",
            "I0319 08:06:12.179841 140311022638912 efficientnet_model.py:144] round_filter input=1280 output=1536\n",
            "I0319 08:06:12.254963 140311022638912 efficientnet_model.py:454] Building model efficientnet with params ModelConfig(width_coefficient=1.2, depth_coefficient=1.4, resolution=300, dropout_rate=0.3, blocks=(BlockConfig(input_filters=32, output_filters=16, kernel_size=3, num_repeat=1, expand_ratio=1, strides=(1, 1), se_ratio=0.25, id_skip=True, fused_conv=False, conv_type='depthwise'), BlockConfig(input_filters=16, output_filters=24, kernel_size=3, num_repeat=2, expand_ratio=6, strides=(2, 2), se_ratio=0.25, id_skip=True, fused_conv=False, conv_type='depthwise'), BlockConfig(input_filters=24, output_filters=40, kernel_size=5, num_repeat=2, expand_ratio=6, strides=(2, 2), se_ratio=0.25, id_skip=True, fused_conv=False, conv_type='depthwise'), BlockConfig(input_filters=40, output_filters=80, kernel_size=3, num_repeat=3, expand_ratio=6, strides=(2, 2), se_ratio=0.25, id_skip=True, fused_conv=False, conv_type='depthwise'), BlockConfig(input_filters=80, output_filters=112, kernel_size=5, num_repeat=3, expand_ratio=6, strides=(1, 1), se_ratio=0.25, id_skip=True, fused_conv=False, conv_type='depthwise'), BlockConfig(input_filters=112, output_filters=192, kernel_size=5, num_repeat=4, expand_ratio=6, strides=(2, 2), se_ratio=0.25, id_skip=True, fused_conv=False, conv_type='depthwise'), BlockConfig(input_filters=192, output_filters=320, kernel_size=3, num_repeat=1, expand_ratio=6, strides=(1, 1), se_ratio=0.25, id_skip=True, fused_conv=False, conv_type='depthwise')), stem_base_filters=32, top_base_filters=1280, activation='simple_swish', batch_norm='default', bn_momentum=0.99, bn_epsilon=0.001, weight_decay=5e-06, drop_connect_rate=0.2, depth_divisor=8, min_depth=None, use_se=True, input_channels=3, num_classes=1000, model_name='efficientnet', rescale_input=False, data_format='channels_last', dtype='float32')\n",
            "I0319 08:06:12.366587 140311022638912 ssd_efficientnet_bifpn_feature_extractor.py:145] EfficientDet EfficientNet backbone version: efficientnet-b4\n",
            "I0319 08:06:12.366920 140311022638912 ssd_efficientnet_bifpn_feature_extractor.py:147] EfficientDet BiFPN num filters: 224\n",
            "I0319 08:06:12.367012 140311022638912 ssd_efficientnet_bifpn_feature_extractor.py:148] EfficientDet BiFPN num iterations: 7\n",
            "I0319 08:06:12.369560 140311022638912 efficientnet_model.py:144] round_filter input=32 output=48\n",
            "I0319 08:06:12.399770 140311022638912 efficientnet_model.py:144] round_filter input=32 output=48\n",
            "I0319 08:06:12.400056 140311022638912 efficientnet_model.py:144] round_filter input=16 output=24\n",
            "I0319 08:06:12.666418 140311022638912 efficientnet_model.py:144] round_filter input=16 output=24\n",
            "I0319 08:06:12.666692 140311022638912 efficientnet_model.py:144] round_filter input=24 output=32\n",
            "I0319 08:06:13.200784 140311022638912 efficientnet_model.py:144] round_filter input=24 output=32\n",
            "I0319 08:06:13.200991 140311022638912 efficientnet_model.py:144] round_filter input=40 output=56\n",
            "I0319 08:06:13.785359 140311022638912 efficientnet_model.py:144] round_filter input=40 output=56\n",
            "I0319 08:06:13.785584 140311022638912 efficientnet_model.py:144] round_filter input=80 output=112\n",
            "I0319 08:06:14.918690 140311022638912 efficientnet_model.py:144] round_filter input=80 output=112\n",
            "I0319 08:06:14.918984 140311022638912 efficientnet_model.py:144] round_filter input=112 output=160\n",
            "I0319 08:06:16.284015 140311022638912 efficientnet_model.py:144] round_filter input=112 output=160\n",
            "I0319 08:06:16.284455 140311022638912 efficientnet_model.py:144] round_filter input=192 output=272\n",
            "I0319 08:06:18.125655 140311022638912 efficientnet_model.py:144] round_filter input=192 output=272\n",
            "I0319 08:06:18.125935 140311022638912 efficientnet_model.py:144] round_filter input=320 output=448\n",
            "I0319 08:06:18.529074 140311022638912 efficientnet_model.py:144] round_filter input=1280 output=1792\n",
            "I0319 08:06:18.625071 140311022638912 efficientnet_model.py:454] Building model efficientnet with params ModelConfig(width_coefficient=1.4, depth_coefficient=1.8, resolution=380, dropout_rate=0.4, blocks=(BlockConfig(input_filters=32, output_filters=16, kernel_size=3, num_repeat=1, expand_ratio=1, strides=(1, 1), se_ratio=0.25, id_skip=True, fused_conv=False, conv_type='depthwise'), BlockConfig(input_filters=16, output_filters=24, kernel_size=3, num_repeat=2, expand_ratio=6, strides=(2, 2), se_ratio=0.25, id_skip=True, fused_conv=False, conv_type='depthwise'), BlockConfig(input_filters=24, output_filters=40, kernel_size=5, num_repeat=2, expand_ratio=6, strides=(2, 2), se_ratio=0.25, id_skip=True, fused_conv=False, conv_type='depthwise'), BlockConfig(input_filters=40, output_filters=80, kernel_size=3, num_repeat=3, expand_ratio=6, strides=(2, 2), se_ratio=0.25, id_skip=True, fused_conv=False, conv_type='depthwise'), BlockConfig(input_filters=80, output_filters=112, kernel_size=5, num_repeat=3, expand_ratio=6, strides=(1, 1), se_ratio=0.25, id_skip=True, fused_conv=False, conv_type='depthwise'), BlockConfig(input_filters=112, output_filters=192, kernel_size=5, num_repeat=4, expand_ratio=6, strides=(2, 2), se_ratio=0.25, id_skip=True, fused_conv=False, conv_type='depthwise'), BlockConfig(input_filters=192, output_filters=320, kernel_size=3, num_repeat=1, expand_ratio=6, strides=(1, 1), se_ratio=0.25, id_skip=True, fused_conv=False, conv_type='depthwise')), stem_base_filters=32, top_base_filters=1280, activation='simple_swish', batch_norm='default', bn_momentum=0.99, bn_epsilon=0.001, weight_decay=5e-06, drop_connect_rate=0.2, depth_divisor=8, min_depth=None, use_se=True, input_channels=3, num_classes=1000, model_name='efficientnet', rescale_input=False, data_format='channels_last', dtype='float32')\n",
            "I0319 08:06:18.759772 140311022638912 ssd_efficientnet_bifpn_feature_extractor.py:145] EfficientDet EfficientNet backbone version: efficientnet-b5\n",
            "I0319 08:06:18.760027 140311022638912 ssd_efficientnet_bifpn_feature_extractor.py:147] EfficientDet BiFPN num filters: 288\n",
            "I0319 08:06:18.760118 140311022638912 ssd_efficientnet_bifpn_feature_extractor.py:148] EfficientDet BiFPN num iterations: 7\n",
            "I0319 08:06:18.762543 140311022638912 efficientnet_model.py:144] round_filter input=32 output=48\n",
            "I0319 08:06:18.798438 140311022638912 efficientnet_model.py:144] round_filter input=32 output=48\n",
            "I0319 08:06:18.798722 140311022638912 efficientnet_model.py:144] round_filter input=16 output=24\n",
            "I0319 08:06:19.197390 140311022638912 efficientnet_model.py:144] round_filter input=16 output=24\n",
            "I0319 08:06:19.197608 140311022638912 efficientnet_model.py:144] round_filter input=24 output=40\n",
            "I0319 08:06:19.873322 140311022638912 efficientnet_model.py:144] round_filter input=24 output=40\n",
            "I0319 08:06:19.873520 140311022638912 efficientnet_model.py:144] round_filter input=40 output=64\n",
            "I0319 08:06:20.495793 140311022638912 efficientnet_model.py:144] round_filter input=40 output=64\n",
            "I0319 08:06:20.496073 140311022638912 efficientnet_model.py:144] round_filter input=80 output=128\n",
            "I0319 08:06:21.425385 140311022638912 efficientnet_model.py:144] round_filter input=80 output=128\n",
            "I0319 08:06:21.425630 140311022638912 efficientnet_model.py:144] round_filter input=112 output=176\n",
            "I0319 08:06:22.358765 140311022638912 efficientnet_model.py:144] round_filter input=112 output=176\n",
            "I0319 08:06:22.358988 140311022638912 efficientnet_model.py:144] round_filter input=192 output=304\n",
            "I0319 08:06:23.673200 140311022638912 efficientnet_model.py:144] round_filter input=192 output=304\n",
            "I0319 08:06:23.673404 140311022638912 efficientnet_model.py:144] round_filter input=320 output=512\n",
            "I0319 08:06:24.253585 140311022638912 efficientnet_model.py:144] round_filter input=1280 output=2048\n",
            "I0319 08:06:24.363549 140311022638912 efficientnet_model.py:454] Building model efficientnet with params ModelConfig(width_coefficient=1.6, depth_coefficient=2.2, resolution=456, dropout_rate=0.4, blocks=(BlockConfig(input_filters=32, output_filters=16, kernel_size=3, num_repeat=1, expand_ratio=1, strides=(1, 1), se_ratio=0.25, id_skip=True, fused_conv=False, conv_type='depthwise'), BlockConfig(input_filters=16, output_filters=24, kernel_size=3, num_repeat=2, expand_ratio=6, strides=(2, 2), se_ratio=0.25, id_skip=True, fused_conv=False, conv_type='depthwise'), BlockConfig(input_filters=24, output_filters=40, kernel_size=5, num_repeat=2, expand_ratio=6, strides=(2, 2), se_ratio=0.25, id_skip=True, fused_conv=False, conv_type='depthwise'), BlockConfig(input_filters=40, output_filters=80, kernel_size=3, num_repeat=3, expand_ratio=6, strides=(2, 2), se_ratio=0.25, id_skip=True, fused_conv=False, conv_type='depthwise'), BlockConfig(input_filters=80, output_filters=112, kernel_size=5, num_repeat=3, expand_ratio=6, strides=(1, 1), se_ratio=0.25, id_skip=True, fused_conv=False, conv_type='depthwise'), BlockConfig(input_filters=112, output_filters=192, kernel_size=5, num_repeat=4, expand_ratio=6, strides=(2, 2), se_ratio=0.25, id_skip=True, fused_conv=False, conv_type='depthwise'), BlockConfig(input_filters=192, output_filters=320, kernel_size=3, num_repeat=1, expand_ratio=6, strides=(1, 1), se_ratio=0.25, id_skip=True, fused_conv=False, conv_type='depthwise')), stem_base_filters=32, top_base_filters=1280, activation='simple_swish', batch_norm='default', bn_momentum=0.99, bn_epsilon=0.001, weight_decay=5e-06, drop_connect_rate=0.2, depth_divisor=8, min_depth=None, use_se=True, input_channels=3, num_classes=1000, model_name='efficientnet', rescale_input=False, data_format='channels_last', dtype='float32')\n",
            "I0319 08:06:24.527297 140311022638912 ssd_efficientnet_bifpn_feature_extractor.py:145] EfficientDet EfficientNet backbone version: efficientnet-b6\n",
            "I0319 08:06:24.527541 140311022638912 ssd_efficientnet_bifpn_feature_extractor.py:147] EfficientDet BiFPN num filters: 384\n",
            "I0319 08:06:24.527629 140311022638912 ssd_efficientnet_bifpn_feature_extractor.py:148] EfficientDet BiFPN num iterations: 8\n",
            "I0319 08:06:24.530069 140311022638912 efficientnet_model.py:144] round_filter input=32 output=56\n",
            "I0319 08:06:24.564478 140311022638912 efficientnet_model.py:144] round_filter input=32 output=56\n",
            "I0319 08:06:24.564728 140311022638912 efficientnet_model.py:144] round_filter input=16 output=32\n",
            "I0319 08:06:24.926488 140311022638912 efficientnet_model.py:144] round_filter input=16 output=32\n",
            "I0319 08:06:24.926711 140311022638912 efficientnet_model.py:144] round_filter input=24 output=40\n",
            "I0319 08:06:25.747919 140311022638912 efficientnet_model.py:144] round_filter input=24 output=40\n",
            "I0319 08:06:25.748135 140311022638912 efficientnet_model.py:144] round_filter input=40 output=72\n",
            "I0319 08:06:26.877460 140311022638912 efficientnet_model.py:144] round_filter input=40 output=72\n",
            "I0319 08:06:26.877688 140311022638912 efficientnet_model.py:144] round_filter input=80 output=144\n",
            "I0319 08:06:28.068326 140311022638912 efficientnet_model.py:144] round_filter input=80 output=144\n",
            "I0319 08:06:28.068524 140311022638912 efficientnet_model.py:144] round_filter input=112 output=200\n",
            "I0319 08:06:29.375974 140311022638912 efficientnet_model.py:144] round_filter input=112 output=200\n",
            "I0319 08:06:29.376266 140311022638912 efficientnet_model.py:144] round_filter input=192 output=344\n",
            "I0319 08:06:31.299307 140311022638912 efficientnet_model.py:144] round_filter input=192 output=344\n",
            "I0319 08:06:31.299550 140311022638912 efficientnet_model.py:144] round_filter input=320 output=576\n",
            "I0319 08:06:31.951299 140311022638912 efficientnet_model.py:144] round_filter input=1280 output=2304\n",
            "I0319 08:06:32.046086 140311022638912 efficientnet_model.py:454] Building model efficientnet with params ModelConfig(width_coefficient=1.8, depth_coefficient=2.6, resolution=528, dropout_rate=0.5, blocks=(BlockConfig(input_filters=32, output_filters=16, kernel_size=3, num_repeat=1, expand_ratio=1, strides=(1, 1), se_ratio=0.25, id_skip=True, fused_conv=False, conv_type='depthwise'), BlockConfig(input_filters=16, output_filters=24, kernel_size=3, num_repeat=2, expand_ratio=6, strides=(2, 2), se_ratio=0.25, id_skip=True, fused_conv=False, conv_type='depthwise'), BlockConfig(input_filters=24, output_filters=40, kernel_size=5, num_repeat=2, expand_ratio=6, strides=(2, 2), se_ratio=0.25, id_skip=True, fused_conv=False, conv_type='depthwise'), BlockConfig(input_filters=40, output_filters=80, kernel_size=3, num_repeat=3, expand_ratio=6, strides=(2, 2), se_ratio=0.25, id_skip=True, fused_conv=False, conv_type='depthwise'), BlockConfig(input_filters=80, output_filters=112, kernel_size=5, num_repeat=3, expand_ratio=6, strides=(1, 1), se_ratio=0.25, id_skip=True, fused_conv=False, conv_type='depthwise'), BlockConfig(input_filters=112, output_filters=192, kernel_size=5, num_repeat=4, expand_ratio=6, strides=(2, 2), se_ratio=0.25, id_skip=True, fused_conv=False, conv_type='depthwise'), BlockConfig(input_filters=192, output_filters=320, kernel_size=3, num_repeat=1, expand_ratio=6, strides=(1, 1), se_ratio=0.25, id_skip=True, fused_conv=False, conv_type='depthwise')), stem_base_filters=32, top_base_filters=1280, activation='simple_swish', batch_norm='default', bn_momentum=0.99, bn_epsilon=0.001, weight_decay=5e-06, drop_connect_rate=0.2, depth_divisor=8, min_depth=None, use_se=True, input_channels=3, num_classes=1000, model_name='efficientnet', rescale_input=False, data_format='channels_last', dtype='float32')\n",
            "I0319 08:06:32.236323 140311022638912 ssd_efficientnet_bifpn_feature_extractor.py:145] EfficientDet EfficientNet backbone version: efficientnet-b7\n",
            "I0319 08:06:32.236601 140311022638912 ssd_efficientnet_bifpn_feature_extractor.py:147] EfficientDet BiFPN num filters: 384\n",
            "I0319 08:06:32.236727 140311022638912 ssd_efficientnet_bifpn_feature_extractor.py:148] EfficientDet BiFPN num iterations: 8\n",
            "I0319 08:06:32.240111 140311022638912 efficientnet_model.py:144] round_filter input=32 output=64\n",
            "I0319 08:06:32.271825 140311022638912 efficientnet_model.py:144] round_filter input=32 output=64\n",
            "I0319 08:06:32.272042 140311022638912 efficientnet_model.py:144] round_filter input=16 output=32\n",
            "I0319 08:06:32.762047 140311022638912 efficientnet_model.py:144] round_filter input=16 output=32\n",
            "I0319 08:06:32.762412 140311022638912 efficientnet_model.py:144] round_filter input=24 output=48\n",
            "I0319 08:06:33.623474 140311022638912 efficientnet_model.py:144] round_filter input=24 output=48\n",
            "I0319 08:06:33.623677 140311022638912 efficientnet_model.py:144] round_filter input=40 output=80\n",
            "I0319 08:06:34.493298 140311022638912 efficientnet_model.py:144] round_filter input=40 output=80\n",
            "I0319 08:06:34.493485 140311022638912 efficientnet_model.py:144] round_filter input=80 output=160\n",
            "I0319 08:06:36.016151 140311022638912 efficientnet_model.py:144] round_filter input=80 output=160\n",
            "I0319 08:06:36.016357 140311022638912 efficientnet_model.py:144] round_filter input=112 output=224\n",
            "I0319 08:06:37.684968 140311022638912 efficientnet_model.py:144] round_filter input=112 output=224\n",
            "I0319 08:06:37.685152 140311022638912 efficientnet_model.py:144] round_filter input=192 output=384\n",
            "I0319 08:06:40.008987 140311022638912 efficientnet_model.py:144] round_filter input=192 output=384\n",
            "I0319 08:06:40.009287 140311022638912 efficientnet_model.py:144] round_filter input=320 output=640\n",
            "I0319 08:06:41.005900 140311022638912 efficientnet_model.py:144] round_filter input=1280 output=2560\n",
            "I0319 08:06:41.114034 140311022638912 efficientnet_model.py:454] Building model efficientnet with params ModelConfig(width_coefficient=2.0, depth_coefficient=3.1, resolution=600, dropout_rate=0.5, blocks=(BlockConfig(input_filters=32, output_filters=16, kernel_size=3, num_repeat=1, expand_ratio=1, strides=(1, 1), se_ratio=0.25, id_skip=True, fused_conv=False, conv_type='depthwise'), BlockConfig(input_filters=16, output_filters=24, kernel_size=3, num_repeat=2, expand_ratio=6, strides=(2, 2), se_ratio=0.25, id_skip=True, fused_conv=False, conv_type='depthwise'), BlockConfig(input_filters=24, output_filters=40, kernel_size=5, num_repeat=2, expand_ratio=6, strides=(2, 2), se_ratio=0.25, id_skip=True, fused_conv=False, conv_type='depthwise'), BlockConfig(input_filters=40, output_filters=80, kernel_size=3, num_repeat=3, expand_ratio=6, strides=(2, 2), se_ratio=0.25, id_skip=True, fused_conv=False, conv_type='depthwise'), BlockConfig(input_filters=80, output_filters=112, kernel_size=5, num_repeat=3, expand_ratio=6, strides=(1, 1), se_ratio=0.25, id_skip=True, fused_conv=False, conv_type='depthwise'), BlockConfig(input_filters=112, output_filters=192, kernel_size=5, num_repeat=4, expand_ratio=6, strides=(2, 2), se_ratio=0.25, id_skip=True, fused_conv=False, conv_type='depthwise'), BlockConfig(input_filters=192, output_filters=320, kernel_size=3, num_repeat=1, expand_ratio=6, strides=(1, 1), se_ratio=0.25, id_skip=True, fused_conv=False, conv_type='depthwise')), stem_base_filters=32, top_base_filters=1280, activation='simple_swish', batch_norm='default', bn_momentum=0.99, bn_epsilon=0.001, weight_decay=5e-06, drop_connect_rate=0.2, depth_divisor=8, min_depth=None, use_se=True, input_channels=3, num_classes=1000, model_name='efficientnet', rescale_input=False, data_format='channels_last', dtype='float32')\n",
            "INFO:tensorflow:time(__main__.ModelBuilderTF2Test.test_create_ssd_models_from_config): 43.5s\n",
            "I0319 08:06:41.354899 140311022638912 test_util.py:2373] time(__main__.ModelBuilderTF2Test.test_create_ssd_models_from_config): 43.5s\n",
            "[       OK ] ModelBuilderTF2Test.test_create_ssd_models_from_config\n",
            "[ RUN      ] ModelBuilderTF2Test.test_invalid_faster_rcnn_batchnorm_update\n",
            "INFO:tensorflow:time(__main__.ModelBuilderTF2Test.test_invalid_faster_rcnn_batchnorm_update): 0.01s\n",
            "I0319 08:06:41.382471 140311022638912 test_util.py:2373] time(__main__.ModelBuilderTF2Test.test_invalid_faster_rcnn_batchnorm_update): 0.01s\n",
            "[       OK ] ModelBuilderTF2Test.test_invalid_faster_rcnn_batchnorm_update\n",
            "[ RUN      ] ModelBuilderTF2Test.test_invalid_first_stage_nms_iou_threshold\n",
            "INFO:tensorflow:time(__main__.ModelBuilderTF2Test.test_invalid_first_stage_nms_iou_threshold): 0.0s\n",
            "I0319 08:06:41.386273 140311022638912 test_util.py:2373] time(__main__.ModelBuilderTF2Test.test_invalid_first_stage_nms_iou_threshold): 0.0s\n",
            "[       OK ] ModelBuilderTF2Test.test_invalid_first_stage_nms_iou_threshold\n",
            "[ RUN      ] ModelBuilderTF2Test.test_invalid_model_config_proto\n",
            "INFO:tensorflow:time(__main__.ModelBuilderTF2Test.test_invalid_model_config_proto): 0.0s\n",
            "I0319 08:06:41.387573 140311022638912 test_util.py:2373] time(__main__.ModelBuilderTF2Test.test_invalid_model_config_proto): 0.0s\n",
            "[       OK ] ModelBuilderTF2Test.test_invalid_model_config_proto\n",
            "[ RUN      ] ModelBuilderTF2Test.test_invalid_second_stage_batch_size\n",
            "INFO:tensorflow:time(__main__.ModelBuilderTF2Test.test_invalid_second_stage_batch_size): 0.0s\n",
            "I0319 08:06:41.391720 140311022638912 test_util.py:2373] time(__main__.ModelBuilderTF2Test.test_invalid_second_stage_batch_size): 0.0s\n",
            "[       OK ] ModelBuilderTF2Test.test_invalid_second_stage_batch_size\n",
            "[ RUN      ] ModelBuilderTF2Test.test_session\n",
            "[  SKIPPED ] ModelBuilderTF2Test.test_session\n",
            "[ RUN      ] ModelBuilderTF2Test.test_unknown_faster_rcnn_feature_extractor\n",
            "INFO:tensorflow:time(__main__.ModelBuilderTF2Test.test_unknown_faster_rcnn_feature_extractor): 0.0s\n",
            "I0319 08:06:41.396000 140311022638912 test_util.py:2373] time(__main__.ModelBuilderTF2Test.test_unknown_faster_rcnn_feature_extractor): 0.0s\n",
            "[       OK ] ModelBuilderTF2Test.test_unknown_faster_rcnn_feature_extractor\n",
            "[ RUN      ] ModelBuilderTF2Test.test_unknown_meta_architecture\n",
            "INFO:tensorflow:time(__main__.ModelBuilderTF2Test.test_unknown_meta_architecture): 0.0s\n",
            "I0319 08:06:41.397052 140311022638912 test_util.py:2373] time(__main__.ModelBuilderTF2Test.test_unknown_meta_architecture): 0.0s\n",
            "[       OK ] ModelBuilderTF2Test.test_unknown_meta_architecture\n",
            "[ RUN      ] ModelBuilderTF2Test.test_unknown_ssd_feature_extractor\n",
            "INFO:tensorflow:time(__main__.ModelBuilderTF2Test.test_unknown_ssd_feature_extractor): 0.0s\n",
            "I0319 08:06:41.399794 140311022638912 test_util.py:2373] time(__main__.ModelBuilderTF2Test.test_unknown_ssd_feature_extractor): 0.0s\n",
            "[       OK ] ModelBuilderTF2Test.test_unknown_ssd_feature_extractor\n",
            "----------------------------------------------------------------------\n",
            "Ran 24 tests in 54.131s\n",
            "\n",
            "OK (skipped=1)\n"
          ]
        }
      ],
      "source": [
        "VERIFICATION_SCRIPT = os.path.join(paths['APIMODEL_PATH'], 'research', 'object_detection', 'builders', 'model_builder_tf2_test.py')\n",
        "# Verify Installation\n",
        "!python {VERIFICATION_SCRIPT}"
      ]
    },
    {
      "cell_type": "code",
      "execution_count": null,
      "metadata": {
        "collapsed": true,
        "id": "KOvNkw_y_IrL",
        "outputId": "c09711f8-ab70-4121-b71f-e7fddb3110c7"
      },
      "outputs": [
        {
          "name": "stdout",
          "output_type": "stream",
          "text": [
            "Requirement already up-to-date: tensorflow in /home/juanyael/Programming/objectsdetection/env/lib/python3.8/site-packages (2.8.0)\n",
            "Requirement already satisfied, skipping upgrade: flatbuffers>=1.12 in /home/juanyael/Programming/objectsdetection/env/lib/python3.8/site-packages (from tensorflow) (2.0)\n",
            "Requirement already satisfied, skipping upgrade: wrapt>=1.11.0 in /home/juanyael/Programming/objectsdetection/env/lib/python3.8/site-packages (from tensorflow) (1.13.3)\n",
            "Requirement already satisfied, skipping upgrade: keras<2.9,>=2.8.0rc0 in /home/juanyael/Programming/objectsdetection/env/lib/python3.8/site-packages (from tensorflow) (2.8.0)\n",
            "Requirement already satisfied, skipping upgrade: libclang>=9.0.1 in /home/juanyael/Programming/objectsdetection/env/lib/python3.8/site-packages (from tensorflow) (13.0.0)\n",
            "Requirement already satisfied, skipping upgrade: protobuf>=3.9.2 in /home/juanyael/Programming/objectsdetection/env/lib/python3.8/site-packages (from tensorflow) (3.20.0)\n",
            "Requirement already satisfied, skipping upgrade: gast>=0.2.1 in /home/juanyael/Programming/objectsdetection/env/lib/python3.8/site-packages (from tensorflow) (0.5.3)\n",
            "Requirement already satisfied, skipping upgrade: numpy>=1.20 in /home/juanyael/Programming/objectsdetection/env/lib/python3.8/site-packages (from tensorflow) (1.21.5)\n",
            "Requirement already satisfied, skipping upgrade: astunparse>=1.6.0 in /home/juanyael/Programming/objectsdetection/env/lib/python3.8/site-packages (from tensorflow) (1.6.3)\n",
            "Requirement already satisfied, skipping upgrade: termcolor>=1.1.0 in /home/juanyael/Programming/objectsdetection/env/lib/python3.8/site-packages (from tensorflow) (1.1.0)\n",
            "Requirement already satisfied, skipping upgrade: opt-einsum>=2.3.2 in /home/juanyael/Programming/objectsdetection/env/lib/python3.8/site-packages (from tensorflow) (3.3.0)\n",
            "Requirement already satisfied, skipping upgrade: tensorboard<2.9,>=2.8 in /home/juanyael/Programming/objectsdetection/env/lib/python3.8/site-packages (from tensorflow) (2.8.0)\n",
            "Requirement already satisfied, skipping upgrade: six>=1.12.0 in /home/juanyael/Programming/objectsdetection/env/lib/python3.8/site-packages (from tensorflow) (1.16.0)\n",
            "Requirement already satisfied, skipping upgrade: absl-py>=0.4.0 in /home/juanyael/Programming/objectsdetection/env/lib/python3.8/site-packages (from tensorflow) (1.0.0)\n",
            "Requirement already satisfied, skipping upgrade: tf-estimator-nightly==2.8.0.dev2021122109 in /home/juanyael/Programming/objectsdetection/env/lib/python3.8/site-packages (from tensorflow) (2.8.0.dev2021122109)\n",
            "Requirement already satisfied, skipping upgrade: h5py>=2.9.0 in /home/juanyael/Programming/objectsdetection/env/lib/python3.8/site-packages (from tensorflow) (3.6.0)\n",
            "Requirement already satisfied, skipping upgrade: keras-preprocessing>=1.1.1 in /home/juanyael/Programming/objectsdetection/env/lib/python3.8/site-packages (from tensorflow) (1.1.2)\n",
            "Requirement already satisfied, skipping upgrade: typing-extensions>=3.6.6 in /home/juanyael/Programming/objectsdetection/env/lib/python3.8/site-packages (from tensorflow) (4.1.1)\n",
            "Requirement already satisfied, skipping upgrade: tensorflow-io-gcs-filesystem>=0.23.1 in /home/juanyael/Programming/objectsdetection/env/lib/python3.8/site-packages (from tensorflow) (0.24.0)\n",
            "Requirement already satisfied, skipping upgrade: setuptools in /home/juanyael/Programming/objectsdetection/env/lib/python3.8/site-packages (from tensorflow) (44.0.0)\n",
            "Requirement already satisfied, skipping upgrade: grpcio<2.0,>=1.24.3 in /home/juanyael/Programming/objectsdetection/env/lib/python3.8/site-packages (from tensorflow) (1.44.0)\n",
            "Requirement already satisfied, skipping upgrade: google-pasta>=0.1.1 in /home/juanyael/Programming/objectsdetection/env/lib/python3.8/site-packages (from tensorflow) (0.2.0)\n",
            "Requirement already satisfied, skipping upgrade: wheel<1.0,>=0.23.0 in /home/juanyael/Programming/objectsdetection/env/lib/python3.8/site-packages (from astunparse>=1.6.0->tensorflow) (0.37.1)\n",
            "Requirement already satisfied, skipping upgrade: google-auth-oauthlib<0.5,>=0.4.1 in /home/juanyael/Programming/objectsdetection/env/lib/python3.8/site-packages (from tensorboard<2.9,>=2.8->tensorflow) (0.4.6)\n",
            "Requirement already satisfied, skipping upgrade: markdown>=2.6.8 in /home/juanyael/Programming/objectsdetection/env/lib/python3.8/site-packages (from tensorboard<2.9,>=2.8->tensorflow) (3.3.6)\n",
            "Requirement already satisfied, skipping upgrade: tensorboard-plugin-wit>=1.6.0 in /home/juanyael/Programming/objectsdetection/env/lib/python3.8/site-packages (from tensorboard<2.9,>=2.8->tensorflow) (1.8.1)\n",
            "Requirement already satisfied, skipping upgrade: tensorboard-data-server<0.7.0,>=0.6.0 in /home/juanyael/Programming/objectsdetection/env/lib/python3.8/site-packages (from tensorboard<2.9,>=2.8->tensorflow) (0.6.1)\n",
            "Requirement already satisfied, skipping upgrade: google-auth<3,>=1.6.3 in /home/juanyael/Programming/objectsdetection/env/lib/python3.8/site-packages (from tensorboard<2.9,>=2.8->tensorflow) (2.6.0)\n",
            "Requirement already satisfied, skipping upgrade: requests<3,>=2.21.0 in /home/juanyael/Programming/objectsdetection/env/lib/python3.8/site-packages (from tensorboard<2.9,>=2.8->tensorflow) (2.27.1)\n",
            "Requirement already satisfied, skipping upgrade: werkzeug>=0.11.15 in /home/juanyael/Programming/objectsdetection/env/lib/python3.8/site-packages (from tensorboard<2.9,>=2.8->tensorflow) (2.0.3)\n",
            "Requirement already satisfied, skipping upgrade: requests-oauthlib>=0.7.0 in /home/juanyael/Programming/objectsdetection/env/lib/python3.8/site-packages (from google-auth-oauthlib<0.5,>=0.4.1->tensorboard<2.9,>=2.8->tensorflow) (1.3.1)\n",
            "Requirement already satisfied, skipping upgrade: importlib-metadata>=4.4; python_version < \"3.10\" in /home/juanyael/Programming/objectsdetection/env/lib/python3.8/site-packages (from markdown>=2.6.8->tensorboard<2.9,>=2.8->tensorflow) (4.11.2)\n",
            "Requirement already satisfied, skipping upgrade: pyasn1-modules>=0.2.1 in /home/juanyael/Programming/objectsdetection/env/lib/python3.8/site-packages (from google-auth<3,>=1.6.3->tensorboard<2.9,>=2.8->tensorflow) (0.2.8)\n",
            "Requirement already satisfied, skipping upgrade: cachetools<6.0,>=2.0.0 in /home/juanyael/Programming/objectsdetection/env/lib/python3.8/site-packages (from google-auth<3,>=1.6.3->tensorboard<2.9,>=2.8->tensorflow) (5.0.0)\n",
            "Requirement already satisfied, skipping upgrade: rsa<5,>=3.1.4; python_version >= \"3.6\" in /home/juanyael/Programming/objectsdetection/env/lib/python3.8/site-packages (from google-auth<3,>=1.6.3->tensorboard<2.9,>=2.8->tensorflow) (4.8)\n",
            "Requirement already satisfied, skipping upgrade: charset-normalizer~=2.0.0; python_version >= \"3\" in /home/juanyael/Programming/objectsdetection/env/lib/python3.8/site-packages (from requests<3,>=2.21.0->tensorboard<2.9,>=2.8->tensorflow) (2.0.12)\n",
            "Requirement already satisfied, skipping upgrade: idna<4,>=2.5; python_version >= \"3\" in /home/juanyael/Programming/objectsdetection/env/lib/python3.8/site-packages (from requests<3,>=2.21.0->tensorboard<2.9,>=2.8->tensorflow) (3.3)\n",
            "Requirement already satisfied, skipping upgrade: certifi>=2017.4.17 in /home/juanyael/Programming/objectsdetection/env/lib/python3.8/site-packages (from requests<3,>=2.21.0->tensorboard<2.9,>=2.8->tensorflow) (2021.10.8)\n",
            "Requirement already satisfied, skipping upgrade: urllib3<1.27,>=1.21.1 in /home/juanyael/Programming/objectsdetection/env/lib/python3.8/site-packages (from requests<3,>=2.21.0->tensorboard<2.9,>=2.8->tensorflow) (1.26.8)\n",
            "Requirement already satisfied, skipping upgrade: oauthlib>=3.0.0 in /home/juanyael/Programming/objectsdetection/env/lib/python3.8/site-packages (from requests-oauthlib>=0.7.0->google-auth-oauthlib<0.5,>=0.4.1->tensorboard<2.9,>=2.8->tensorflow) (3.2.0)\n",
            "Requirement already satisfied, skipping upgrade: zipp>=0.5 in /home/juanyael/Programming/objectsdetection/env/lib/python3.8/site-packages (from importlib-metadata>=4.4; python_version < \"3.10\"->markdown>=2.6.8->tensorboard<2.9,>=2.8->tensorflow) (3.7.0)\n",
            "Requirement already satisfied, skipping upgrade: pyasn1<0.5.0,>=0.4.6 in /home/juanyael/Programming/objectsdetection/env/lib/python3.8/site-packages (from pyasn1-modules>=0.2.1->google-auth<3,>=1.6.3->tensorboard<2.9,>=2.8->tensorflow) (0.4.8)\n"
          ]
        }
      ],
      "source": [
        "!pip install tensorflow --upgrade"
      ]
    },
    {
      "cell_type": "code",
      "execution_count": null,
      "metadata": {
        "collapsed": true,
        "id": "S1t-AB26_IrO",
        "outputId": "d1cf7d50-eaef-416f-d826-6b8bc234e9ad"
      },
      "outputs": [
        {
          "name": "stdout",
          "output_type": "stream",
          "text": [
            "Found existing installation: protobuf 3.20.0\n",
            "Uninstalling protobuf-3.20.0:\n",
            "  Successfully uninstalled protobuf-3.20.0\n",
            "Found existing installation: matplotlib 3.2.0\n",
            "Uninstalling matplotlib-3.2.0:\n",
            "  Successfully uninstalled matplotlib-3.2.0\n",
            "Collecting protobuf\n",
            "  Using cached protobuf-3.20.0-cp38-cp38-manylinux_2_5_x86_64.manylinux1_x86_64.whl (1.0 MB)\n",
            "Collecting matplotlib==3.2\n",
            "  Using cached matplotlib-3.2.0-cp38-cp38-manylinux1_x86_64.whl (12.4 MB)\n",
            "Requirement already satisfied: kiwisolver>=1.0.1 in /home/juanyael/Programming/objectsdetection/env/lib/python3.8/site-packages (from matplotlib==3.2) (1.3.2)\n",
            "Requirement already satisfied: numpy>=1.11 in /home/juanyael/Programming/objectsdetection/env/lib/python3.8/site-packages (from matplotlib==3.2) (1.21.5)\n",
            "Requirement already satisfied: pyparsing!=2.0.4,!=2.1.2,!=2.1.6,>=2.0.1 in /home/juanyael/Programming/objectsdetection/env/lib/python3.8/site-packages (from matplotlib==3.2) (2.4.2)\n",
            "Requirement already satisfied: python-dateutil>=2.1 in /home/juanyael/Programming/objectsdetection/env/lib/python3.8/site-packages (from matplotlib==3.2) (2.8.2)\n",
            "Requirement already satisfied: cycler>=0.10 in /home/juanyael/Programming/objectsdetection/env/lib/python3.8/site-packages (from matplotlib==3.2) (0.11.0)\n",
            "Requirement already satisfied: six>=1.5 in /home/juanyael/Programming/objectsdetection/env/lib/python3.8/site-packages (from python-dateutil>=2.1->matplotlib==3.2) (1.16.0)\n",
            "Installing collected packages: protobuf, matplotlib\n",
            "Successfully installed matplotlib-3.2.0 protobuf-3.20.0\n"
          ]
        }
      ],
      "source": [
        "!pip uninstall protobuf matplotlib -y\n",
        "!pip install protobuf matplotlib==3.2"
      ]
    },
    {
      "cell_type": "code",
      "execution_count": null,
      "metadata": {
        "id": "HT53dYq1_IrR"
      },
      "outputs": [],
      "source": [
        "import object_detection"
      ]
    },
    {
      "cell_type": "code",
      "execution_count": null,
      "metadata": {
        "scrolled": true,
        "id": "j1DjZjQq_IrS",
        "outputId": "33ce6f20-8e6e-4e95-9ca4-a394058ce2b1"
      },
      "outputs": [
        {
          "name": "stdout",
          "output_type": "stream",
          "text": [
            "Package                       Version            \n",
            "----------------------------- -------------------\n",
            "absl-py                       1.0.0              \n",
            "apache-beam                   2.37.0             \n",
            "asttokens                     2.0.5              \n",
            "astunparse                    1.6.3              \n",
            "avro-python3                  1.10.2             \n",
            "backcall                      0.2.0              \n",
            "cachetools                    5.0.0              \n",
            "certifi                       2021.10.8          \n",
            "charset-normalizer            2.0.12             \n",
            "cloudpickle                   2.0.0              \n",
            "colorama                      0.4.4              \n",
            "contextlib2                   21.6.0             \n",
            "crcmod                        1.7                \n",
            "cycler                        0.11.0             \n",
            "Cython                        0.29.28            \n",
            "debugpy                       1.5.1              \n",
            "decorator                     5.1.1              \n",
            "dill                          0.3.1.1            \n",
            "dm-tree                       0.1.6              \n",
            "docopt                        0.6.2              \n",
            "entrypoints                   0.4                \n",
            "executing                     0.8.3              \n",
            "fastavro                      1.4.10             \n",
            "flatbuffers                   2.0                \n",
            "fonttools                     4.29.1             \n",
            "gast                          0.5.3              \n",
            "gin-config                    0.5.0              \n",
            "google-api-core               2.6.0              \n",
            "google-api-python-client      2.39.0             \n",
            "google-auth                   2.6.0              \n",
            "google-auth-httplib2          0.1.0              \n",
            "google-auth-oauthlib          0.4.6              \n",
            "google-pasta                  0.2.0              \n",
            "googleapis-common-protos      1.55.0             \n",
            "grpcio                        1.44.0             \n",
            "h5py                          3.6.0              \n",
            "hdfs                          2.6.0              \n",
            "httplib2                      0.19.1             \n",
            "idna                          3.3                \n",
            "importlib-metadata            4.11.2             \n",
            "importlib-resources           5.4.0              \n",
            "ipykernel                     6.9.1              \n",
            "ipython                       8.1.1              \n",
            "jedi                          0.18.1             \n",
            "joblib                        1.1.0              \n",
            "jupyter-client                7.1.2              \n",
            "jupyter-core                  4.9.2              \n",
            "kaggle                        1.5.12             \n",
            "keras                         2.8.0              \n",
            "Keras-Preprocessing           1.1.2              \n",
            "kiwisolver                    1.3.2              \n",
            "libclang                      13.0.0             \n",
            "lvis                          0.5.3              \n",
            "lxml                          4.8.0              \n",
            "Markdown                      3.3.6              \n",
            "matplotlib                    3.2.0              \n",
            "matplotlib-inline             0.1.3              \n",
            "nest-asyncio                  1.5.4              \n",
            "numpy                         1.21.5             \n",
            "oauth2client                  4.1.3              \n",
            "oauthlib                      3.2.0              \n",
            "object-detection              0.1                \n",
            "opencv-python                 4.5.5.62           \n",
            "opencv-python-headless        4.5.5.62           \n",
            "opt-einsum                    3.3.0              \n",
            "orjson                        3.6.7              \n",
            "packaging                     21.3               \n",
            "pandas                        1.4.1              \n",
            "parso                         0.8.3              \n",
            "pexpect                       4.8.0              \n",
            "pickleshare                   0.7.5              \n",
            "Pillow                        9.0.1              \n",
            "pip                           20.0.2             \n",
            "pkg-resources                 0.0.0              \n",
            "portalocker                   2.4.0              \n",
            "promise                       2.3                \n",
            "prompt-toolkit                3.0.28             \n",
            "proto-plus                    1.20.3             \n",
            "protobuf                      3.19.4             \n",
            "psutil                        5.9.0              \n",
            "ptyprocess                    0.7.0              \n",
            "pure-eval                     0.2.2              \n",
            "py-cpuinfo                    8.0.0              \n",
            "pyarrow                       6.0.1              \n",
            "pyasn1                        0.4.8              \n",
            "pyasn1-modules                0.2.8              \n",
            "pycocotools                   2.0.4              \n",
            "pydot                         1.4.2              \n",
            "Pygments                      2.11.2             \n",
            "pymongo                       3.12.3             \n",
            "pyparsing                     2.4.2              \n",
            "PyQt5                         5.15.6             \n",
            "PyQt5-Qt5                     5.15.2             \n",
            "PyQt5-sip                     12.9.1             \n",
            "python-dateutil               2.8.2              \n",
            "python-slugify                6.1.1              \n",
            "pytz                          2021.3             \n",
            "PyYAML                        5.4.1              \n",
            "pyzmq                         22.3.0             \n",
            "regex                         2022.3.2           \n",
            "requests                      2.27.1             \n",
            "requests-oauthlib             1.3.1              \n",
            "rsa                           4.8                \n",
            "sacrebleu                     2.0.0              \n",
            "scikit-learn                  1.0.2              \n",
            "scipy                         1.8.0              \n",
            "sentencepiece                 0.1.96             \n",
            "seqeval                       1.2.2              \n",
            "setuptools                    44.0.0             \n",
            "six                           1.16.0             \n",
            "stack-data                    0.2.0              \n",
            "tabulate                      0.8.9              \n",
            "tensorboard                   2.8.0              \n",
            "tensorboard-data-server       0.6.1              \n",
            "tensorboard-plugin-wit        1.8.1              \n",
            "tensorflow                    2.8.0              \n",
            "tensorflow-addons             0.16.1             \n",
            "tensorflow-datasets           4.5.2              \n",
            "tensorflow-hub                0.12.0             \n",
            "tensorflow-io                 0.24.0             \n",
            "tensorflow-io-gcs-filesystem  0.24.0             \n",
            "tensorflow-metadata           1.7.0              \n",
            "tensorflow-model-optimization 0.7.1              \n",
            "tensorflow-text               2.8.1              \n",
            "termcolor                     1.1.0              \n",
            "text-unidecode                1.3                \n",
            "tf-estimator-nightly          2.8.0.dev2021122109\n",
            "tf-models-official            2.8.0              \n",
            "tf-slim                       1.1.0              \n",
            "threadpoolctl                 3.1.0              \n",
            "tornado                       6.1                \n",
            "tqdm                          4.63.0             \n",
            "traitlets                     5.1.1              \n",
            "typeguard                     2.13.3             \n",
            "typing-extensions             4.1.1              \n",
            "uritemplate                   4.1.1              \n",
            "urllib3                       1.26.8             \n",
            "wcwidth                       0.2.5              \n",
            "Werkzeug                      2.0.3              \n",
            "wheel                         0.37.1             \n",
            "wrapt                         1.13.3             \n",
            "zipp                          3.7.0              \n"
          ]
        }
      ],
      "source": [
        "!pip list"
      ]
    },
    {
      "cell_type": "code",
      "execution_count": 28,
      "metadata": {
        "colab": {
          "base_uri": "https://localhost:8080/"
        },
        "id": "csofht2npfDE",
        "outputId": "76269f7d-ac05-4ae5-d60d-e4f68a3f8f86"
      },
      "outputs": [
        {
          "output_type": "stream",
          "name": "stdout",
          "text": [
            "--2022-04-17 05:31:17--  http://download.tensorflow.org/models/object_detection/tf2/20200711/ssd_mobilenet_v2_fpnlite_320x320_coco17_tpu-8.tar.gz\n",
            "Resolving download.tensorflow.org (download.tensorflow.org)... 172.253.62.128, 2607:f8b0:4004:c08::80\n",
            "Connecting to download.tensorflow.org (download.tensorflow.org)|172.253.62.128|:80... connected.\n",
            "HTTP request sent, awaiting response... 200 OK\n",
            "Length: 20515344 (20M) [application/x-tar]\n",
            "Saving to: ‘ssd_mobilenet_v2_fpnlite_320x320_coco17_tpu-8.tar.gz’\n",
            "\n",
            "\r          ssd_mobil   0%[                    ]       0  --.-KB/s               \rssd_mobilenet_v2_fp 100%[===================>]  19.56M  --.-KB/s    in 0.06s   \n",
            "\n",
            "2022-04-17 05:31:17 (328 MB/s) - ‘ssd_mobilenet_v2_fpnlite_320x320_coco17_tpu-8.tar.gz’ saved [20515344/20515344]\n",
            "\n",
            "ssd_mobilenet_v2_fpnlite_320x320_coco17_tpu-8/\n",
            "ssd_mobilenet_v2_fpnlite_320x320_coco17_tpu-8/checkpoint/\n",
            "ssd_mobilenet_v2_fpnlite_320x320_coco17_tpu-8/checkpoint/ckpt-0.data-00000-of-00001\n",
            "ssd_mobilenet_v2_fpnlite_320x320_coco17_tpu-8/checkpoint/checkpoint\n",
            "ssd_mobilenet_v2_fpnlite_320x320_coco17_tpu-8/checkpoint/ckpt-0.index\n",
            "ssd_mobilenet_v2_fpnlite_320x320_coco17_tpu-8/pipeline.config\n",
            "ssd_mobilenet_v2_fpnlite_320x320_coco17_tpu-8/saved_model/\n",
            "ssd_mobilenet_v2_fpnlite_320x320_coco17_tpu-8/saved_model/saved_model.pb\n",
            "ssd_mobilenet_v2_fpnlite_320x320_coco17_tpu-8/saved_model/variables/\n",
            "ssd_mobilenet_v2_fpnlite_320x320_coco17_tpu-8/saved_model/variables/variables.data-00000-of-00001\n",
            "ssd_mobilenet_v2_fpnlite_320x320_coco17_tpu-8/saved_model/variables/variables.index\n"
          ]
        }
      ],
      "source": [
        "if os.name =='posix':\n",
        "    !wget {PRETRAINED_MODEL_URL}\n",
        "    !mv {PRETRAINED_MODEL_NAME+'.tar.gz'} {paths['PRETRAINED_MODEL_PATH']}\n",
        "    !cd {paths['PRETRAINED_MODEL_PATH']} && tar -zxvf {PRETRAINED_MODEL_NAME+'.tar.gz'}\n",
        "if os.name == 'nt':\n",
        "    wget.download(PRETRAINED_MODEL_URL)\n",
        "    !move {PRETRAINED_MODEL_NAME+'.tar.gz'} {paths['PRETRAINED_MODEL_PATH']}\n",
        "    !cd {paths['PRETRAINED_MODEL_PATH']} && tar -zxvf {PRETRAINED_MODEL_NAME+'.tar.gz'}"
      ]
    },
    {
      "cell_type": "markdown",
      "metadata": {
        "id": "M5KJTnkfpfDC"
      },
      "source": [
        "# 2. Create Label Map"
      ]
    },
    {
      "cell_type": "code",
      "execution_count": 29,
      "metadata": {
        "id": "p1BVDWo7pfDC"
      },
      "outputs": [],
      "source": [
        "labels = [{'name':'Chips BARCEL 55gr', 'id':1}]\n",
        "\n",
        "with open(files['LABELMAP'], 'w') as f:\n",
        "    for label in labels:\n",
        "        f.write('item { \\n')\n",
        "        f.write('\\tname:\\'{}\\'\\n'.format(label['name']))\n",
        "        f.write('\\tid:{}\\n'.format(label['id']))\n",
        "        f.write('}\\n')"
      ]
    },
    {
      "cell_type": "markdown",
      "metadata": {
        "id": "C88zyVELpfDC"
      },
      "source": [
        "# 3. Create TF records"
      ]
    },
    {
      "cell_type": "code",
      "execution_count": 30,
      "metadata": {
        "colab": {
          "base_uri": "https://localhost:8080/"
        },
        "id": "kvf5WccwrFGq",
        "outputId": "a5ac0eb0-4e70-4ea7-d920-7a572ee9b547"
      },
      "outputs": [
        {
          "output_type": "stream",
          "name": "stdout",
          "text": [
            "Tensorflow/workspace/images/train/\n",
            "Tensorflow/workspace/images/train/IMG_20220416_145605.xml\n",
            "Tensorflow/workspace/images/train/IMG_20220416_115736.jpg\n",
            "Tensorflow/workspace/images/train/IMG_20220416_115749.xml\n",
            "Tensorflow/workspace/images/train/IMG_20220416_115731.jpg\n",
            "Tensorflow/workspace/images/train/IMG_20220416_115756.xml\n",
            "Tensorflow/workspace/images/train/IMG_20220416_115749.jpg\n",
            "Tensorflow/workspace/images/train/IMG_20220416_115736.xml\n",
            "Tensorflow/workspace/images/train/IMG_20220416_145604.xml\n",
            "Tensorflow/workspace/images/train/IMG_20220416_115753.jpg\n",
            "Tensorflow/workspace/images/train/IMG_20220416_115704.jpg\n",
            "Tensorflow/workspace/images/train/IMG_20220416_115729.jpg\n",
            "Tensorflow/workspace/images/train/IMG_20220416_115717.xml\n",
            "Tensorflow/workspace/images/train/IMG_20220416_115756.jpg\n",
            "Tensorflow/workspace/images/train/IMG_20220416_115740.xml\n",
            "Tensorflow/workspace/images/train/IMG_20220416_115704.xml\n",
            "Tensorflow/workspace/images/train/IMG_20220416_115753.xml\n",
            "Tensorflow/workspace/images/train/IMG_20220416_115717.jpg\n",
            "Tensorflow/workspace/images/train/IMG_20220416_145604.jpg\n",
            "Tensorflow/workspace/images/train/IMG_20220416_115731.xml\n",
            "Tensorflow/workspace/images/train/IMG_20220416_115729.xml\n",
            "Tensorflow/workspace/images/train/IMG_20220416_145605.jpg\n",
            "Tensorflow/workspace/images/train/IMG_20220416_115740.jpg\n",
            "Tensorflow/workspace/images/test/\n",
            "Tensorflow/workspace/images/test/IMG_20220416_115750.xml\n",
            "Tensorflow/workspace/images/test/IMG_20220416_145431.xml\n",
            "Tensorflow/workspace/images/test/IMG_20220416_145525.jpg\n",
            "Tensorflow/workspace/images/test/IMG_20220416_115717.xml\n",
            "Tensorflow/workspace/images/test/IMG_20220416_115750.jpg\n",
            "Tensorflow/workspace/images/test/IMG_20220416_145431.jpg\n",
            "Tensorflow/workspace/images/test/IMG_20220416_115717.jpg\n",
            "Tensorflow/workspace/images/test/IMG_20220416_145525.xml\n"
          ]
        }
      ],
      "source": [
        "# OPTIONAL IF RUNNING ON COLAB\n",
        "ARCHIVE_FILES = os.path.join(paths['IMAGE_PATH'], 'archive.tar.gz')\n",
        "if os.path.exists(ARCHIVE_FILES):\n",
        "  !tar -zxvf {ARCHIVE_FILES}"
      ]
    },
    {
      "cell_type": "markdown",
      "metadata": {
        "id": "jLLuh_69_IrZ"
      },
      "source": [
        "this generates the file that we are going to modify to personallize the models we downloaded to our needs."
      ]
    },
    {
      "cell_type": "code",
      "execution_count": null,
      "metadata": {
        "id": "KWpb_BVUpfDD"
      },
      "outputs": [],
      "source": [
        "if not os.path.exists(files['TF_RECORD_SCRIPT']):\n",
        "    !git clone https://github.com/nicknochnack/GenerateTFRecord {paths['SCRIPTS_PATH']}"
      ]
    },
    {
      "cell_type": "markdown",
      "metadata": {
        "id": "I_02SjJd_Irb"
      },
      "source": [
        "the file"
      ]
    },
    {
      "cell_type": "code",
      "execution_count": 31,
      "metadata": {
        "colab": {
          "base_uri": "https://localhost:8080/"
        },
        "id": "j5y5r_rF_Ird",
        "outputId": "d78bcd84-b325-4fe0-a055-3d3af4ce1344"
      },
      "outputs": [
        {
          "output_type": "stream",
          "name": "stdout",
          "text": [
            "Successfully created the TFRecord file: Tensorflow/workspace/annotations/train.record\n"
          ]
        }
      ],
      "source": [
        "!python {files['TF_RECORD_SCRIPT']} -x {os.path.join(paths['IMAGE_PATH'], 'train')} -l {files['LABELMAP']} -o {os.path.join(paths['ANNOTATION_PATH'], 'train.record')}\n",
        " "
      ]
    },
    {
      "cell_type": "code",
      "execution_count": 32,
      "metadata": {
        "colab": {
          "base_uri": "https://localhost:8080/"
        },
        "id": "UPFToGZqpfDD",
        "outputId": "fff2b3c0-0499-406b-ec90-cfe38c594693"
      },
      "outputs": [
        {
          "output_type": "stream",
          "name": "stdout",
          "text": [
            "Successfully created the TFRecord file: Tensorflow/workspace/annotations/test.record\n"
          ]
        }
      ],
      "source": [
        "!python {files['TF_RECORD_SCRIPT']} -x {os.path.join(paths['IMAGE_PATH'], 'test')} -l {files['LABELMAP']} -o {os.path.join(paths['ANNOTATION_PATH'], 'test.record')} "
      ]
    },
    {
      "cell_type": "markdown",
      "metadata": {
        "id": "qT4QU7pLpfDE"
      },
      "source": [
        "# 4. Copy Model Config to Training Folder"
      ]
    },
    {
      "cell_type": "markdown",
      "metadata": {
        "id": "HkARRQyY_Irg"
      },
      "source": [
        "Copy model so that we can edit it"
      ]
    },
    {
      "cell_type": "code",
      "execution_count": 33,
      "metadata": {
        "id": "cOjuTFbwpfDF"
      },
      "outputs": [],
      "source": [
        "if os.name =='posix':\n",
        "    !cp {os.path.join(paths['PRETRAINED_MODEL_PATH'], PRETRAINED_MODEL_NAME, 'pipeline.config')} {os.path.join(paths['CHECKPOINT_PATH'])}\n",
        "if os.name == 'nt':\n",
        "    !copy {os.path.join(paths['PRETRAINED_MODEL_PATH'], PRETRAINED_MODEL_NAME, 'pipeline.config')} {os.path.join(paths['CHECKPOINT_PATH'])}"
      ]
    },
    {
      "cell_type": "markdown",
      "metadata": {
        "id": "Ga8gpNslpfDF"
      },
      "source": [
        "# 5. Update Config For Transfer Learning"
      ]
    },
    {
      "cell_type": "markdown",
      "metadata": {
        "id": "Z9Nggr46_Irj"
      },
      "source": [
        "All this code modifies the model"
      ]
    },
    {
      "cell_type": "code",
      "execution_count": 34,
      "metadata": {
        "id": "Z9hRrO_ppfDF"
      },
      "outputs": [],
      "source": [
        "import tensorflow as tf\n",
        "from object_detection.utils import config_util\n",
        "from object_detection.protos import pipeline_pb2\n",
        "from google.protobuf import text_format"
      ]
    },
    {
      "cell_type": "code",
      "execution_count": 35,
      "metadata": {
        "id": "c2A0mn4ipfDF"
      },
      "outputs": [],
      "source": [
        "config = config_util.get_configs_from_pipeline_file(files['PIPELINE_CONFIG'])"
      ]
    },
    {
      "cell_type": "code",
      "execution_count": 20,
      "metadata": {
        "colab": {
          "base_uri": "https://localhost:8080/"
        },
        "id": "uQA13-afpfDF",
        "outputId": "cc76c2cc-2b93-4f49-890e-4eabf1f44701"
      },
      "outputs": [
        {
          "output_type": "execute_result",
          "data": {
            "text/plain": [
              "{'eval_config': metrics_set: \"coco_detection_metrics\"\n",
              " use_moving_averages: false,\n",
              " 'eval_input_config': label_map_path: \"PATH_TO_BE_CONFIGURED\"\n",
              " shuffle: false\n",
              " num_epochs: 1\n",
              " tf_record_input_reader {\n",
              "   input_path: \"PATH_TO_BE_CONFIGURED\"\n",
              " },\n",
              " 'eval_input_configs': [label_map_path: \"PATH_TO_BE_CONFIGURED\"\n",
              " shuffle: false\n",
              " num_epochs: 1\n",
              " tf_record_input_reader {\n",
              "   input_path: \"PATH_TO_BE_CONFIGURED\"\n",
              " }\n",
              " ],\n",
              " 'model': ssd {\n",
              "   num_classes: 90\n",
              "   image_resizer {\n",
              "     fixed_shape_resizer {\n",
              "       height: 320\n",
              "       width: 320\n",
              "     }\n",
              "   }\n",
              "   feature_extractor {\n",
              "     type: \"ssd_mobilenet_v2_fpn_keras\"\n",
              "     depth_multiplier: 1.0\n",
              "     min_depth: 16\n",
              "     conv_hyperparams {\n",
              "       regularizer {\n",
              "         l2_regularizer {\n",
              "           weight: 3.9999998989515007e-05\n",
              "         }\n",
              "       }\n",
              "       initializer {\n",
              "         random_normal_initializer {\n",
              "           mean: 0.0\n",
              "           stddev: 0.009999999776482582\n",
              "         }\n",
              "       }\n",
              "       activation: RELU_6\n",
              "       batch_norm {\n",
              "         decay: 0.996999979019165\n",
              "         scale: true\n",
              "         epsilon: 0.0010000000474974513\n",
              "       }\n",
              "     }\n",
              "     use_depthwise: true\n",
              "     override_base_feature_extractor_hyperparams: true\n",
              "     fpn {\n",
              "       min_level: 3\n",
              "       max_level: 7\n",
              "       additional_layer_depth: 128\n",
              "     }\n",
              "   }\n",
              "   box_coder {\n",
              "     faster_rcnn_box_coder {\n",
              "       y_scale: 10.0\n",
              "       x_scale: 10.0\n",
              "       height_scale: 5.0\n",
              "       width_scale: 5.0\n",
              "     }\n",
              "   }\n",
              "   matcher {\n",
              "     argmax_matcher {\n",
              "       matched_threshold: 0.5\n",
              "       unmatched_threshold: 0.5\n",
              "       ignore_thresholds: false\n",
              "       negatives_lower_than_unmatched: true\n",
              "       force_match_for_each_row: true\n",
              "       use_matmul_gather: true\n",
              "     }\n",
              "   }\n",
              "   similarity_calculator {\n",
              "     iou_similarity {\n",
              "     }\n",
              "   }\n",
              "   box_predictor {\n",
              "     weight_shared_convolutional_box_predictor {\n",
              "       conv_hyperparams {\n",
              "         regularizer {\n",
              "           l2_regularizer {\n",
              "             weight: 3.9999998989515007e-05\n",
              "           }\n",
              "         }\n",
              "         initializer {\n",
              "           random_normal_initializer {\n",
              "             mean: 0.0\n",
              "             stddev: 0.009999999776482582\n",
              "           }\n",
              "         }\n",
              "         activation: RELU_6\n",
              "         batch_norm {\n",
              "           decay: 0.996999979019165\n",
              "           scale: true\n",
              "           epsilon: 0.0010000000474974513\n",
              "         }\n",
              "       }\n",
              "       depth: 128\n",
              "       num_layers_before_predictor: 4\n",
              "       kernel_size: 3\n",
              "       class_prediction_bias_init: -4.599999904632568\n",
              "       share_prediction_tower: true\n",
              "       use_depthwise: true\n",
              "     }\n",
              "   }\n",
              "   anchor_generator {\n",
              "     multiscale_anchor_generator {\n",
              "       min_level: 3\n",
              "       max_level: 7\n",
              "       anchor_scale: 4.0\n",
              "       aspect_ratios: 1.0\n",
              "       aspect_ratios: 2.0\n",
              "       aspect_ratios: 0.5\n",
              "       scales_per_octave: 2\n",
              "     }\n",
              "   }\n",
              "   post_processing {\n",
              "     batch_non_max_suppression {\n",
              "       score_threshold: 9.99999993922529e-09\n",
              "       iou_threshold: 0.6000000238418579\n",
              "       max_detections_per_class: 100\n",
              "       max_total_detections: 100\n",
              "       use_static_shapes: false\n",
              "     }\n",
              "     score_converter: SIGMOID\n",
              "   }\n",
              "   normalize_loss_by_num_matches: true\n",
              "   loss {\n",
              "     localization_loss {\n",
              "       weighted_smooth_l1 {\n",
              "       }\n",
              "     }\n",
              "     classification_loss {\n",
              "       weighted_sigmoid_focal {\n",
              "         gamma: 2.0\n",
              "         alpha: 0.25\n",
              "       }\n",
              "     }\n",
              "     classification_weight: 1.0\n",
              "     localization_weight: 1.0\n",
              "   }\n",
              "   encode_background_as_zeros: true\n",
              "   normalize_loc_loss_by_codesize: true\n",
              "   inplace_batchnorm_update: true\n",
              "   freeze_batchnorm: false\n",
              " },\n",
              " 'train_config': batch_size: 128\n",
              " data_augmentation_options {\n",
              "   random_horizontal_flip {\n",
              "   }\n",
              " }\n",
              " data_augmentation_options {\n",
              "   random_crop_image {\n",
              "     min_object_covered: 0.0\n",
              "     min_aspect_ratio: 0.75\n",
              "     max_aspect_ratio: 3.0\n",
              "     min_area: 0.75\n",
              "     max_area: 1.0\n",
              "     overlap_thresh: 0.0\n",
              "   }\n",
              " }\n",
              " sync_replicas: true\n",
              " optimizer {\n",
              "   momentum_optimizer {\n",
              "     learning_rate {\n",
              "       cosine_decay_learning_rate {\n",
              "         learning_rate_base: 0.07999999821186066\n",
              "         total_steps: 50000\n",
              "         warmup_learning_rate: 0.026666000485420227\n",
              "         warmup_steps: 1000\n",
              "       }\n",
              "     }\n",
              "     momentum_optimizer_value: 0.8999999761581421\n",
              "   }\n",
              "   use_moving_average: false\n",
              " }\n",
              " fine_tune_checkpoint: \"PATH_TO_BE_CONFIGURED\"\n",
              " num_steps: 50000\n",
              " startup_delay_steps: 0.0\n",
              " replicas_to_aggregate: 8\n",
              " max_number_of_boxes: 100\n",
              " unpad_groundtruth_tensors: false\n",
              " fine_tune_checkpoint_type: \"classification\"\n",
              " fine_tune_checkpoint_version: V2,\n",
              " 'train_input_config': label_map_path: \"PATH_TO_BE_CONFIGURED\"\n",
              " tf_record_input_reader {\n",
              "   input_path: \"PATH_TO_BE_CONFIGURED\"\n",
              " }}"
            ]
          },
          "metadata": {},
          "execution_count": 20
        }
      ],
      "source": [
        "config"
      ]
    },
    {
      "cell_type": "markdown",
      "metadata": {
        "id": "EdYiuaY6_Irn"
      },
      "source": [
        "Read the file"
      ]
    },
    {
      "cell_type": "code",
      "execution_count": 36,
      "metadata": {
        "id": "9vK5lotDpfDF"
      },
      "outputs": [],
      "source": [
        "pipeline_config = pipeline_pb2.TrainEvalPipelineConfig()\n",
        "with tf.io.gfile.GFile(files['PIPELINE_CONFIG'], \"r\") as f:                                                                                                                                                                                                                     \n",
        "    proto_str = f.read()                                                                                                                                                                                                                                          \n",
        "    text_format.Merge(proto_str, pipeline_config)  "
      ]
    },
    {
      "cell_type": "markdown",
      "metadata": {
        "id": "rR_TZF6R_Irp"
      },
      "source": [
        "Modify the file"
      ]
    },
    {
      "cell_type": "code",
      "execution_count": 37,
      "metadata": {
        "id": "rP43Ph0JpfDG"
      },
      "outputs": [],
      "source": [
        "pipeline_config.model.ssd.num_classes = len(labels)\n",
        "pipeline_config.train_config.batch_size = 4\n",
        "pipeline_config.train_config.fine_tune_checkpoint = os.path.join(paths['PRETRAINED_MODEL_PATH'], PRETRAINED_MODEL_NAME, 'checkpoint', 'ckpt-0')\n",
        "pipeline_config.train_config.fine_tune_checkpoint_type = \"detection\"\n",
        "pipeline_config.train_input_reader.label_map_path= files['LABELMAP']\n",
        "pipeline_config.train_input_reader.tf_record_input_reader.input_path[:] = [os.path.join(paths['ANNOTATION_PATH'], 'train.record')]\n",
        "pipeline_config.eval_input_reader[0].label_map_path = files['LABELMAP']\n",
        "pipeline_config.eval_input_reader[0].tf_record_input_reader.input_path[:] = [os.path.join(paths['ANNOTATION_PATH'], 'test.record')]"
      ]
    },
    {
      "cell_type": "markdown",
      "metadata": {
        "id": "_09UzOou_Irr"
      },
      "source": [
        "Make the edits"
      ]
    },
    {
      "cell_type": "code",
      "execution_count": 38,
      "metadata": {
        "id": "oJvfgwWqpfDG"
      },
      "outputs": [],
      "source": [
        "config_text = text_format.MessageToString(pipeline_config)                                                                                                                                                                                                        \n",
        "with tf.io.gfile.GFile(files['PIPELINE_CONFIG'], \"wb\") as f:                                                                                                                                                                                                                     \n",
        "    f.write(config_text)   "
      ]
    },
    {
      "cell_type": "markdown",
      "metadata": {
        "id": "Zr3ON7xMpfDG"
      },
      "source": [
        "# 6. Train the model"
      ]
    },
    {
      "cell_type": "code",
      "execution_count": 39,
      "metadata": {
        "id": "B-Y2UQmQpfDG"
      },
      "outputs": [],
      "source": [
        "TRAINING_SCRIPT = os.path.join(paths['APIMODEL_PATH'], 'research', 'object_detection', 'model_main_tf2.py')"
      ]
    },
    {
      "cell_type": "code",
      "execution_count": 40,
      "metadata": {
        "id": "jMP2XDfQpfDH"
      },
      "outputs": [],
      "source": [
        "command = \"python {} --model_dir={} --pipeline_config_path={} --num_train_steps=2000\".format(TRAINING_SCRIPT, paths['CHECKPOINT_PATH'],files['PIPELINE_CONFIG'])"
      ]
    },
    {
      "cell_type": "markdown",
      "metadata": {
        "id": "yML6Cnr3_Irx"
      },
      "source": [
        "The ifrst part is running the model_main tf2. Second goes to the model directory and goes to the number of steps you are going to take.(--num_train...))"
      ]
    },
    {
      "cell_type": "code",
      "execution_count": 48,
      "metadata": {
        "colab": {
          "base_uri": "https://localhost:8080/"
        },
        "id": "A4OXXi-ApfDH",
        "outputId": "da29796a-3b10-4247-b30e-d5820e459155"
      },
      "outputs": [
        {
          "output_type": "stream",
          "name": "stdout",
          "text": [
            "2022-04-17 05:36:15.899697: W tensorflow/core/common_runtime/gpu/gpu_bfc_allocator.cc:39] Overriding allow_growth setting because the TF_FORCE_GPU_ALLOW_GROWTH environment variable is set. Original config value was 0.\n",
            "INFO:tensorflow:Using MirroredStrategy with devices ('/job:localhost/replica:0/task:0/device:GPU:0',)\n",
            "I0417 05:36:15.907111 140529736382336 mirrored_strategy.py:374] Using MirroredStrategy with devices ('/job:localhost/replica:0/task:0/device:GPU:0',)\n",
            "INFO:tensorflow:Maybe overwriting train_steps: 2000\n",
            "I0417 05:36:15.915372 140529736382336 config_util.py:552] Maybe overwriting train_steps: 2000\n",
            "INFO:tensorflow:Maybe overwriting use_bfloat16: False\n",
            "I0417 05:36:15.915581 140529736382336 config_util.py:552] Maybe overwriting use_bfloat16: False\n",
            "WARNING:tensorflow:From /usr/local/lib/python3.7/dist-packages/object_detection/model_lib_v2.py:564: StrategyBase.experimental_distribute_datasets_from_function (from tensorflow.python.distribute.distribute_lib) is deprecated and will be removed in a future version.\n",
            "Instructions for updating:\n",
            "rename to distribute_datasets_from_function\n",
            "W0417 05:36:16.400203 140529736382336 deprecation.py:343] From /usr/local/lib/python3.7/dist-packages/object_detection/model_lib_v2.py:564: StrategyBase.experimental_distribute_datasets_from_function (from tensorflow.python.distribute.distribute_lib) is deprecated and will be removed in a future version.\n",
            "Instructions for updating:\n",
            "rename to distribute_datasets_from_function\n",
            "INFO:tensorflow:Reading unweighted datasets: ['Tensorflow/workspace/annotations/train.record']\n",
            "I0417 05:36:16.422968 140529736382336 dataset_builder.py:162] Reading unweighted datasets: ['Tensorflow/workspace/annotations/train.record']\n",
            "INFO:tensorflow:Reading record datasets for input file: ['Tensorflow/workspace/annotations/train.record']\n",
            "I0417 05:36:16.423217 140529736382336 dataset_builder.py:79] Reading record datasets for input file: ['Tensorflow/workspace/annotations/train.record']\n",
            "INFO:tensorflow:Number of filenames to read: 1\n",
            "I0417 05:36:16.423321 140529736382336 dataset_builder.py:80] Number of filenames to read: 1\n",
            "WARNING:tensorflow:num_readers has been reduced to 1 to match input file shards.\n",
            "W0417 05:36:16.423405 140529736382336 dataset_builder.py:87] num_readers has been reduced to 1 to match input file shards.\n",
            "WARNING:tensorflow:From /usr/local/lib/python3.7/dist-packages/object_detection/builders/dataset_builder.py:104: parallel_interleave (from tensorflow.python.data.experimental.ops.interleave_ops) is deprecated and will be removed in a future version.\n",
            "Instructions for updating:\n",
            "Use `tf.data.Dataset.interleave(map_func, cycle_length, block_length, num_parallel_calls=tf.data.AUTOTUNE)` instead. If sloppy execution is desired, use `tf.data.Options.deterministic`.\n",
            "W0417 05:36:16.437249 140529736382336 deprecation.py:343] From /usr/local/lib/python3.7/dist-packages/object_detection/builders/dataset_builder.py:104: parallel_interleave (from tensorflow.python.data.experimental.ops.interleave_ops) is deprecated and will be removed in a future version.\n",
            "Instructions for updating:\n",
            "Use `tf.data.Dataset.interleave(map_func, cycle_length, block_length, num_parallel_calls=tf.data.AUTOTUNE)` instead. If sloppy execution is desired, use `tf.data.Options.deterministic`.\n",
            "WARNING:tensorflow:From /usr/local/lib/python3.7/dist-packages/object_detection/builders/dataset_builder.py:236: DatasetV1.map_with_legacy_function (from tensorflow.python.data.ops.dataset_ops) is deprecated and will be removed in a future version.\n",
            "Instructions for updating:\n",
            "Use `tf.data.Dataset.map()\n",
            "W0417 05:36:16.550660 140529736382336 deprecation.py:343] From /usr/local/lib/python3.7/dist-packages/object_detection/builders/dataset_builder.py:236: DatasetV1.map_with_legacy_function (from tensorflow.python.data.ops.dataset_ops) is deprecated and will be removed in a future version.\n",
            "Instructions for updating:\n",
            "Use `tf.data.Dataset.map()\n",
            "WARNING:tensorflow:From /usr/local/lib/python3.7/dist-packages/tensorflow/python/util/dispatch.py:1082: sparse_to_dense (from tensorflow.python.ops.sparse_ops) is deprecated and will be removed in a future version.\n",
            "Instructions for updating:\n",
            "Create a `tf.sparse.SparseTensor` and use `tf.sparse.to_dense` instead.\n",
            "W0417 05:36:28.117193 140529736382336 deprecation.py:343] From /usr/local/lib/python3.7/dist-packages/tensorflow/python/util/dispatch.py:1082: sparse_to_dense (from tensorflow.python.ops.sparse_ops) is deprecated and will be removed in a future version.\n",
            "Instructions for updating:\n",
            "Create a `tf.sparse.SparseTensor` and use `tf.sparse.to_dense` instead.\n",
            "WARNING:tensorflow:From /usr/local/lib/python3.7/dist-packages/tensorflow/python/util/dispatch.py:1082: sample_distorted_bounding_box (from tensorflow.python.ops.image_ops_impl) is deprecated and will be removed in a future version.\n",
            "Instructions for updating:\n",
            "`seed2` arg is deprecated.Use sample_distorted_bounding_box_v2 instead.\n",
            "W0417 05:36:31.041398 140529736382336 deprecation.py:343] From /usr/local/lib/python3.7/dist-packages/tensorflow/python/util/dispatch.py:1082: sample_distorted_bounding_box (from tensorflow.python.ops.image_ops_impl) is deprecated and will be removed in a future version.\n",
            "Instructions for updating:\n",
            "`seed2` arg is deprecated.Use sample_distorted_bounding_box_v2 instead.\n",
            "WARNING:tensorflow:From /usr/local/lib/python3.7/dist-packages/tensorflow/python/util/dispatch.py:1082: to_float (from tensorflow.python.ops.math_ops) is deprecated and will be removed in a future version.\n",
            "Instructions for updating:\n",
            "Use `tf.cast` instead.\n",
            "W0417 05:36:32.614055 140529736382336 deprecation.py:343] From /usr/local/lib/python3.7/dist-packages/tensorflow/python/util/dispatch.py:1082: to_float (from tensorflow.python.ops.math_ops) is deprecated and will be removed in a future version.\n",
            "Instructions for updating:\n",
            "Use `tf.cast` instead.\n",
            "/usr/local/lib/python3.7/dist-packages/keras/backend.py:450: UserWarning: `tf.keras.backend.set_learning_phase` is deprecated and will be removed after 2020-10-11. To update it, simply pass a True/False value to the `training` argument of the `__call__` method of your layer or model.\n",
            "  warnings.warn('`tf.keras.backend.set_learning_phase` is deprecated and '\n",
            "INFO:tensorflow:Reduce to /job:localhost/replica:0/task:0/device:CPU:0 then broadcast to ('/job:localhost/replica:0/task:0/device:CPU:0',).\n",
            "I0417 05:37:13.702678 140529736382336 cross_device_ops.py:618] Reduce to /job:localhost/replica:0/task:0/device:CPU:0 then broadcast to ('/job:localhost/replica:0/task:0/device:CPU:0',).\n",
            "INFO:tensorflow:Reduce to /job:localhost/replica:0/task:0/device:CPU:0 then broadcast to ('/job:localhost/replica:0/task:0/device:CPU:0',).\n",
            "I0417 05:37:13.703927 140529736382336 cross_device_ops.py:618] Reduce to /job:localhost/replica:0/task:0/device:CPU:0 then broadcast to ('/job:localhost/replica:0/task:0/device:CPU:0',).\n",
            "INFO:tensorflow:Reduce to /job:localhost/replica:0/task:0/device:CPU:0 then broadcast to ('/job:localhost/replica:0/task:0/device:CPU:0',).\n",
            "I0417 05:37:13.706049 140529736382336 cross_device_ops.py:618] Reduce to /job:localhost/replica:0/task:0/device:CPU:0 then broadcast to ('/job:localhost/replica:0/task:0/device:CPU:0',).\n",
            "INFO:tensorflow:Reduce to /job:localhost/replica:0/task:0/device:CPU:0 then broadcast to ('/job:localhost/replica:0/task:0/device:CPU:0',).\n",
            "I0417 05:37:13.706913 140529736382336 cross_device_ops.py:618] Reduce to /job:localhost/replica:0/task:0/device:CPU:0 then broadcast to ('/job:localhost/replica:0/task:0/device:CPU:0',).\n",
            "INFO:tensorflow:Reduce to /job:localhost/replica:0/task:0/device:CPU:0 then broadcast to ('/job:localhost/replica:0/task:0/device:CPU:0',).\n",
            "I0417 05:37:13.708862 140529736382336 cross_device_ops.py:618] Reduce to /job:localhost/replica:0/task:0/device:CPU:0 then broadcast to ('/job:localhost/replica:0/task:0/device:CPU:0',).\n",
            "INFO:tensorflow:Reduce to /job:localhost/replica:0/task:0/device:CPU:0 then broadcast to ('/job:localhost/replica:0/task:0/device:CPU:0',).\n",
            "I0417 05:37:13.709710 140529736382336 cross_device_ops.py:618] Reduce to /job:localhost/replica:0/task:0/device:CPU:0 then broadcast to ('/job:localhost/replica:0/task:0/device:CPU:0',).\n",
            "INFO:tensorflow:Reduce to /job:localhost/replica:0/task:0/device:CPU:0 then broadcast to ('/job:localhost/replica:0/task:0/device:CPU:0',).\n",
            "I0417 05:37:13.711675 140529736382336 cross_device_ops.py:618] Reduce to /job:localhost/replica:0/task:0/device:CPU:0 then broadcast to ('/job:localhost/replica:0/task:0/device:CPU:0',).\n",
            "INFO:tensorflow:Reduce to /job:localhost/replica:0/task:0/device:CPU:0 then broadcast to ('/job:localhost/replica:0/task:0/device:CPU:0',).\n",
            "I0417 05:37:13.712547 140529736382336 cross_device_ops.py:618] Reduce to /job:localhost/replica:0/task:0/device:CPU:0 then broadcast to ('/job:localhost/replica:0/task:0/device:CPU:0',).\n",
            "INFO:tensorflow:Reduce to /job:localhost/replica:0/task:0/device:CPU:0 then broadcast to ('/job:localhost/replica:0/task:0/device:CPU:0',).\n",
            "I0417 05:37:13.714495 140529736382336 cross_device_ops.py:618] Reduce to /job:localhost/replica:0/task:0/device:CPU:0 then broadcast to ('/job:localhost/replica:0/task:0/device:CPU:0',).\n",
            "INFO:tensorflow:Reduce to /job:localhost/replica:0/task:0/device:CPU:0 then broadcast to ('/job:localhost/replica:0/task:0/device:CPU:0',).\n",
            "I0417 05:37:13.715347 140529736382336 cross_device_ops.py:618] Reduce to /job:localhost/replica:0/task:0/device:CPU:0 then broadcast to ('/job:localhost/replica:0/task:0/device:CPU:0',).\n",
            "WARNING:tensorflow:From /usr/local/lib/python3.7/dist-packages/tensorflow/python/util/deprecation.py:616: calling map_fn_v2 (from tensorflow.python.ops.map_fn) with dtype is deprecated and will be removed in a future version.\n",
            "Instructions for updating:\n",
            "Use fn_output_signature instead\n",
            "W0417 05:37:14.319941 140524574668544 deprecation.py:547] From /usr/local/lib/python3.7/dist-packages/tensorflow/python/util/deprecation.py:616: calling map_fn_v2 (from tensorflow.python.ops.map_fn) with dtype is deprecated and will be removed in a future version.\n",
            "Instructions for updating:\n",
            "Use fn_output_signature instead\n",
            "INFO:tensorflow:Step 100 per-step time 1.123s\n",
            "I0417 05:39:06.712378 140529736382336 model_lib_v2.py:707] Step 100 per-step time 1.123s\n",
            "INFO:tensorflow:{'Loss/classification_loss': 0.17722443,\n",
            " 'Loss/localization_loss': 0.12829404,\n",
            " 'Loss/regularization_loss': 0.15361,\n",
            " 'Loss/total_loss': 0.45912844,\n",
            " 'learning_rate': 0.0319994}\n",
            "I0417 05:39:06.712885 140529736382336 model_lib_v2.py:708] {'Loss/classification_loss': 0.17722443,\n",
            " 'Loss/localization_loss': 0.12829404,\n",
            " 'Loss/regularization_loss': 0.15361,\n",
            " 'Loss/total_loss': 0.45912844,\n",
            " 'learning_rate': 0.0319994}\n",
            "INFO:tensorflow:Step 200 per-step time 0.755s\n",
            "I0417 05:40:21.804539 140529736382336 model_lib_v2.py:707] Step 200 per-step time 0.755s\n",
            "INFO:tensorflow:{'Loss/classification_loss': 0.14203975,\n",
            " 'Loss/localization_loss': 0.07991935,\n",
            " 'Loss/regularization_loss': 0.15332969,\n",
            " 'Loss/total_loss': 0.37528878,\n",
            " 'learning_rate': 0.0373328}\n",
            "I0417 05:40:21.804953 140529736382336 model_lib_v2.py:708] {'Loss/classification_loss': 0.14203975,\n",
            " 'Loss/localization_loss': 0.07991935,\n",
            " 'Loss/regularization_loss': 0.15332969,\n",
            " 'Loss/total_loss': 0.37528878,\n",
            " 'learning_rate': 0.0373328}\n",
            "INFO:tensorflow:Step 300 per-step time 0.752s\n",
            "I0417 05:41:37.021786 140529736382336 model_lib_v2.py:707] Step 300 per-step time 0.752s\n",
            "INFO:tensorflow:{'Loss/classification_loss': 0.07975277,\n",
            " 'Loss/localization_loss': 0.031907693,\n",
            " 'Loss/regularization_loss': 0.15297118,\n",
            " 'Loss/total_loss': 0.26463163,\n",
            " 'learning_rate': 0.0426662}\n",
            "I0417 05:41:37.022338 140529736382336 model_lib_v2.py:708] {'Loss/classification_loss': 0.07975277,\n",
            " 'Loss/localization_loss': 0.031907693,\n",
            " 'Loss/regularization_loss': 0.15297118,\n",
            " 'Loss/total_loss': 0.26463163,\n",
            " 'learning_rate': 0.0426662}\n",
            "INFO:tensorflow:Step 400 per-step time 0.737s\n",
            "I0417 05:42:50.665393 140529736382336 model_lib_v2.py:707] Step 400 per-step time 0.737s\n",
            "INFO:tensorflow:{'Loss/classification_loss': 0.09270611,\n",
            " 'Loss/localization_loss': 0.053251855,\n",
            " 'Loss/regularization_loss': 0.15255219,\n",
            " 'Loss/total_loss': 0.29851013,\n",
            " 'learning_rate': 0.047999598}\n",
            "I0417 05:42:50.665877 140529736382336 model_lib_v2.py:708] {'Loss/classification_loss': 0.09270611,\n",
            " 'Loss/localization_loss': 0.053251855,\n",
            " 'Loss/regularization_loss': 0.15255219,\n",
            " 'Loss/total_loss': 0.29851013,\n",
            " 'learning_rate': 0.047999598}\n",
            "INFO:tensorflow:Step 500 per-step time 0.769s\n",
            "I0417 05:44:07.518248 140529736382336 model_lib_v2.py:707] Step 500 per-step time 0.769s\n",
            "INFO:tensorflow:{'Loss/classification_loss': 0.046397913,\n",
            " 'Loss/localization_loss': 0.013640933,\n",
            " 'Loss/regularization_loss': 0.1520632,\n",
            " 'Loss/total_loss': 0.21210206,\n",
            " 'learning_rate': 0.053333}\n",
            "I0417 05:44:07.518813 140529736382336 model_lib_v2.py:708] {'Loss/classification_loss': 0.046397913,\n",
            " 'Loss/localization_loss': 0.013640933,\n",
            " 'Loss/regularization_loss': 0.1520632,\n",
            " 'Loss/total_loss': 0.21210206,\n",
            " 'learning_rate': 0.053333}\n",
            "INFO:tensorflow:Step 600 per-step time 0.758s\n",
            "I0417 05:45:23.296105 140529736382336 model_lib_v2.py:707] Step 600 per-step time 0.758s\n",
            "INFO:tensorflow:{'Loss/classification_loss': 0.052113034,\n",
            " 'Loss/localization_loss': 0.02035739,\n",
            " 'Loss/regularization_loss': 0.15154706,\n",
            " 'Loss/total_loss': 0.22401749,\n",
            " 'learning_rate': 0.0586664}\n",
            "I0417 05:45:23.298195 140529736382336 model_lib_v2.py:708] {'Loss/classification_loss': 0.052113034,\n",
            " 'Loss/localization_loss': 0.02035739,\n",
            " 'Loss/regularization_loss': 0.15154706,\n",
            " 'Loss/total_loss': 0.22401749,\n",
            " 'learning_rate': 0.0586664}\n",
            "INFO:tensorflow:Step 700 per-step time 0.756s\n",
            "I0417 05:46:38.873272 140529736382336 model_lib_v2.py:707] Step 700 per-step time 0.756s\n",
            "INFO:tensorflow:{'Loss/classification_loss': 0.079722345,\n",
            " 'Loss/localization_loss': 0.032253318,\n",
            " 'Loss/regularization_loss': 0.15099071,\n",
            " 'Loss/total_loss': 0.26296636,\n",
            " 'learning_rate': 0.0639998}\n",
            "I0417 05:46:38.873722 140529736382336 model_lib_v2.py:708] {'Loss/classification_loss': 0.079722345,\n",
            " 'Loss/localization_loss': 0.032253318,\n",
            " 'Loss/regularization_loss': 0.15099071,\n",
            " 'Loss/total_loss': 0.26296636,\n",
            " 'learning_rate': 0.0639998}\n",
            "INFO:tensorflow:Step 800 per-step time 0.757s\n",
            "I0417 05:47:54.555679 140529736382336 model_lib_v2.py:707] Step 800 per-step time 0.757s\n",
            "INFO:tensorflow:{'Loss/classification_loss': 0.06792175,\n",
            " 'Loss/localization_loss': 0.032006677,\n",
            " 'Loss/regularization_loss': 0.15039656,\n",
            " 'Loss/total_loss': 0.25032496,\n",
            " 'learning_rate': 0.069333196}\n",
            "I0417 05:47:54.556144 140529736382336 model_lib_v2.py:708] {'Loss/classification_loss': 0.06792175,\n",
            " 'Loss/localization_loss': 0.032006677,\n",
            " 'Loss/regularization_loss': 0.15039656,\n",
            " 'Loss/total_loss': 0.25032496,\n",
            " 'learning_rate': 0.069333196}\n",
            "INFO:tensorflow:Step 900 per-step time 0.755s\n",
            "I0417 05:49:10.099908 140529736382336 model_lib_v2.py:707] Step 900 per-step time 0.755s\n",
            "INFO:tensorflow:{'Loss/classification_loss': 0.105548285,\n",
            " 'Loss/localization_loss': 0.025976988,\n",
            " 'Loss/regularization_loss': 0.14970368,\n",
            " 'Loss/total_loss': 0.28122896,\n",
            " 'learning_rate': 0.074666604}\n",
            "I0417 05:49:10.107304 140529736382336 model_lib_v2.py:708] {'Loss/classification_loss': 0.105548285,\n",
            " 'Loss/localization_loss': 0.025976988,\n",
            " 'Loss/regularization_loss': 0.14970368,\n",
            " 'Loss/total_loss': 0.28122896,\n",
            " 'learning_rate': 0.074666604}\n",
            "INFO:tensorflow:Step 1000 per-step time 0.753s\n",
            "I0417 05:50:25.365520 140529736382336 model_lib_v2.py:707] Step 1000 per-step time 0.753s\n",
            "INFO:tensorflow:{'Loss/classification_loss': 0.038264293,\n",
            " 'Loss/localization_loss': 0.019870343,\n",
            " 'Loss/regularization_loss': 0.14900185,\n",
            " 'Loss/total_loss': 0.20713648,\n",
            " 'learning_rate': 0.08}\n",
            "I0417 05:50:25.365983 140529736382336 model_lib_v2.py:708] {'Loss/classification_loss': 0.038264293,\n",
            " 'Loss/localization_loss': 0.019870343,\n",
            " 'Loss/regularization_loss': 0.14900185,\n",
            " 'Loss/total_loss': 0.20713648,\n",
            " 'learning_rate': 0.08}\n",
            "INFO:tensorflow:Step 1100 per-step time 0.763s\n",
            "I0417 05:51:41.652894 140529736382336 model_lib_v2.py:707] Step 1100 per-step time 0.763s\n",
            "INFO:tensorflow:{'Loss/classification_loss': 0.057603985,\n",
            " 'Loss/localization_loss': 0.01939812,\n",
            " 'Loss/regularization_loss': 0.14824076,\n",
            " 'Loss/total_loss': 0.22524287,\n",
            " 'learning_rate': 0.07999918}\n",
            "I0417 05:51:41.653283 140529736382336 model_lib_v2.py:708] {'Loss/classification_loss': 0.057603985,\n",
            " 'Loss/localization_loss': 0.01939812,\n",
            " 'Loss/regularization_loss': 0.14824076,\n",
            " 'Loss/total_loss': 0.22524287,\n",
            " 'learning_rate': 0.07999918}\n",
            "INFO:tensorflow:Step 1200 per-step time 0.766s\n",
            "I0417 05:52:58.271970 140529736382336 model_lib_v2.py:707] Step 1200 per-step time 0.766s\n",
            "INFO:tensorflow:{'Loss/classification_loss': 0.08418813,\n",
            " 'Loss/localization_loss': 0.019702759,\n",
            " 'Loss/regularization_loss': 0.1474642,\n",
            " 'Loss/total_loss': 0.2513551,\n",
            " 'learning_rate': 0.079996705}\n",
            "I0417 05:52:58.272379 140529736382336 model_lib_v2.py:708] {'Loss/classification_loss': 0.08418813,\n",
            " 'Loss/localization_loss': 0.019702759,\n",
            " 'Loss/regularization_loss': 0.1474642,\n",
            " 'Loss/total_loss': 0.2513551,\n",
            " 'learning_rate': 0.079996705}\n",
            "INFO:tensorflow:Step 1300 per-step time 0.768s\n",
            "I0417 05:54:15.099947 140529736382336 model_lib_v2.py:707] Step 1300 per-step time 0.768s\n",
            "INFO:tensorflow:{'Loss/classification_loss': 0.031231998,\n",
            " 'Loss/localization_loss': 0.008892282,\n",
            " 'Loss/regularization_loss': 0.14671996,\n",
            " 'Loss/total_loss': 0.18684424,\n",
            " 'learning_rate': 0.0799926}\n",
            "I0417 05:54:15.100332 140529736382336 model_lib_v2.py:708] {'Loss/classification_loss': 0.031231998,\n",
            " 'Loss/localization_loss': 0.008892282,\n",
            " 'Loss/regularization_loss': 0.14671996,\n",
            " 'Loss/total_loss': 0.18684424,\n",
            " 'learning_rate': 0.0799926}\n",
            "INFO:tensorflow:Step 1400 per-step time 0.746s\n",
            "I0417 05:55:29.714458 140529736382336 model_lib_v2.py:707] Step 1400 per-step time 0.746s\n",
            "INFO:tensorflow:{'Loss/classification_loss': 0.02518566,\n",
            " 'Loss/localization_loss': 0.03490744,\n",
            " 'Loss/regularization_loss': 0.14592308,\n",
            " 'Loss/total_loss': 0.20601618,\n",
            " 'learning_rate': 0.07998685}\n",
            "I0417 05:55:29.714861 140529736382336 model_lib_v2.py:708] {'Loss/classification_loss': 0.02518566,\n",
            " 'Loss/localization_loss': 0.03490744,\n",
            " 'Loss/regularization_loss': 0.14592308,\n",
            " 'Loss/total_loss': 0.20601618,\n",
            " 'learning_rate': 0.07998685}\n",
            "INFO:tensorflow:Step 1500 per-step time 0.762s\n",
            "I0417 05:56:45.941736 140529736382336 model_lib_v2.py:707] Step 1500 per-step time 0.762s\n",
            "INFO:tensorflow:{'Loss/classification_loss': 0.053089753,\n",
            " 'Loss/localization_loss': 0.008117307,\n",
            " 'Loss/regularization_loss': 0.14514764,\n",
            " 'Loss/total_loss': 0.2063547,\n",
            " 'learning_rate': 0.07997945}\n",
            "I0417 05:56:45.942159 140529736382336 model_lib_v2.py:708] {'Loss/classification_loss': 0.053089753,\n",
            " 'Loss/localization_loss': 0.008117307,\n",
            " 'Loss/regularization_loss': 0.14514764,\n",
            " 'Loss/total_loss': 0.2063547,\n",
            " 'learning_rate': 0.07997945}\n",
            "INFO:tensorflow:Step 1600 per-step time 0.774s\n",
            "I0417 05:58:03.354332 140529736382336 model_lib_v2.py:707] Step 1600 per-step time 0.774s\n",
            "INFO:tensorflow:{'Loss/classification_loss': 0.02410253,\n",
            " 'Loss/localization_loss': 0.011059966,\n",
            " 'Loss/regularization_loss': 0.14433232,\n",
            " 'Loss/total_loss': 0.17949481,\n",
            " 'learning_rate': 0.079970405}\n",
            "I0417 05:58:03.354892 140529736382336 model_lib_v2.py:708] {'Loss/classification_loss': 0.02410253,\n",
            " 'Loss/localization_loss': 0.011059966,\n",
            " 'Loss/regularization_loss': 0.14433232,\n",
            " 'Loss/total_loss': 0.17949481,\n",
            " 'learning_rate': 0.079970405}\n",
            "INFO:tensorflow:Step 1700 per-step time 0.749s\n",
            "I0417 05:59:18.225248 140529736382336 model_lib_v2.py:707] Step 1700 per-step time 0.749s\n",
            "INFO:tensorflow:{'Loss/classification_loss': 0.10324383,\n",
            " 'Loss/localization_loss': 0.044534996,\n",
            " 'Loss/regularization_loss': 0.14356813,\n",
            " 'Loss/total_loss': 0.29134697,\n",
            " 'learning_rate': 0.07995972}\n",
            "I0417 05:59:18.225675 140529736382336 model_lib_v2.py:708] {'Loss/classification_loss': 0.10324383,\n",
            " 'Loss/localization_loss': 0.044534996,\n",
            " 'Loss/regularization_loss': 0.14356813,\n",
            " 'Loss/total_loss': 0.29134697,\n",
            " 'learning_rate': 0.07995972}\n",
            "INFO:tensorflow:Step 1800 per-step time 0.776s\n",
            "I0417 06:00:35.820700 140529736382336 model_lib_v2.py:707] Step 1800 per-step time 0.776s\n",
            "INFO:tensorflow:{'Loss/classification_loss': 0.037544694,\n",
            " 'Loss/localization_loss': 0.008197,\n",
            " 'Loss/regularization_loss': 0.14278719,\n",
            " 'Loss/total_loss': 0.18852888,\n",
            " 'learning_rate': 0.0799474}\n",
            "I0417 06:00:35.821156 140529736382336 model_lib_v2.py:708] {'Loss/classification_loss': 0.037544694,\n",
            " 'Loss/localization_loss': 0.008197,\n",
            " 'Loss/regularization_loss': 0.14278719,\n",
            " 'Loss/total_loss': 0.18852888,\n",
            " 'learning_rate': 0.0799474}\n",
            "INFO:tensorflow:Step 1900 per-step time 0.761s\n",
            "I0417 06:01:51.946948 140529736382336 model_lib_v2.py:707] Step 1900 per-step time 0.761s\n",
            "INFO:tensorflow:{'Loss/classification_loss': 0.031987157,\n",
            " 'Loss/localization_loss': 0.008864377,\n",
            " 'Loss/regularization_loss': 0.14202848,\n",
            " 'Loss/total_loss': 0.18288001,\n",
            " 'learning_rate': 0.07993342}\n",
            "I0417 06:01:51.947339 140529736382336 model_lib_v2.py:708] {'Loss/classification_loss': 0.031987157,\n",
            " 'Loss/localization_loss': 0.008864377,\n",
            " 'Loss/regularization_loss': 0.14202848,\n",
            " 'Loss/total_loss': 0.18288001,\n",
            " 'learning_rate': 0.07993342}\n",
            "INFO:tensorflow:Step 2000 per-step time 0.760s\n",
            "I0417 06:03:07.965905 140529736382336 model_lib_v2.py:707] Step 2000 per-step time 0.760s\n",
            "INFO:tensorflow:{'Loss/classification_loss': 0.04240868,\n",
            " 'Loss/localization_loss': 0.015870294,\n",
            " 'Loss/regularization_loss': 0.1412343,\n",
            " 'Loss/total_loss': 0.19951326,\n",
            " 'learning_rate': 0.07991781}\n",
            "I0417 06:03:07.966326 140529736382336 model_lib_v2.py:708] {'Loss/classification_loss': 0.04240868,\n",
            " 'Loss/localization_loss': 0.015870294,\n",
            " 'Loss/regularization_loss': 0.1412343,\n",
            " 'Loss/total_loss': 0.19951326,\n",
            " 'learning_rate': 0.07991781}\n"
          ]
        }
      ],
      "source": [
        "!{command}"
      ]
    },
    {
      "cell_type": "code",
      "source": [
        "pip install opencv-python-headless==4.1.2.30"
      ],
      "metadata": {
        "colab": {
          "base_uri": "https://localhost:8080/"
        },
        "id": "zjfZctb1Aqm8",
        "outputId": "862c012c-169d-48c3-b28a-989079e370f2"
      },
      "execution_count": 47,
      "outputs": [
        {
          "output_type": "stream",
          "name": "stdout",
          "text": [
            "Collecting opencv-python-headless==4.1.2.30\n",
            "  Downloading opencv_python_headless-4.1.2.30-cp37-cp37m-manylinux1_x86_64.whl (21.8 MB)\n",
            "\u001b[K     |████████████████████████████████| 21.8 MB 1.2 MB/s \n",
            "\u001b[?25hRequirement already satisfied: numpy>=1.14.5 in /usr/local/lib/python3.7/dist-packages (from opencv-python-headless==4.1.2.30) (1.21.5)\n",
            "Installing collected packages: opencv-python-headless\n",
            "  Attempting uninstall: opencv-python-headless\n",
            "    Found existing installation: opencv-python-headless 4.5.5.64\n",
            "    Uninstalling opencv-python-headless-4.5.5.64:\n",
            "      Successfully uninstalled opencv-python-headless-4.5.5.64\n",
            "Successfully installed opencv-python-headless-4.1.2.30\n"
          ]
        }
      ]
    },
    {
      "cell_type": "markdown",
      "metadata": {
        "id": "4_YRZu7npfDH"
      },
      "source": [
        "# 7. Evaluate the Model"
      ]
    },
    {
      "cell_type": "code",
      "execution_count": 49,
      "metadata": {
        "id": "80L7-fdPpfDH"
      },
      "outputs": [],
      "source": [
        "command = \"python {} --model_dir={} --pipeline_config_path={} --checkpoint_dir={}\".format(TRAINING_SCRIPT, paths['CHECKPOINT_PATH'],files['PIPELINE_CONFIG'], paths['CHECKPOINT_PATH'])"
      ]
    },
    {
      "cell_type": "code",
      "execution_count": null,
      "metadata": {
        "colab": {
          "base_uri": "https://localhost:8080/"
        },
        "id": "lYsgEPx9pfDH",
        "outputId": "8632d48b-91d2-45d9-bcb8-c1b172bf6eed"
      },
      "outputs": [
        {
          "name": "stdout",
          "output_type": "stream",
          "text": [
            "python Tensorflow/models/research/object_detection/model_main_tf2.py --model_dir=Tensorflow/workspace/models/my_ssd_mobnet_tuned_chips --pipeline_config_path=Tensorflow/workspace/models/my_ssd_mobnet_tuned_chips/pipeline.config --num_train_steps=2000\n"
          ]
        }
      ],
      "source": [
        "print(command)"
      ]
    },
    {
      "cell_type": "code",
      "execution_count": null,
      "metadata": {
        "id": "KcrymnqD_Ir1",
        "outputId": "0c20456a-ba7e-481a-9816-145491e0f457"
      },
      "outputs": [
        {
          "name": "stderr",
          "output_type": "stream",
          "text": [
            "2022-04-16 20:38:26.933346: E tensorflow/stream_executor/cuda/cuda_driver.cc:271] failed call to cuInit: CUDA_ERROR_NO_DEVICE: no CUDA-capable device is detected\n",
            "2022-04-16 20:38:26.934419: I tensorflow/stream_executor/cuda/cuda_diagnostics.cc:156] kernel driver does not appear to be running on this host (Indigo): /proc/driver/nvidia/version does not exist\n"
          ]
        },
        {
          "data": {
            "text/plain": [
              "[]"
            ]
          },
          "execution_count": 27,
          "metadata": {},
          "output_type": "execute_result"
        }
      ],
      "source": [
        "import tensorflow as tf\n",
        "tf.config.list_physical_devices('GPU')"
      ]
    },
    {
      "cell_type": "code",
      "execution_count": 50,
      "metadata": {
        "id": "lqTV2jGBpfDH",
        "colab": {
          "base_uri": "https://localhost:8080/"
        },
        "outputId": "70577c28-29f8-40a8-d082-f2ed793aa433"
      },
      "outputs": [
        {
          "output_type": "stream",
          "name": "stdout",
          "text": [
            "WARNING:tensorflow:Forced number of epochs for all eval validations to be 1.\n",
            "W0417 06:04:51.172915 139720836626304 model_lib_v2.py:1090] Forced number of epochs for all eval validations to be 1.\n",
            "INFO:tensorflow:Maybe overwriting sample_1_of_n_eval_examples: None\n",
            "I0417 06:04:51.173138 139720836626304 config_util.py:552] Maybe overwriting sample_1_of_n_eval_examples: None\n",
            "INFO:tensorflow:Maybe overwriting use_bfloat16: False\n",
            "I0417 06:04:51.173222 139720836626304 config_util.py:552] Maybe overwriting use_bfloat16: False\n",
            "INFO:tensorflow:Maybe overwriting eval_num_epochs: 1\n",
            "I0417 06:04:51.173307 139720836626304 config_util.py:552] Maybe overwriting eval_num_epochs: 1\n",
            "WARNING:tensorflow:Expected number of evaluation epochs is 1, but instead encountered `eval_on_train_input_config.num_epochs` = 0. Overwriting `num_epochs` to 1.\n",
            "W0417 06:04:51.173474 139720836626304 model_lib_v2.py:1111] Expected number of evaluation epochs is 1, but instead encountered `eval_on_train_input_config.num_epochs` = 0. Overwriting `num_epochs` to 1.\n",
            "2022-04-17 06:04:51.908966: W tensorflow/core/common_runtime/gpu/gpu_bfc_allocator.cc:39] Overriding allow_growth setting because the TF_FORCE_GPU_ALLOW_GROWTH environment variable is set. Original config value was 0.\n",
            "INFO:tensorflow:Reading unweighted datasets: ['Tensorflow/workspace/annotations/test.record']\n",
            "I0417 06:04:52.066020 139720836626304 dataset_builder.py:162] Reading unweighted datasets: ['Tensorflow/workspace/annotations/test.record']\n",
            "INFO:tensorflow:Reading record datasets for input file: ['Tensorflow/workspace/annotations/test.record']\n",
            "I0417 06:04:52.066921 139720836626304 dataset_builder.py:79] Reading record datasets for input file: ['Tensorflow/workspace/annotations/test.record']\n",
            "INFO:tensorflow:Number of filenames to read: 1\n",
            "I0417 06:04:52.067060 139720836626304 dataset_builder.py:80] Number of filenames to read: 1\n",
            "WARNING:tensorflow:num_readers has been reduced to 1 to match input file shards.\n",
            "W0417 06:04:52.067151 139720836626304 dataset_builder.py:87] num_readers has been reduced to 1 to match input file shards.\n",
            "WARNING:tensorflow:From /usr/local/lib/python3.7/dist-packages/object_detection/builders/dataset_builder.py:104: parallel_interleave (from tensorflow.python.data.experimental.ops.interleave_ops) is deprecated and will be removed in a future version.\n",
            "Instructions for updating:\n",
            "Use `tf.data.Dataset.interleave(map_func, cycle_length, block_length, num_parallel_calls=tf.data.AUTOTUNE)` instead. If sloppy execution is desired, use `tf.data.Options.deterministic`.\n",
            "W0417 06:04:52.069174 139720836626304 deprecation.py:343] From /usr/local/lib/python3.7/dist-packages/object_detection/builders/dataset_builder.py:104: parallel_interleave (from tensorflow.python.data.experimental.ops.interleave_ops) is deprecated and will be removed in a future version.\n",
            "Instructions for updating:\n",
            "Use `tf.data.Dataset.interleave(map_func, cycle_length, block_length, num_parallel_calls=tf.data.AUTOTUNE)` instead. If sloppy execution is desired, use `tf.data.Options.deterministic`.\n",
            "WARNING:tensorflow:From /usr/local/lib/python3.7/dist-packages/object_detection/builders/dataset_builder.py:236: DatasetV1.map_with_legacy_function (from tensorflow.python.data.ops.dataset_ops) is deprecated and will be removed in a future version.\n",
            "Instructions for updating:\n",
            "Use `tf.data.Dataset.map()\n",
            "W0417 06:04:52.089748 139720836626304 deprecation.py:343] From /usr/local/lib/python3.7/dist-packages/object_detection/builders/dataset_builder.py:236: DatasetV1.map_with_legacy_function (from tensorflow.python.data.ops.dataset_ops) is deprecated and will be removed in a future version.\n",
            "Instructions for updating:\n",
            "Use `tf.data.Dataset.map()\n",
            "WARNING:tensorflow:From /usr/local/lib/python3.7/dist-packages/tensorflow/python/util/dispatch.py:1082: sparse_to_dense (from tensorflow.python.ops.sparse_ops) is deprecated and will be removed in a future version.\n",
            "Instructions for updating:\n",
            "Create a `tf.sparse.SparseTensor` and use `tf.sparse.to_dense` instead.\n",
            "W0417 06:04:56.099702 139720836626304 deprecation.py:343] From /usr/local/lib/python3.7/dist-packages/tensorflow/python/util/dispatch.py:1082: sparse_to_dense (from tensorflow.python.ops.sparse_ops) is deprecated and will be removed in a future version.\n",
            "Instructions for updating:\n",
            "Create a `tf.sparse.SparseTensor` and use `tf.sparse.to_dense` instead.\n",
            "WARNING:tensorflow:From /usr/local/lib/python3.7/dist-packages/tensorflow/python/util/dispatch.py:1082: to_float (from tensorflow.python.ops.math_ops) is deprecated and will be removed in a future version.\n",
            "Instructions for updating:\n",
            "Use `tf.cast` instead.\n",
            "W0417 06:04:57.195250 139720836626304 deprecation.py:343] From /usr/local/lib/python3.7/dist-packages/tensorflow/python/util/dispatch.py:1082: to_float (from tensorflow.python.ops.math_ops) is deprecated and will be removed in a future version.\n",
            "Instructions for updating:\n",
            "Use `tf.cast` instead.\n",
            "INFO:tensorflow:Waiting for new checkpoint at Tensorflow/workspace/models/my_ssd_mobnet_tuned_chips\n",
            "I0417 06:04:59.742665 139720836626304 checkpoint_utils.py:136] Waiting for new checkpoint at Tensorflow/workspace/models/my_ssd_mobnet_tuned_chips\n",
            "INFO:tensorflow:Found new checkpoint at Tensorflow/workspace/models/my_ssd_mobnet_tuned_chips/ckpt-3\n",
            "I0417 06:04:59.743693 139720836626304 checkpoint_utils.py:145] Found new checkpoint at Tensorflow/workspace/models/my_ssd_mobnet_tuned_chips/ckpt-3\n",
            "/usr/local/lib/python3.7/dist-packages/keras/backend.py:450: UserWarning: `tf.keras.backend.set_learning_phase` is deprecated and will be removed after 2020-10-11. To update it, simply pass a True/False value to the `training` argument of the `__call__` method of your layer or model.\n",
            "  warnings.warn('`tf.keras.backend.set_learning_phase` is deprecated and '\n",
            "WARNING:tensorflow:From /usr/local/lib/python3.7/dist-packages/tensorflow/python/util/dispatch.py:1082: to_int64 (from tensorflow.python.ops.math_ops) is deprecated and will be removed in a future version.\n",
            "Instructions for updating:\n",
            "Use `tf.cast` instead.\n",
            "W0417 06:05:24.619718 139720836626304 deprecation.py:343] From /usr/local/lib/python3.7/dist-packages/tensorflow/python/util/dispatch.py:1082: to_int64 (from tensorflow.python.ops.math_ops) is deprecated and will be removed in a future version.\n",
            "Instructions for updating:\n",
            "Use `tf.cast` instead.\n",
            "INFO:tensorflow:Finished eval step 0\n",
            "I0417 06:05:24.729191 139720836626304 model_lib_v2.py:966] Finished eval step 0\n",
            "WARNING:tensorflow:From /usr/local/lib/python3.7/dist-packages/tensorflow/python/autograph/impl/api.py:459: py_func (from tensorflow.python.ops.script_ops) is deprecated and will be removed in a future version.\n",
            "Instructions for updating:\n",
            "tf.py_func is deprecated in TF V2. Instead, there are two\n",
            "    options available in V2.\n",
            "    - tf.py_function takes a python function which manipulates tf eager\n",
            "    tensors instead of numpy arrays. It's easy to convert a tf eager tensor to\n",
            "    an ndarray (just call tensor.numpy()) but having access to eager tensors\n",
            "    means `tf.py_function`s can use accelerators such as GPUs as well as\n",
            "    being differentiable using a gradient tape.\n",
            "    - tf.numpy_function maintains the semantics of the deprecated tf.py_func\n",
            "    (it is not differentiable, and manipulates numpy arrays). It drops the\n",
            "    stateful argument making all functions stateful.\n",
            "    \n",
            "W0417 06:05:25.294836 139720836626304 deprecation.py:343] From /usr/local/lib/python3.7/dist-packages/tensorflow/python/autograph/impl/api.py:459: py_func (from tensorflow.python.ops.script_ops) is deprecated and will be removed in a future version.\n",
            "Instructions for updating:\n",
            "tf.py_func is deprecated in TF V2. Instead, there are two\n",
            "    options available in V2.\n",
            "    - tf.py_function takes a python function which manipulates tf eager\n",
            "    tensors instead of numpy arrays. It's easy to convert a tf eager tensor to\n",
            "    an ndarray (just call tensor.numpy()) but having access to eager tensors\n",
            "    means `tf.py_function`s can use accelerators such as GPUs as well as\n",
            "    being differentiable using a gradient tape.\n",
            "    - tf.numpy_function maintains the semantics of the deprecated tf.py_func\n",
            "    (it is not differentiable, and manipulates numpy arrays). It drops the\n",
            "    stateful argument making all functions stateful.\n",
            "    \n",
            "INFO:tensorflow:Performing evaluation on 4 images.\n",
            "I0417 06:05:40.947535 139720836626304 coco_evaluation.py:293] Performing evaluation on 4 images.\n",
            "creating index...\n",
            "index created!\n",
            "INFO:tensorflow:Loading and preparing annotation results...\n",
            "I0417 06:05:40.947877 139720836626304 coco_tools.py:116] Loading and preparing annotation results...\n",
            "INFO:tensorflow:DONE (t=0.00s)\n",
            "I0417 06:05:40.948266 139720836626304 coco_tools.py:138] DONE (t=0.00s)\n",
            "creating index...\n",
            "index created!\n",
            "Running per image evaluation...\n",
            "Evaluate annotation type *bbox*\n",
            "DONE (t=0.02s).\n",
            "Accumulating evaluation results...\n",
            "DONE (t=0.01s).\n",
            " Average Precision  (AP) @[ IoU=0.50:0.95 | area=   all | maxDets=100 ] = 0.806\n",
            " Average Precision  (AP) @[ IoU=0.50      | area=   all | maxDets=100 ] = 1.000\n",
            " Average Precision  (AP) @[ IoU=0.75      | area=   all | maxDets=100 ] = 1.000\n",
            " Average Precision  (AP) @[ IoU=0.50:0.95 | area= small | maxDets=100 ] = -1.000\n",
            " Average Precision  (AP) @[ IoU=0.50:0.95 | area=medium | maxDets=100 ] = -1.000\n",
            " Average Precision  (AP) @[ IoU=0.50:0.95 | area= large | maxDets=100 ] = 0.806\n",
            " Average Recall     (AR) @[ IoU=0.50:0.95 | area=   all | maxDets=  1 ] = 0.825\n",
            " Average Recall     (AR) @[ IoU=0.50:0.95 | area=   all | maxDets= 10 ] = 0.825\n",
            " Average Recall     (AR) @[ IoU=0.50:0.95 | area=   all | maxDets=100 ] = 0.825\n",
            " Average Recall     (AR) @[ IoU=0.50:0.95 | area= small | maxDets=100 ] = -1.000\n",
            " Average Recall     (AR) @[ IoU=0.50:0.95 | area=medium | maxDets=100 ] = -1.000\n",
            " Average Recall     (AR) @[ IoU=0.50:0.95 | area= large | maxDets=100 ] = 0.825\n",
            "INFO:tensorflow:Eval metrics at step 2000\n",
            "I0417 06:05:40.981129 139720836626304 model_lib_v2.py:1015] Eval metrics at step 2000\n",
            "INFO:tensorflow:\t+ DetectionBoxes_Precision/mAP: 0.806436\n",
            "I0417 06:05:41.035492 139720836626304 model_lib_v2.py:1018] \t+ DetectionBoxes_Precision/mAP: 0.806436\n",
            "INFO:tensorflow:\t+ DetectionBoxes_Precision/mAP@.50IOU: 1.000000\n",
            "I0417 06:05:41.037013 139720836626304 model_lib_v2.py:1018] \t+ DetectionBoxes_Precision/mAP@.50IOU: 1.000000\n",
            "INFO:tensorflow:\t+ DetectionBoxes_Precision/mAP@.75IOU: 1.000000\n",
            "I0417 06:05:41.038219 139720836626304 model_lib_v2.py:1018] \t+ DetectionBoxes_Precision/mAP@.75IOU: 1.000000\n",
            "INFO:tensorflow:\t+ DetectionBoxes_Precision/mAP (small): -1.000000\n",
            "I0417 06:05:41.039528 139720836626304 model_lib_v2.py:1018] \t+ DetectionBoxes_Precision/mAP (small): -1.000000\n",
            "INFO:tensorflow:\t+ DetectionBoxes_Precision/mAP (medium): -1.000000\n",
            "I0417 06:05:41.040698 139720836626304 model_lib_v2.py:1018] \t+ DetectionBoxes_Precision/mAP (medium): -1.000000\n",
            "INFO:tensorflow:\t+ DetectionBoxes_Precision/mAP (large): 0.806436\n",
            "I0417 06:05:41.041893 139720836626304 model_lib_v2.py:1018] \t+ DetectionBoxes_Precision/mAP (large): 0.806436\n",
            "INFO:tensorflow:\t+ DetectionBoxes_Recall/AR@1: 0.825000\n",
            "I0417 06:05:41.046511 139720836626304 model_lib_v2.py:1018] \t+ DetectionBoxes_Recall/AR@1: 0.825000\n",
            "INFO:tensorflow:\t+ DetectionBoxes_Recall/AR@10: 0.825000\n",
            "I0417 06:05:41.047706 139720836626304 model_lib_v2.py:1018] \t+ DetectionBoxes_Recall/AR@10: 0.825000\n",
            "INFO:tensorflow:\t+ DetectionBoxes_Recall/AR@100: 0.825000\n",
            "I0417 06:05:41.048869 139720836626304 model_lib_v2.py:1018] \t+ DetectionBoxes_Recall/AR@100: 0.825000\n",
            "INFO:tensorflow:\t+ DetectionBoxes_Recall/AR@100 (small): -1.000000\n",
            "I0417 06:05:41.050030 139720836626304 model_lib_v2.py:1018] \t+ DetectionBoxes_Recall/AR@100 (small): -1.000000\n",
            "INFO:tensorflow:\t+ DetectionBoxes_Recall/AR@100 (medium): -1.000000\n",
            "I0417 06:05:41.051184 139720836626304 model_lib_v2.py:1018] \t+ DetectionBoxes_Recall/AR@100 (medium): -1.000000\n",
            "INFO:tensorflow:\t+ DetectionBoxes_Recall/AR@100 (large): 0.825000\n",
            "I0417 06:05:41.052345 139720836626304 model_lib_v2.py:1018] \t+ DetectionBoxes_Recall/AR@100 (large): 0.825000\n",
            "INFO:tensorflow:\t+ Loss/localization_loss: 0.055935\n",
            "I0417 06:05:41.053416 139720836626304 model_lib_v2.py:1018] \t+ Loss/localization_loss: 0.055935\n",
            "INFO:tensorflow:\t+ Loss/classification_loss: 0.120584\n",
            "I0417 06:05:41.054495 139720836626304 model_lib_v2.py:1018] \t+ Loss/classification_loss: 0.120584\n",
            "INFO:tensorflow:\t+ Loss/regularization_loss: 0.141227\n",
            "I0417 06:05:41.055593 139720836626304 model_lib_v2.py:1018] \t+ Loss/regularization_loss: 0.141227\n",
            "INFO:tensorflow:\t+ Loss/total_loss: 0.317746\n",
            "I0417 06:05:41.056684 139720836626304 model_lib_v2.py:1018] \t+ Loss/total_loss: 0.317746\n",
            "INFO:tensorflow:Waiting for new checkpoint at Tensorflow/workspace/models/my_ssd_mobnet_tuned_chips\n",
            "I0417 06:09:59.844064 139720836626304 checkpoint_utils.py:136] Waiting for new checkpoint at Tensorflow/workspace/models/my_ssd_mobnet_tuned_chips\n",
            "Traceback (most recent call last):\n",
            "  File \"Tensorflow/models/research/object_detection/model_main_tf2.py\", line 114, in <module>\n",
            "    tf.compat.v1.app.run()\n",
            "  File \"/usr/local/lib/python3.7/dist-packages/tensorflow/python/platform/app.py\", line 36, in run\n",
            "  File \"/usr/local/lib/python3.7/dist-packages/absl/app.py\", line 312, in run\n",
            "    _run_main(main, args)\n",
            "  File \"/usr/local/lib/python3.7/dist-packages/absl/app.py\", line 258, in _run_main\n",
            "    sys.exit(main(argv))\n",
            "  File \"Tensorflow/models/research/object_detection/model_main_tf2.py\", line 89, in main\n",
            "    wait_interval=300, timeout=FLAGS.eval_timeout)\n",
            "  File \"/usr/local/lib/python3.7/dist-packages/object_detection/model_lib_v2.py\", line 1137, in eval_continuously\n",
            "    checkpoint_dir, timeout=timeout, min_interval_secs=wait_interval):\n",
            "  File \"/usr/local/lib/python3.7/dist-packages/tensorflow/python/training/checkpoint_utils.py\", line 195, in checkpoints_iterator\n",
            "    checkpoint_dir, checkpoint_path, timeout=timeout)\n",
            "  File \"/usr/local/lib/python3.7/dist-packages/tensorflow/python/training/checkpoint_utils.py\", line 143, in wait_for_new_checkpoint\n",
            "    time.sleep(seconds_to_sleep)\n",
            "KeyboardInterrupt\n"
          ]
        }
      ],
      "source": [
        "!{command}"
      ]
    },
    {
      "cell_type": "markdown",
      "metadata": {
        "id": "orvRk02UpfDI"
      },
      "source": [
        "# 8. Load Train Model From Checkpoint"
      ]
    },
    {
      "cell_type": "code",
      "execution_count": null,
      "metadata": {
        "id": "8TYk4_oIpfDI"
      },
      "outputs": [],
      "source": [
        "import os\n",
        "import tensorflow as tf\n",
        "from object_detection.utils import label_map_util\n",
        "from object_detection.utils import visualization_utils as viz_utils\n",
        "from object_detection.builders import model_builder\n",
        "from object_detection.utils import config_util"
      ]
    },
    {
      "cell_type": "markdown",
      "metadata": {
        "id": "EN8Vx78p_Ir7"
      },
      "source": [
        "cd whats in my \"models\" and that's what we would look forward to \n",
        "ckpt change to the last checkpoint in your models folder"
      ]
    },
    {
      "cell_type": "code",
      "execution_count": null,
      "metadata": {
        "id": "tDnQg-cYpfDI"
      },
      "outputs": [],
      "source": [
        "# Load pipeline config and build a detection model\n",
        "configs = config_util.get_configs_from_pipeline_file(files['PIPELINE_CONFIG'])\n",
        "detection_model = model_builder.build(model_config=configs['model'], is_training=False)\n",
        "\n",
        "# Restore checkpoint\n",
        "ckpt = tf.compat.v2.train.Checkpoint(model=detection_model)\n",
        "ckpt.restore(os.path.join(paths['CHECKPOINT_PATH'], 'ckpt-5')).expect_partial()\n",
        "\n",
        "@tf.function\n",
        "def detect_fn(image):\n",
        "    image, shapes = detection_model.preprocess(image)\n",
        "    prediction_dict = detection_model.predict(image, shapes)\n",
        "    detections = detection_model.postprocess(prediction_dict, shapes)\n",
        "    return detections"
      ]
    },
    {
      "cell_type": "markdown",
      "metadata": {
        "id": "0EmsmbBZpfDI"
      },
      "source": [
        "# 9. Detect from an Image"
      ]
    },
    {
      "cell_type": "code",
      "execution_count": null,
      "metadata": {
        "id": "Y_MKiuZ4pfDI"
      },
      "outputs": [],
      "source": [
        "import cv2 \n",
        "import numpy as np\n",
        "from matplotlib import pyplot as plt\n",
        "%matplotlib inline"
      ]
    },
    {
      "cell_type": "markdown",
      "metadata": {
        "id": "1WN1OBge_Ir_"
      },
      "source": [
        "Grab a test image and pste it in image path to test it on an image"
      ]
    },
    {
      "cell_type": "code",
      "execution_count": null,
      "metadata": {
        "id": "cBDbIhNapfDI"
      },
      "outputs": [],
      "source": [
        "category_index = label_map_util.create_category_index_from_labelmap(files['LABELMAP'])"
      ]
    },
    {
      "cell_type": "code",
      "execution_count": null,
      "metadata": {
        "id": "Lx3crOhOzITB"
      },
      "outputs": [],
      "source": [
        "IMAGE_PATH = os.path.join(paths['IMAGE_PATH'], 'test', 'thankyou.19579808-a4e3-11ec-883d-df996b26d5fa.jpg')"
      ]
    },
    {
      "cell_type": "markdown",
      "metadata": {
        "id": "CcFyPwX0_IsB"
      },
      "source": [
        "Performance tuning.\n",
        "Add more images\n",
        "Train for longer - Clear our training folder \n",
        "Change the architecture"
      ]
    },
    {
      "cell_type": "code",
      "execution_count": null,
      "metadata": {
        "colab": {
          "base_uri": "https://localhost:8080/",
          "height": 269
        },
        "id": "Tpzn1SMry1yK",
        "outputId": "c392a2c5-10fe-4fc4-9998-a1d4c7db2bd3"
      },
      "outputs": [
        {
          "data": {
            "image/png": "[encoded data removed]",
            "text/plain": [
              "<Figure size 432x288 with 1 Axes>"
            ]
          },
          "metadata": {
            "needs_background": "light"
          },
          "output_type": "display_data"
        }
      ],
      "source": [
        "img = cv2.imread(IMAGE_PATH)\n",
        "image_np = np.array(img)\n",
        "\n",
        "input_tensor = tf.convert_to_tensor(np.expand_dims(image_np, 0), dtype=tf.float32)\n",
        "detections = detect_fn(input_tensor)\n",
        "\n",
        "num_detections = int(detections.pop('num_detections'))\n",
        "detections = {key: value[0, :num_detections].numpy()\n",
        "              for key, value in detections.items()}\n",
        "detections['num_detections'] = num_detections\n",
        "\n",
        "# detection_classes should be ints.\n",
        "detections['detection_classes'] = detections['detection_classes'].astype(np.int64)\n",
        "\n",
        "label_id_offset = 1\n",
        "image_np_with_detections = image_np.copy()\n",
        "\n",
        "viz_utils.visualize_boxes_and_labels_on_image_array(\n",
        "            image_np_with_detections,\n",
        "            detections['detection_boxes'],\n",
        "            detections['detection_classes']+label_id_offset,\n",
        "            detections['detection_scores'],\n",
        "            category_index,\n",
        "            use_normalized_coordinates=True,\n",
        "            max_boxes_to_draw=5,\n",
        "            min_score_thresh=.8,\n",
        "            agnostic_mode=False)\n",
        "\n",
        "plt.imshow(cv2.cvtColor(image_np_with_detections, cv2.COLOR_BGR2RGB))\n",
        "plt.show()"
      ]
    },
    {
      "cell_type": "markdown",
      "metadata": {
        "id": "IsNAaYAo0WVL"
      },
      "source": [
        "# 10. Real Time Detections from your Webcam"
      ]
    },
    {
      "cell_type": "code",
      "execution_count": null,
      "metadata": {
        "id": "99gK_jsx_IsF"
      },
      "outputs": [],
      "source": [
        "!pip uninstall opencv-python-headless -y"
      ]
    },
    {
      "cell_type": "code",
      "execution_count": null,
      "metadata": {
        "id": "o_grs6OGpfDJ"
      },
      "outputs": [],
      "source": [
        "cap = cv2.VideoCapture(0)\n",
        "width = int(cap.get(cv2.CAP_PROP_FRAME_WIDTH))\n",
        "height = int(cap.get(cv2.CAP_PROP_FRAME_HEIGHT))\n",
        "\n",
        "while cap.isOpened(): \n",
        "    ret, frame = cap.read()\n",
        "    image_np = np.array(frame)\n",
        "    \n",
        "    input_tensor = tf.convert_to_tensor(np.expand_dims(image_np, 0), dtype=tf.float32)\n",
        "    detections = detect_fn(input_tensor)\n",
        "    \n",
        "    num_detections = int(detections.pop('num_detections'))\n",
        "    detections = {key: value[0, :num_detections].numpy()\n",
        "                  for key, value in detections.items()}\n",
        "    detections['num_detections'] = num_detections\n",
        "\n",
        "    # detection_classes should be ints.\n",
        "    detections['detection_classes'] = detections['detection_classes'].astype(np.int64)\n",
        "\n",
        "    label_id_offset = 1\n",
        "    image_np_with_detections = image_np.copy()\n",
        "\n",
        "    viz_utils.visualize_boxes_and_labels_on_image_array(\n",
        "                image_np_with_detections,\n",
        "                detections['detection_boxes'],\n",
        "                detections['detection_classes']+label_id_offset,\n",
        "                detections['detection_scores'],\n",
        "                category_index,\n",
        "                use_normalized_coordinates=True,\n",
        "                max_boxes_to_draw=5,\n",
        "                min_score_thresh=.8,\n",
        "                agnostic_mode=False)\n",
        "\n",
        "    cv2.imshow('object detection',  cv2.resize(image_np_with_detections, (800, 600)))\n",
        "    \n",
        "    if cv2.waitKey(10) & 0xFF == ord('q'):\n",
        "        cap.release()\n",
        "        cv2.destroyAllWindows()\n",
        "        break"
      ]
    },
    {
      "cell_type": "markdown",
      "metadata": {
        "id": "rzlM4jt0pfDJ"
      },
      "source": [
        "# 10. Freezing the Graph"
      ]
    },
    {
      "cell_type": "markdown",
      "metadata": {
        "id": "gB3iHTHJ_IsJ"
      },
      "source": [
        "save your model"
      ]
    },
    {
      "cell_type": "code",
      "execution_count": 51,
      "metadata": {
        "id": "n4olHB2npfDJ"
      },
      "outputs": [],
      "source": [
        "FREEZE_SCRIPT = os.path.join(paths['APIMODEL_PATH'], 'research', 'object_detection', 'exporter_main_v2.py ')"
      ]
    },
    {
      "cell_type": "code",
      "execution_count": 52,
      "metadata": {
        "id": "0AjO93QDpfDJ"
      },
      "outputs": [],
      "source": [
        "command = \"python {} --input_type=image_tensor --pipeline_config_path={} --trained_checkpoint_dir={} --output_directory={}\".format(FREEZE_SCRIPT ,files['PIPELINE_CONFIG'], paths['CHECKPOINT_PATH'], paths['OUTPUT_PATH'])"
      ]
    },
    {
      "cell_type": "code",
      "execution_count": null,
      "metadata": {
        "colab": {
          "base_uri": "https://localhost:8080/"
        },
        "id": "F6Lsp3tCpfDJ",
        "outputId": "c3828529-bf06-4df5-d7f3-145890ec3edd"
      },
      "outputs": [
        {
          "name": "stdout",
          "output_type": "stream",
          "text": [
            "python Tensorflow\\models\\research\\object_detection\\exporter_main_v2.py  --input_type=image_tensor --pipeline_config_path=Tensorflow\\workspace\\models\\my_ssd_mobnet\\pipeline.config --trained_checkpoint_dir=Tensorflow\\workspace\\models\\my_ssd_mobnet --output_directory=Tensorflow\\workspace\\models\\my_ssd_mobnet\\export\n"
          ]
        }
      ],
      "source": [
        "print(command)"
      ]
    },
    {
      "cell_type": "code",
      "execution_count": 53,
      "metadata": {
        "colab": {
          "base_uri": "https://localhost:8080/"
        },
        "id": "1Sw1ULgHpfDJ",
        "outputId": "6384fbdc-eba8-48a2-9722-ecf0ff4793a1"
      },
      "outputs": [
        {
          "output_type": "stream",
          "name": "stdout",
          "text": [
            "2022-04-17 06:12:17.749767: W tensorflow/core/common_runtime/gpu/gpu_bfc_allocator.cc:39] Overriding allow_growth setting because the TF_FORCE_GPU_ALLOW_GROWTH environment variable is set. Original config value was 0.\n",
            "WARNING:tensorflow:From /usr/local/lib/python3.7/dist-packages/tensorflow/python/autograph/impl/api.py:458: calling map_fn_v2 (from tensorflow.python.ops.map_fn) with back_prop=False is deprecated and will be removed in a future version.\n",
            "Instructions for updating:\n",
            "back_prop=False is deprecated. Consider using tf.stop_gradient instead.\n",
            "Instead of:\n",
            "results = tf.map_fn(fn, elems, back_prop=False)\n",
            "Use:\n",
            "results = tf.nest.map_structure(tf.stop_gradient, tf.map_fn(fn, elems))\n",
            "W0417 06:12:17.893515 140167229990784 deprecation.py:615] From /usr/local/lib/python3.7/dist-packages/tensorflow/python/autograph/impl/api.py:458: calling map_fn_v2 (from tensorflow.python.ops.map_fn) with back_prop=False is deprecated and will be removed in a future version.\n",
            "Instructions for updating:\n",
            "back_prop=False is deprecated. Consider using tf.stop_gradient instead.\n",
            "Instead of:\n",
            "results = tf.map_fn(fn, elems, back_prop=False)\n",
            "Use:\n",
            "results = tf.nest.map_structure(tf.stop_gradient, tf.map_fn(fn, elems))\n",
            "2022-04-17 06:12:32.724644: W tensorflow/python/util/util.cc:368] Sets are not currently considered sequences, but this may change in the future, so consider avoiding using them.\n",
            "WARNING:tensorflow:Skipping full serialization of Keras layer <object_detection.meta_architectures.ssd_meta_arch.SSDMetaArch object at 0x7f7aa0102b10>, because it is not built.\n",
            "W0417 06:12:35.515012 140167229990784 save_impl.py:72] Skipping full serialization of Keras layer <object_detection.meta_architectures.ssd_meta_arch.SSDMetaArch object at 0x7f7aa0102b10>, because it is not built.\n",
            "WARNING:tensorflow:Skipping full serialization of Keras layer <keras.layers.convolutional.SeparableConv2D object at 0x7f7aaa850850>, because it is not built.\n",
            "W0417 06:12:35.802498 140167229990784 save_impl.py:72] Skipping full serialization of Keras layer <keras.layers.convolutional.SeparableConv2D object at 0x7f7aaa850850>, because it is not built.\n",
            "WARNING:tensorflow:Skipping full serialization of Keras layer <object_detection.core.freezable_batch_norm.FreezableBatchNorm object at 0x7f7a15eac450>, because it is not built.\n",
            "W0417 06:12:35.802729 140167229990784 save_impl.py:72] Skipping full serialization of Keras layer <object_detection.core.freezable_batch_norm.FreezableBatchNorm object at 0x7f7a15eac450>, because it is not built.\n",
            "WARNING:tensorflow:Skipping full serialization of Keras layer <keras.layers.core.lambda_layer.Lambda object at 0x7f7a15e86550>, because it is not built.\n",
            "W0417 06:12:35.802860 140167229990784 save_impl.py:72] Skipping full serialization of Keras layer <keras.layers.core.lambda_layer.Lambda object at 0x7f7a15e86550>, because it is not built.\n",
            "WARNING:tensorflow:Skipping full serialization of Keras layer <keras.layers.convolutional.SeparableConv2D object at 0x7f7a15eac6d0>, because it is not built.\n",
            "W0417 06:12:35.802972 140167229990784 save_impl.py:72] Skipping full serialization of Keras layer <keras.layers.convolutional.SeparableConv2D object at 0x7f7a15eac6d0>, because it is not built.\n",
            "WARNING:tensorflow:Skipping full serialization of Keras layer <object_detection.core.freezable_batch_norm.FreezableBatchNorm object at 0x7f7a15dd8790>, because it is not built.\n",
            "W0417 06:12:35.803082 140167229990784 save_impl.py:72] Skipping full serialization of Keras layer <object_detection.core.freezable_batch_norm.FreezableBatchNorm object at 0x7f7a15dd8790>, because it is not built.\n",
            "WARNING:tensorflow:Skipping full serialization of Keras layer <keras.layers.core.lambda_layer.Lambda object at 0x7f7a15dd8e10>, because it is not built.\n",
            "W0417 06:12:35.803187 140167229990784 save_impl.py:72] Skipping full serialization of Keras layer <keras.layers.core.lambda_layer.Lambda object at 0x7f7a15dd8e10>, because it is not built.\n",
            "WARNING:tensorflow:Skipping full serialization of Keras layer <keras.layers.convolutional.SeparableConv2D object at 0x7f7a15fdecd0>, because it is not built.\n",
            "W0417 06:12:35.803295 140167229990784 save_impl.py:72] Skipping full serialization of Keras layer <keras.layers.convolutional.SeparableConv2D object at 0x7f7a15fdecd0>, because it is not built.\n",
            "WARNING:tensorflow:Skipping full serialization of Keras layer <object_detection.core.freezable_batch_norm.FreezableBatchNorm object at 0x7f7a15f81490>, because it is not built.\n",
            "W0417 06:12:35.803398 140167229990784 save_impl.py:72] Skipping full serialization of Keras layer <object_detection.core.freezable_batch_norm.FreezableBatchNorm object at 0x7f7a15f81490>, because it is not built.\n",
            "WARNING:tensorflow:Skipping full serialization of Keras layer <keras.layers.core.lambda_layer.Lambda object at 0x7f7a15fb9b50>, because it is not built.\n",
            "W0417 06:12:35.803508 140167229990784 save_impl.py:72] Skipping full serialization of Keras layer <keras.layers.core.lambda_layer.Lambda object at 0x7f7a15fb9b50>, because it is not built.\n",
            "WARNING:tensorflow:Skipping full serialization of Keras layer <keras.layers.convolutional.SeparableConv2D object at 0x7f7a15f5ac90>, because it is not built.\n",
            "W0417 06:12:35.803610 140167229990784 save_impl.py:72] Skipping full serialization of Keras layer <keras.layers.convolutional.SeparableConv2D object at 0x7f7a15f5ac90>, because it is not built.\n",
            "WARNING:tensorflow:Skipping full serialization of Keras layer <object_detection.core.freezable_batch_norm.FreezableBatchNorm object at 0x7f7a15ecf210>, because it is not built.\n",
            "W0417 06:12:35.803714 140167229990784 save_impl.py:72] Skipping full serialization of Keras layer <object_detection.core.freezable_batch_norm.FreezableBatchNorm object at 0x7f7a15ecf210>, because it is not built.\n",
            "WARNING:tensorflow:Skipping full serialization of Keras layer <keras.layers.core.lambda_layer.Lambda object at 0x7f7a15ea3550>, because it is not built.\n",
            "W0417 06:12:35.803807 140167229990784 save_impl.py:72] Skipping full serialization of Keras layer <keras.layers.core.lambda_layer.Lambda object at 0x7f7a15ea3550>, because it is not built.\n",
            "WARNING:tensorflow:Skipping full serialization of Keras layer <object_detection.core.freezable_batch_norm.FreezableBatchNorm object at 0x7f7a18041650>, because it is not built.\n",
            "W0417 06:12:35.803911 140167229990784 save_impl.py:72] Skipping full serialization of Keras layer <object_detection.core.freezable_batch_norm.FreezableBatchNorm object at 0x7f7a18041650>, because it is not built.\n",
            "WARNING:tensorflow:Skipping full serialization of Keras layer <keras.layers.core.lambda_layer.Lambda object at 0x7f7a18041190>, because it is not built.\n",
            "W0417 06:12:35.804005 140167229990784 save_impl.py:72] Skipping full serialization of Keras layer <keras.layers.core.lambda_layer.Lambda object at 0x7f7a18041190>, because it is not built.\n",
            "WARNING:tensorflow:Skipping full serialization of Keras layer <object_detection.core.freezable_batch_norm.FreezableBatchNorm object at 0x7f7a15e0f990>, because it is not built.\n",
            "W0417 06:12:35.804101 140167229990784 save_impl.py:72] Skipping full serialization of Keras layer <object_detection.core.freezable_batch_norm.FreezableBatchNorm object at 0x7f7a15e0f990>, because it is not built.\n",
            "WARNING:tensorflow:Skipping full serialization of Keras layer <keras.layers.core.lambda_layer.Lambda object at 0x7f7a15e0f690>, because it is not built.\n",
            "W0417 06:12:35.804207 140167229990784 save_impl.py:72] Skipping full serialization of Keras layer <keras.layers.core.lambda_layer.Lambda object at 0x7f7a15e0f690>, because it is not built.\n",
            "WARNING:tensorflow:Skipping full serialization of Keras layer <object_detection.core.freezable_batch_norm.FreezableBatchNorm object at 0x7f7a18244790>, because it is not built.\n",
            "W0417 06:12:35.804309 140167229990784 save_impl.py:72] Skipping full serialization of Keras layer <object_detection.core.freezable_batch_norm.FreezableBatchNorm object at 0x7f7a18244790>, because it is not built.\n",
            "WARNING:tensorflow:Skipping full serialization of Keras layer <keras.layers.core.lambda_layer.Lambda object at 0x7f7a15e0fa50>, because it is not built.\n",
            "W0417 06:12:35.804416 140167229990784 save_impl.py:72] Skipping full serialization of Keras layer <keras.layers.core.lambda_layer.Lambda object at 0x7f7a15e0fa50>, because it is not built.\n",
            "WARNING:tensorflow:Skipping full serialization of Keras layer <object_detection.core.freezable_batch_norm.FreezableBatchNorm object at 0x7f7a15e0fd10>, because it is not built.\n",
            "W0417 06:12:35.804525 140167229990784 save_impl.py:72] Skipping full serialization of Keras layer <object_detection.core.freezable_batch_norm.FreezableBatchNorm object at 0x7f7a15e0fd10>, because it is not built.\n",
            "WARNING:tensorflow:Skipping full serialization of Keras layer <keras.layers.core.lambda_layer.Lambda object at 0x7f7a15e94a50>, because it is not built.\n",
            "W0417 06:12:35.804620 140167229990784 save_impl.py:72] Skipping full serialization of Keras layer <keras.layers.core.lambda_layer.Lambda object at 0x7f7a15e94a50>, because it is not built.\n",
            "WARNING:tensorflow:Skipping full serialization of Keras layer <object_detection.core.freezable_batch_norm.FreezableBatchNorm object at 0x7f7a2c16ba50>, because it is not built.\n",
            "W0417 06:12:35.804713 140167229990784 save_impl.py:72] Skipping full serialization of Keras layer <object_detection.core.freezable_batch_norm.FreezableBatchNorm object at 0x7f7a2c16ba50>, because it is not built.\n",
            "WARNING:tensorflow:Skipping full serialization of Keras layer <keras.layers.core.lambda_layer.Lambda object at 0x7f7a15df1f90>, because it is not built.\n",
            "W0417 06:12:35.804806 140167229990784 save_impl.py:72] Skipping full serialization of Keras layer <keras.layers.core.lambda_layer.Lambda object at 0x7f7a15df1f90>, because it is not built.\n",
            "WARNING:tensorflow:Skipping full serialization of Keras layer <object_detection.core.freezable_batch_norm.FreezableBatchNorm object at 0x7f7a182599d0>, because it is not built.\n",
            "W0417 06:12:35.804909 140167229990784 save_impl.py:72] Skipping full serialization of Keras layer <object_detection.core.freezable_batch_norm.FreezableBatchNorm object at 0x7f7a182599d0>, because it is not built.\n",
            "WARNING:tensorflow:Skipping full serialization of Keras layer <keras.layers.core.lambda_layer.Lambda object at 0x7f7a15fdea90>, because it is not built.\n",
            "W0417 06:12:35.805003 140167229990784 save_impl.py:72] Skipping full serialization of Keras layer <keras.layers.core.lambda_layer.Lambda object at 0x7f7a15fdea90>, because it is not built.\n",
            "WARNING:tensorflow:Skipping full serialization of Keras layer <object_detection.core.freezable_batch_norm.FreezableBatchNorm object at 0x7f7a15df1b90>, because it is not built.\n",
            "W0417 06:12:35.805096 140167229990784 save_impl.py:72] Skipping full serialization of Keras layer <object_detection.core.freezable_batch_norm.FreezableBatchNorm object at 0x7f7a15df1b90>, because it is not built.\n",
            "WARNING:tensorflow:Skipping full serialization of Keras layer <keras.layers.core.lambda_layer.Lambda object at 0x7f7a15df1250>, because it is not built.\n",
            "W0417 06:12:35.805193 140167229990784 save_impl.py:72] Skipping full serialization of Keras layer <keras.layers.core.lambda_layer.Lambda object at 0x7f7a15df1250>, because it is not built.\n",
            "WARNING:tensorflow:Skipping full serialization of Keras layer <object_detection.core.freezable_batch_norm.FreezableBatchNorm object at 0x7f7a15df12d0>, because it is not built.\n",
            "W0417 06:12:35.805298 140167229990784 save_impl.py:72] Skipping full serialization of Keras layer <object_detection.core.freezable_batch_norm.FreezableBatchNorm object at 0x7f7a15df12d0>, because it is not built.\n",
            "WARNING:tensorflow:Skipping full serialization of Keras layer <keras.layers.core.lambda_layer.Lambda object at 0x7f7a15de8910>, because it is not built.\n",
            "W0417 06:12:35.805398 140167229990784 save_impl.py:72] Skipping full serialization of Keras layer <keras.layers.core.lambda_layer.Lambda object at 0x7f7a15de8910>, because it is not built.\n",
            "WARNING:tensorflow:Skipping full serialization of Keras layer <object_detection.core.freezable_batch_norm.FreezableBatchNorm object at 0x7f7a15d40410>, because it is not built.\n",
            "W0417 06:12:35.805499 140167229990784 save_impl.py:72] Skipping full serialization of Keras layer <object_detection.core.freezable_batch_norm.FreezableBatchNorm object at 0x7f7a15d40410>, because it is not built.\n",
            "WARNING:tensorflow:Skipping full serialization of Keras layer <keras.layers.core.lambda_layer.Lambda object at 0x7f7a15d4c5d0>, because it is not built.\n",
            "W0417 06:12:35.805599 140167229990784 save_impl.py:72] Skipping full serialization of Keras layer <keras.layers.core.lambda_layer.Lambda object at 0x7f7a15d4c5d0>, because it is not built.\n",
            "WARNING:tensorflow:Skipping full serialization of Keras layer <object_detection.core.freezable_batch_norm.FreezableBatchNorm object at 0x7f7a15d4c410>, because it is not built.\n",
            "W0417 06:12:35.805695 140167229990784 save_impl.py:72] Skipping full serialization of Keras layer <object_detection.core.freezable_batch_norm.FreezableBatchNorm object at 0x7f7a15d4c410>, because it is not built.\n",
            "WARNING:tensorflow:Skipping full serialization of Keras layer <keras.layers.core.lambda_layer.Lambda object at 0x7f7a15eebbd0>, because it is not built.\n",
            "W0417 06:12:35.805792 140167229990784 save_impl.py:72] Skipping full serialization of Keras layer <keras.layers.core.lambda_layer.Lambda object at 0x7f7a15eebbd0>, because it is not built.\n",
            "WARNING:tensorflow:Skipping full serialization of Keras layer <object_detection.core.freezable_batch_norm.FreezableBatchNorm object at 0x7f7a15d4ca10>, because it is not built.\n",
            "W0417 06:12:35.805894 140167229990784 save_impl.py:72] Skipping full serialization of Keras layer <object_detection.core.freezable_batch_norm.FreezableBatchNorm object at 0x7f7a15d4ca10>, because it is not built.\n",
            "WARNING:tensorflow:Skipping full serialization of Keras layer <keras.layers.core.lambda_layer.Lambda object at 0x7f7a15d4cd10>, because it is not built.\n",
            "W0417 06:12:35.805991 140167229990784 save_impl.py:72] Skipping full serialization of Keras layer <keras.layers.core.lambda_layer.Lambda object at 0x7f7a15d4cd10>, because it is not built.\n",
            "WARNING:tensorflow:Skipping full serialization of Keras layer <object_detection.core.freezable_batch_norm.FreezableBatchNorm object at 0x7f7a15eb36d0>, because it is not built.\n",
            "W0417 06:12:35.806095 140167229990784 save_impl.py:72] Skipping full serialization of Keras layer <object_detection.core.freezable_batch_norm.FreezableBatchNorm object at 0x7f7a15eb36d0>, because it is not built.\n",
            "WARNING:tensorflow:Skipping full serialization of Keras layer <keras.layers.core.lambda_layer.Lambda object at 0x7f7a15eb3250>, because it is not built.\n",
            "W0417 06:12:35.806198 140167229990784 save_impl.py:72] Skipping full serialization of Keras layer <keras.layers.core.lambda_layer.Lambda object at 0x7f7a15eb3250>, because it is not built.\n",
            "WARNING:tensorflow:Skipping full serialization of Keras layer <object_detection.core.freezable_batch_norm.FreezableBatchNorm object at 0x7f7a2c16ba90>, because it is not built.\n",
            "W0417 06:12:35.806298 140167229990784 save_impl.py:72] Skipping full serialization of Keras layer <object_detection.core.freezable_batch_norm.FreezableBatchNorm object at 0x7f7a2c16ba90>, because it is not built.\n",
            "WARNING:tensorflow:Skipping full serialization of Keras layer <keras.layers.core.lambda_layer.Lambda object at 0x7f7a15e36790>, because it is not built.\n",
            "W0417 06:12:35.806398 140167229990784 save_impl.py:72] Skipping full serialization of Keras layer <keras.layers.core.lambda_layer.Lambda object at 0x7f7a15e36790>, because it is not built.\n",
            "WARNING:tensorflow:Skipping full serialization of Keras layer <object_detection.core.freezable_batch_norm.FreezableBatchNorm object at 0x7f7a15e36910>, because it is not built.\n",
            "W0417 06:12:35.806510 140167229990784 save_impl.py:72] Skipping full serialization of Keras layer <object_detection.core.freezable_batch_norm.FreezableBatchNorm object at 0x7f7a15e36910>, because it is not built.\n",
            "WARNING:tensorflow:Skipping full serialization of Keras layer <keras.layers.core.lambda_layer.Lambda object at 0x7f7a15e36710>, because it is not built.\n",
            "W0417 06:12:35.806611 140167229990784 save_impl.py:72] Skipping full serialization of Keras layer <keras.layers.core.lambda_layer.Lambda object at 0x7f7a15e36710>, because it is not built.\n",
            "WARNING:tensorflow:Skipping full serialization of Keras layer <object_detection.core.freezable_batch_norm.FreezableBatchNorm object at 0x7f7a15e36e90>, because it is not built.\n",
            "W0417 06:12:35.806712 140167229990784 save_impl.py:72] Skipping full serialization of Keras layer <object_detection.core.freezable_batch_norm.FreezableBatchNorm object at 0x7f7a15e36e90>, because it is not built.\n",
            "WARNING:tensorflow:Skipping full serialization of Keras layer <keras.layers.core.lambda_layer.Lambda object at 0x7f7a15e36250>, because it is not built.\n",
            "W0417 06:12:35.806806 140167229990784 save_impl.py:72] Skipping full serialization of Keras layer <keras.layers.core.lambda_layer.Lambda object at 0x7f7a15e36250>, because it is not built.\n",
            "WARNING:tensorflow:Skipping full serialization of Keras layer <object_detection.core.freezable_batch_norm.FreezableBatchNorm object at 0x7f7a182b84d0>, because it is not built.\n",
            "W0417 06:12:35.806910 140167229990784 save_impl.py:72] Skipping full serialization of Keras layer <object_detection.core.freezable_batch_norm.FreezableBatchNorm object at 0x7f7a182b84d0>, because it is not built.\n",
            "WARNING:tensorflow:Skipping full serialization of Keras layer <keras.layers.core.lambda_layer.Lambda object at 0x7f7a15e0a790>, because it is not built.\n",
            "W0417 06:12:35.818828 140167229990784 save_impl.py:72] Skipping full serialization of Keras layer <keras.layers.core.lambda_layer.Lambda object at 0x7f7a15e0a790>, because it is not built.\n",
            "W0417 06:12:51.608038 140167229990784 save.py:265] Found untraced functions such as WeightSharedConvolutionalBoxPredictor_layer_call_fn, WeightSharedConvolutionalBoxPredictor_layer_call_and_return_conditional_losses, WeightSharedConvolutionalBoxHead_layer_call_fn, WeightSharedConvolutionalBoxHead_layer_call_and_return_conditional_losses, WeightSharedConvolutionalClassHead_layer_call_fn while saving (showing 5 of 104). These functions will not be directly callable after loading.\n",
            "INFO:tensorflow:Assets written to: Tensorflow/workspace/models/my_ssd_mobnet_tuned_chips/export/saved_model/assets\n",
            "I0417 06:12:57.209542 140167229990784 builder_impl.py:780] Assets written to: Tensorflow/workspace/models/my_ssd_mobnet_tuned_chips/export/saved_model/assets\n",
            "INFO:tensorflow:Writing pipeline config file to Tensorflow/workspace/models/my_ssd_mobnet_tuned_chips/export/pipeline.config\n",
            "I0417 06:12:57.746474 140167229990784 config_util.py:254] Writing pipeline config file to Tensorflow/workspace/models/my_ssd_mobnet_tuned_chips/export/pipeline.config\n"
          ]
        }
      ],
      "source": [
        "!{command}"
      ]
    },
    {
      "cell_type": "markdown",
      "metadata": {
        "id": "wTPmdqaXpfDK"
      },
      "source": [
        "# 11. Conversion to TFJS"
      ]
    },
    {
      "cell_type": "code",
      "execution_count": 54,
      "metadata": {
        "colab": {
          "base_uri": "https://localhost:8080/"
        },
        "id": "gZ6UzY_fpfDK",
        "outputId": "8208bb87-c8bd-4b89-c62e-6583518fe420",
        "scrolled": true
      },
      "outputs": [
        {
          "output_type": "stream",
          "name": "stdout",
          "text": [
            "Collecting tensorflowjs\n",
            "  Downloading tensorflowjs-3.15.0-py3-none-any.whl (77 kB)\n",
            "\u001b[?25l\r\u001b[K     |████▎                           | 10 kB 32.0 MB/s eta 0:00:01\r\u001b[K     |████████▌                       | 20 kB 38.2 MB/s eta 0:00:01\r\u001b[K     |████████████▊                   | 30 kB 34.9 MB/s eta 0:00:01\r\u001b[K     |█████████████████               | 40 kB 23.3 MB/s eta 0:00:01\r\u001b[K     |█████████████████████▏          | 51 kB 19.3 MB/s eta 0:00:01\r\u001b[K     |█████████████████████████▍      | 61 kB 22.1 MB/s eta 0:00:01\r\u001b[K     |█████████████████████████████▋  | 71 kB 22.7 MB/s eta 0:00:01\r\u001b[K     |████████████████████████████████| 77 kB 6.3 MB/s \n",
            "\u001b[?25hRequirement already satisfied: tensorflow<3,>=2.1.0 in /usr/local/lib/python3.7/dist-packages (from tensorflowjs) (2.8.0)\n",
            "Requirement already satisfied: six<2,>=1.12.0 in /usr/local/lib/python3.7/dist-packages (from tensorflowjs) (1.15.0)\n",
            "Requirement already satisfied: tensorflow-hub<0.13,>=0.7.0 in /usr/local/lib/python3.7/dist-packages (from tensorflowjs) (0.12.0)\n",
            "Requirement already satisfied: grpcio<2.0,>=1.24.3 in /usr/local/lib/python3.7/dist-packages (from tensorflow<3,>=2.1.0->tensorflowjs) (1.44.0)\n",
            "Requirement already satisfied: protobuf>=3.9.2 in /usr/local/lib/python3.7/dist-packages (from tensorflow<3,>=2.1.0->tensorflowjs) (3.20.0)\n",
            "Requirement already satisfied: keras<2.9,>=2.8.0rc0 in /usr/local/lib/python3.7/dist-packages (from tensorflow<3,>=2.1.0->tensorflowjs) (2.8.0)\n",
            "Requirement already satisfied: flatbuffers>=1.12 in /usr/local/lib/python3.7/dist-packages (from tensorflow<3,>=2.1.0->tensorflowjs) (2.0)\n",
            "Requirement already satisfied: typing-extensions>=3.6.6 in /usr/local/lib/python3.7/dist-packages (from tensorflow<3,>=2.1.0->tensorflowjs) (4.1.1)\n",
            "Requirement already satisfied: astunparse>=1.6.0 in /usr/local/lib/python3.7/dist-packages (from tensorflow<3,>=2.1.0->tensorflowjs) (1.6.3)\n",
            "Requirement already satisfied: gast>=0.2.1 in /usr/local/lib/python3.7/dist-packages (from tensorflow<3,>=2.1.0->tensorflowjs) (0.5.3)\n",
            "Requirement already satisfied: opt-einsum>=2.3.2 in /usr/local/lib/python3.7/dist-packages (from tensorflow<3,>=2.1.0->tensorflowjs) (3.3.0)\n",
            "Requirement already satisfied: absl-py>=0.4.0 in /usr/local/lib/python3.7/dist-packages (from tensorflow<3,>=2.1.0->tensorflowjs) (1.0.0)\n",
            "Requirement already satisfied: wrapt>=1.11.0 in /usr/local/lib/python3.7/dist-packages (from tensorflow<3,>=2.1.0->tensorflowjs) (1.14.0)\n",
            "Requirement already satisfied: setuptools in /usr/local/lib/python3.7/dist-packages (from tensorflow<3,>=2.1.0->tensorflowjs) (57.4.0)\n",
            "Requirement already satisfied: tf-estimator-nightly==2.8.0.dev2021122109 in /usr/local/lib/python3.7/dist-packages (from tensorflow<3,>=2.1.0->tensorflowjs) (2.8.0.dev2021122109)\n",
            "Requirement already satisfied: libclang>=9.0.1 in /usr/local/lib/python3.7/dist-packages (from tensorflow<3,>=2.1.0->tensorflowjs) (13.0.0)\n",
            "Requirement already satisfied: h5py>=2.9.0 in /usr/local/lib/python3.7/dist-packages (from tensorflow<3,>=2.1.0->tensorflowjs) (3.1.0)\n",
            "Requirement already satisfied: tensorboard<2.9,>=2.8 in /usr/local/lib/python3.7/dist-packages (from tensorflow<3,>=2.1.0->tensorflowjs) (2.8.0)\n",
            "Requirement already satisfied: keras-preprocessing>=1.1.1 in /usr/local/lib/python3.7/dist-packages (from tensorflow<3,>=2.1.0->tensorflowjs) (1.1.2)\n",
            "Requirement already satisfied: tensorflow-io-gcs-filesystem>=0.23.1 in /usr/local/lib/python3.7/dist-packages (from tensorflow<3,>=2.1.0->tensorflowjs) (0.24.0)\n",
            "Requirement already satisfied: numpy>=1.20 in /usr/local/lib/python3.7/dist-packages (from tensorflow<3,>=2.1.0->tensorflowjs) (1.21.5)\n",
            "Requirement already satisfied: termcolor>=1.1.0 in /usr/local/lib/python3.7/dist-packages (from tensorflow<3,>=2.1.0->tensorflowjs) (1.1.0)\n",
            "Requirement already satisfied: google-pasta>=0.1.1 in /usr/local/lib/python3.7/dist-packages (from tensorflow<3,>=2.1.0->tensorflowjs) (0.2.0)\n",
            "Requirement already satisfied: wheel<1.0,>=0.23.0 in /usr/local/lib/python3.7/dist-packages (from astunparse>=1.6.0->tensorflow<3,>=2.1.0->tensorflowjs) (0.37.1)\n",
            "Requirement already satisfied: cached-property in /usr/local/lib/python3.7/dist-packages (from h5py>=2.9.0->tensorflow<3,>=2.1.0->tensorflowjs) (1.5.2)\n",
            "Requirement already satisfied: requests<3,>=2.21.0 in /usr/local/lib/python3.7/dist-packages (from tensorboard<2.9,>=2.8->tensorflow<3,>=2.1.0->tensorflowjs) (2.27.1)\n",
            "Requirement already satisfied: tensorboard-data-server<0.7.0,>=0.6.0 in /usr/local/lib/python3.7/dist-packages (from tensorboard<2.9,>=2.8->tensorflow<3,>=2.1.0->tensorflowjs) (0.6.1)\n",
            "Requirement already satisfied: tensorboard-plugin-wit>=1.6.0 in /usr/local/lib/python3.7/dist-packages (from tensorboard<2.9,>=2.8->tensorflow<3,>=2.1.0->tensorflowjs) (1.8.1)\n",
            "Requirement already satisfied: google-auth-oauthlib<0.5,>=0.4.1 in /usr/local/lib/python3.7/dist-packages (from tensorboard<2.9,>=2.8->tensorflow<3,>=2.1.0->tensorflowjs) (0.4.6)\n",
            "Requirement already satisfied: markdown>=2.6.8 in /usr/local/lib/python3.7/dist-packages (from tensorboard<2.9,>=2.8->tensorflow<3,>=2.1.0->tensorflowjs) (3.3.6)\n",
            "Requirement already satisfied: google-auth<3,>=1.6.3 in /usr/local/lib/python3.7/dist-packages (from tensorboard<2.9,>=2.8->tensorflow<3,>=2.1.0->tensorflowjs) (1.35.0)\n",
            "Requirement already satisfied: werkzeug>=0.11.15 in /usr/local/lib/python3.7/dist-packages (from tensorboard<2.9,>=2.8->tensorflow<3,>=2.1.0->tensorflowjs) (1.0.1)\n",
            "Requirement already satisfied: rsa<5,>=3.1.4 in /usr/local/lib/python3.7/dist-packages (from google-auth<3,>=1.6.3->tensorboard<2.9,>=2.8->tensorflow<3,>=2.1.0->tensorflowjs) (4.8)\n",
            "Requirement already satisfied: pyasn1-modules>=0.2.1 in /usr/local/lib/python3.7/dist-packages (from google-auth<3,>=1.6.3->tensorboard<2.9,>=2.8->tensorflow<3,>=2.1.0->tensorflowjs) (0.2.8)\n",
            "Requirement already satisfied: cachetools<5.0,>=2.0.0 in /usr/local/lib/python3.7/dist-packages (from google-auth<3,>=1.6.3->tensorboard<2.9,>=2.8->tensorflow<3,>=2.1.0->tensorflowjs) (4.2.4)\n",
            "Requirement already satisfied: requests-oauthlib>=0.7.0 in /usr/local/lib/python3.7/dist-packages (from google-auth-oauthlib<0.5,>=0.4.1->tensorboard<2.9,>=2.8->tensorflow<3,>=2.1.0->tensorflowjs) (1.3.1)\n",
            "Requirement already satisfied: importlib-metadata>=4.4 in /usr/local/lib/python3.7/dist-packages (from markdown>=2.6.8->tensorboard<2.9,>=2.8->tensorflow<3,>=2.1.0->tensorflowjs) (4.11.3)\n",
            "Requirement already satisfied: zipp>=0.5 in /usr/local/lib/python3.7/dist-packages (from importlib-metadata>=4.4->markdown>=2.6.8->tensorboard<2.9,>=2.8->tensorflow<3,>=2.1.0->tensorflowjs) (3.8.0)\n",
            "Requirement already satisfied: pyasn1<0.5.0,>=0.4.6 in /usr/local/lib/python3.7/dist-packages (from pyasn1-modules>=0.2.1->google-auth<3,>=1.6.3->tensorboard<2.9,>=2.8->tensorflow<3,>=2.1.0->tensorflowjs) (0.4.8)\n",
            "Requirement already satisfied: idna<4,>=2.5 in /usr/local/lib/python3.7/dist-packages (from requests<3,>=2.21.0->tensorboard<2.9,>=2.8->tensorflow<3,>=2.1.0->tensorflowjs) (2.10)\n",
            "Requirement already satisfied: urllib3<1.27,>=1.21.1 in /usr/local/lib/python3.7/dist-packages (from requests<3,>=2.21.0->tensorboard<2.9,>=2.8->tensorflow<3,>=2.1.0->tensorflowjs) (1.24.3)\n",
            "Requirement already satisfied: charset-normalizer~=2.0.0 in /usr/local/lib/python3.7/dist-packages (from requests<3,>=2.21.0->tensorboard<2.9,>=2.8->tensorflow<3,>=2.1.0->tensorflowjs) (2.0.12)\n",
            "Requirement already satisfied: certifi>=2017.4.17 in /usr/local/lib/python3.7/dist-packages (from requests<3,>=2.21.0->tensorboard<2.9,>=2.8->tensorflow<3,>=2.1.0->tensorflowjs) (2021.10.8)\n",
            "Requirement already satisfied: oauthlib>=3.0.0 in /usr/local/lib/python3.7/dist-packages (from requests-oauthlib>=0.7.0->google-auth-oauthlib<0.5,>=0.4.1->tensorboard<2.9,>=2.8->tensorflow<3,>=2.1.0->tensorflowjs) (3.2.0)\n",
            "Installing collected packages: tensorflowjs\n",
            "Successfully installed tensorflowjs-3.15.0\n"
          ]
        }
      ],
      "source": [
        "!pip install tensorflowjs"
      ]
    },
    {
      "cell_type": "code",
      "execution_count": 55,
      "metadata": {
        "id": "0oxbVynHpfDK"
      },
      "outputs": [],
      "source": [
        "command = \"tensorflowjs_converter --input_format=tf_saved_model --output_node_names='detection_boxes,detection_classes,detection_features,detection_multiclass_scores,detection_scores,num_detections,raw_detection_boxes,raw_detection_scores' --output_format=tfjs_graph_model --signature_name=serving_default {} {}\".format(os.path.join(paths['OUTPUT_PATH'], 'saved_model'), paths['TFJS_PATH'])"
      ]
    },
    {
      "cell_type": "code",
      "execution_count": null,
      "metadata": {
        "colab": {
          "base_uri": "https://localhost:8080/"
        },
        "id": "DB2AGNmJpfDK",
        "outputId": "fbc9f747-f511-47e8-df8f-5ea65cef0374"
      },
      "outputs": [
        {
          "name": "stdout",
          "output_type": "stream",
          "text": [
            "tensorflowjs_converter --input_format=tf_saved_model --output_node_names='detection_boxes,detection_classes,detection_features,detection_multiclass_scores,detection_scores,num_detections,raw_detection_boxes,raw_detection_scores' --output_format=tfjs_graph_model --signature_name=serving_default Tensorflow\\workspace\\models\\my_ssd_mobnet\\export\\saved_model Tensorflow\\workspace\\models\\my_ssd_mobnet\\tfjsexport\n"
          ]
        }
      ],
      "source": [
        "print(command)"
      ]
    },
    {
      "cell_type": "code",
      "execution_count": 56,
      "metadata": {
        "colab": {
          "base_uri": "https://localhost:8080/"
        },
        "id": "K7rfT4-hpfDK",
        "outputId": "a9f4fe80-b86a-4540-c35b-c5b881cfbc08"
      },
      "outputs": [
        {
          "output_type": "stream",
          "name": "stdout",
          "text": [
            "2022-04-17 06:14:34.183956: W tensorflow/core/common_runtime/gpu/gpu_bfc_allocator.cc:39] Overriding allow_growth setting because the TF_FORCE_GPU_ALLOW_GROWTH environment variable is set. Original config value was 0.\n",
            "Writing weight file Tensorflow/workspace/models/my_ssd_mobnet_tuned_chips/tfjsexport/model.json...\n"
          ]
        }
      ],
      "source": [
        "!{command}"
      ]
    },
    {
      "cell_type": "code",
      "execution_count": null,
      "metadata": {
        "id": "o8_hm-itpfDK"
      },
      "outputs": [],
      "source": [
        "# Test Code: https://github.com/nicknochnack/RealTimeSignLanguageDetectionwithTFJS"
      ]
    },
    {
      "cell_type": "markdown",
      "metadata": {
        "id": "VtUw73FHpfDK"
      },
      "source": [
        "# 12. Conversion to TFLite"
      ]
    },
    {
      "cell_type": "code",
      "execution_count": null,
      "metadata": {
        "id": "XviMtewLpfDK"
      },
      "outputs": [],
      "source": [
        "TFLITE_SCRIPT = os.path.join(paths['APIMODEL_PATH'], 'research', 'object_detection', 'export_tflite_graph_tf2.py ')"
      ]
    },
    {
      "cell_type": "code",
      "execution_count": null,
      "metadata": {
        "id": "us86cjC4pfDL"
      },
      "outputs": [],
      "source": [
        "command = \"python {} --pipeline_config_path={} --trained_checkpoint_dir={} --output_directory={}\".format(TFLITE_SCRIPT ,files['PIPELINE_CONFIG'], paths['CHECKPOINT_PATH'], paths['TFLITE_PATH'])"
      ]
    },
    {
      "cell_type": "code",
      "execution_count": null,
      "metadata": {
        "colab": {
          "base_uri": "https://localhost:8080/"
        },
        "id": "n1r5YO3rpfDL",
        "outputId": "5fcdf7a4-eee2-4365-f1ca-1751968379ea"
      },
      "outputs": [
        {
          "name": "stdout",
          "output_type": "stream",
          "text": [
            "python Tensorflow/models/research/object_detection/export_tflite_graph_tf2.py  --pipeline_config_path=Tensorflow/workspace/models/my_ssd_mobnet_tuned/pipeline.config --trained_checkpoint_dir=Tensorflow/workspace/models/my_ssd_mobnet_tuned --output_directory=Tensorflow/workspace/models/my_ssd_mobnet_tuned/tfliteexport\n"
          ]
        }
      ],
      "source": [
        "print(command)"
      ]
    },
    {
      "cell_type": "code",
      "execution_count": null,
      "metadata": {
        "colab": {
          "base_uri": "https://localhost:8080/"
        },
        "id": "I-xWpHN8pfDL",
        "outputId": "7f6bacd8-d077-43b5-c131-5b081fba24a4"
      },
      "outputs": [
        {
          "name": "stdout",
          "output_type": "stream",
          "text": [
            "2022-03-20 19:14:02.410881: E tensorflow/stream_executor/cuda/cuda_driver.cc:271] failed call to cuInit: CUDA_ERROR_NO_DEVICE: no CUDA-capable device is detected\n",
            "2022-03-20 19:14:02.410951: I tensorflow/stream_executor/cuda/cuda_diagnostics.cc:156] kernel driver does not appear to be running on this host (Indigo): /proc/driver/nvidia/version does not exist\n",
            "2022-03-20 19:14:02.426384: I tensorflow/core/platform/cpu_feature_guard.cc:151] This TensorFlow binary is optimized with oneAPI Deep Neural Network Library (oneDNN) to use the following CPU instructions in performance-critical operations:  AVX2\n",
            "To enable them in other operations, rebuild TensorFlow with the appropriate compiler flags.\n",
            "2022-03-20 19:14:11.735616: W tensorflow/python/util/util.cc:368] Sets are not currently considered sequences, but this may change in the future, so consider avoiding using them.\n",
            "WARNING:tensorflow:Skipping full serialization of Keras layer <object_detection.meta_architectures.ssd_meta_arch.SSDMetaArch object at 0x7f88a84187c0>, because it is not built.\n",
            "W0320 19:14:13.850001 140226709145408 save_impl.py:71] Skipping full serialization of Keras layer <object_detection.meta_architectures.ssd_meta_arch.SSDMetaArch object at 0x7f88a84187c0>, because it is not built.\n",
            "WARNING:tensorflow:Skipping full serialization of Keras layer <keras.layers.convolutional.SeparableConv2D object at 0x7f88a83865b0>, because it is not built.\n",
            "W0320 19:14:14.158212 140226709145408 save_impl.py:71] Skipping full serialization of Keras layer <keras.layers.convolutional.SeparableConv2D object at 0x7f88a83865b0>, because it is not built.\n",
            "WARNING:tensorflow:Skipping full serialization of Keras layer <object_detection.core.freezable_batch_norm.FreezableBatchNorm object at 0x7f8895da8cd0>, because it is not built.\n",
            "W0320 19:14:14.158454 140226709145408 save_impl.py:71] Skipping full serialization of Keras layer <object_detection.core.freezable_batch_norm.FreezableBatchNorm object at 0x7f8895da8cd0>, because it is not built.\n",
            "WARNING:tensorflow:Skipping full serialization of Keras layer <keras.layers.core.lambda_layer.Lambda object at 0x7f8895da8790>, because it is not built.\n",
            "W0320 19:14:14.158567 140226709145408 save_impl.py:71] Skipping full serialization of Keras layer <keras.layers.core.lambda_layer.Lambda object at 0x7f8895da8790>, because it is not built.\n",
            "WARNING:tensorflow:Skipping full serialization of Keras layer <keras.layers.convolutional.SeparableConv2D object at 0x7f8895da8460>, because it is not built.\n",
            "W0320 19:14:14.158684 140226709145408 save_impl.py:71] Skipping full serialization of Keras layer <keras.layers.convolutional.SeparableConv2D object at 0x7f8895da8460>, because it is not built.\n",
            "WARNING:tensorflow:Skipping full serialization of Keras layer <object_detection.core.freezable_batch_norm.FreezableBatchNorm object at 0x7f8895ef9c10>, because it is not built.\n",
            "W0320 19:14:14.158749 140226709145408 save_impl.py:71] Skipping full serialization of Keras layer <object_detection.core.freezable_batch_norm.FreezableBatchNorm object at 0x7f8895ef9c10>, because it is not built.\n",
            "WARNING:tensorflow:Skipping full serialization of Keras layer <keras.layers.core.lambda_layer.Lambda object at 0x7f8895ef93d0>, because it is not built.\n",
            "W0320 19:14:14.158824 140226709145408 save_impl.py:71] Skipping full serialization of Keras layer <keras.layers.core.lambda_layer.Lambda object at 0x7f8895ef93d0>, because it is not built.\n",
            "WARNING:tensorflow:Skipping full serialization of Keras layer <keras.layers.convolutional.SeparableConv2D object at 0x7f88a81f3220>, because it is not built.\n",
            "W0320 19:14:14.158892 140226709145408 save_impl.py:71] Skipping full serialization of Keras layer <keras.layers.convolutional.SeparableConv2D object at 0x7f88a81f3220>, because it is not built.\n",
            "WARNING:tensorflow:Skipping full serialization of Keras layer <object_detection.core.freezable_batch_norm.FreezableBatchNorm object at 0x7f8895b86250>, because it is not built.\n",
            "W0320 19:14:14.158948 140226709145408 save_impl.py:71] Skipping full serialization of Keras layer <object_detection.core.freezable_batch_norm.FreezableBatchNorm object at 0x7f8895b86250>, because it is not built.\n",
            "WARNING:tensorflow:Skipping full serialization of Keras layer <keras.layers.core.lambda_layer.Lambda object at 0x7f8895aefdf0>, because it is not built.\n",
            "W0320 19:14:14.159008 140226709145408 save_impl.py:71] Skipping full serialization of Keras layer <keras.layers.core.lambda_layer.Lambda object at 0x7f8895aefdf0>, because it is not built.\n",
            "WARNING:tensorflow:Skipping full serialization of Keras layer <keras.layers.convolutional.SeparableConv2D object at 0x7f8895d21bb0>, because it is not built.\n",
            "W0320 19:14:14.159064 140226709145408 save_impl.py:71] Skipping full serialization of Keras layer <keras.layers.convolutional.SeparableConv2D object at 0x7f8895d21bb0>, because it is not built.\n",
            "WARNING:tensorflow:Skipping full serialization of Keras layer <object_detection.core.freezable_batch_norm.FreezableBatchNorm object at 0x7f88a82dce50>, because it is not built.\n",
            "W0320 19:14:14.159121 140226709145408 save_impl.py:71] Skipping full serialization of Keras layer <object_detection.core.freezable_batch_norm.FreezableBatchNorm object at 0x7f88a82dce50>, because it is not built.\n",
            "WARNING:tensorflow:Skipping full serialization of Keras layer <keras.layers.core.lambda_layer.Lambda object at 0x7f88a813b8b0>, because it is not built.\n",
            "W0320 19:14:14.159207 140226709145408 save_impl.py:71] Skipping full serialization of Keras layer <keras.layers.core.lambda_layer.Lambda object at 0x7f88a813b8b0>, because it is not built.\n",
            "WARNING:tensorflow:Skipping full serialization of Keras layer <object_detection.core.freezable_batch_norm.FreezableBatchNorm object at 0x7f88a8386b80>, because it is not built.\n",
            "W0320 19:14:14.159261 140226709145408 save_impl.py:71] Skipping full serialization of Keras layer <object_detection.core.freezable_batch_norm.FreezableBatchNorm object at 0x7f88a8386b80>, because it is not built.\n",
            "WARNING:tensorflow:Skipping full serialization of Keras layer <keras.layers.core.lambda_layer.Lambda object at 0x7f8895a074f0>, because it is not built.\n",
            "W0320 19:14:14.159317 140226709145408 save_impl.py:71] Skipping full serialization of Keras layer <keras.layers.core.lambda_layer.Lambda object at 0x7f8895a074f0>, because it is not built.\n",
            "WARNING:tensorflow:Skipping full serialization of Keras layer <object_detection.core.freezable_batch_norm.FreezableBatchNorm object at 0x7f8895a475b0>, because it is not built.\n",
            "W0320 19:14:14.159394 140226709145408 save_impl.py:71] Skipping full serialization of Keras layer <object_detection.core.freezable_batch_norm.FreezableBatchNorm object at 0x7f8895a475b0>, because it is not built.\n",
            "WARNING:tensorflow:Skipping full serialization of Keras layer <keras.layers.core.lambda_layer.Lambda object at 0x7f8895a47280>, because it is not built.\n",
            "W0320 19:14:14.159491 140226709145408 save_impl.py:71] Skipping full serialization of Keras layer <keras.layers.core.lambda_layer.Lambda object at 0x7f8895a47280>, because it is not built.\n",
            "WARNING:tensorflow:Skipping full serialization of Keras layer <object_detection.core.freezable_batch_norm.FreezableBatchNorm object at 0x7f8895a47370>, because it is not built.\n",
            "W0320 19:14:14.159552 140226709145408 save_impl.py:71] Skipping full serialization of Keras layer <object_detection.core.freezable_batch_norm.FreezableBatchNorm object at 0x7f8895a47370>, because it is not built.\n",
            "WARNING:tensorflow:Skipping full serialization of Keras layer <keras.layers.core.lambda_layer.Lambda object at 0x7f8895a47340>, because it is not built.\n",
            "W0320 19:14:14.159610 140226709145408 save_impl.py:71] Skipping full serialization of Keras layer <keras.layers.core.lambda_layer.Lambda object at 0x7f8895a47340>, because it is not built.\n",
            "WARNING:tensorflow:Skipping full serialization of Keras layer <object_detection.core.freezable_batch_norm.FreezableBatchNorm object at 0x7f8895a47430>, because it is not built.\n",
            "W0320 19:14:14.159670 140226709145408 save_impl.py:71] Skipping full serialization of Keras layer <object_detection.core.freezable_batch_norm.FreezableBatchNorm object at 0x7f8895a47430>, because it is not built.\n",
            "WARNING:tensorflow:Skipping full serialization of Keras layer <keras.layers.core.lambda_layer.Lambda object at 0x7f8895a47ac0>, because it is not built.\n",
            "W0320 19:14:14.159727 140226709145408 save_impl.py:71] Skipping full serialization of Keras layer <keras.layers.core.lambda_layer.Lambda object at 0x7f8895a47ac0>, because it is not built.\n",
            "WARNING:tensorflow:Skipping full serialization of Keras layer <object_detection.core.freezable_batch_norm.FreezableBatchNorm object at 0x7f88a8386bb0>, because it is not built.\n",
            "W0320 19:14:14.159780 140226709145408 save_impl.py:71] Skipping full serialization of Keras layer <object_detection.core.freezable_batch_norm.FreezableBatchNorm object at 0x7f88a8386bb0>, because it is not built.\n",
            "WARNING:tensorflow:Skipping full serialization of Keras layer <keras.layers.core.lambda_layer.Lambda object at 0x7f8895a3d880>, because it is not built.\n",
            "W0320 19:14:14.159883 140226709145408 save_impl.py:71] Skipping full serialization of Keras layer <keras.layers.core.lambda_layer.Lambda object at 0x7f8895a3d880>, because it is not built.\n",
            "WARNING:tensorflow:Skipping full serialization of Keras layer <object_detection.core.freezable_batch_norm.FreezableBatchNorm object at 0x7f8895a69280>, because it is not built.\n",
            "W0320 19:14:14.159947 140226709145408 save_impl.py:71] Skipping full serialization of Keras layer <object_detection.core.freezable_batch_norm.FreezableBatchNorm object at 0x7f8895a69280>, because it is not built.\n",
            "WARNING:tensorflow:Skipping full serialization of Keras layer <keras.layers.core.lambda_layer.Lambda object at 0x7f8895a69310>, because it is not built.\n",
            "W0320 19:14:14.160014 140226709145408 save_impl.py:71] Skipping full serialization of Keras layer <keras.layers.core.lambda_layer.Lambda object at 0x7f8895a69310>, because it is not built.\n",
            "WARNING:tensorflow:Skipping full serialization of Keras layer <object_detection.core.freezable_batch_norm.FreezableBatchNorm object at 0x7f8895a694f0>, because it is not built.\n",
            "W0320 19:14:14.160074 140226709145408 save_impl.py:71] Skipping full serialization of Keras layer <object_detection.core.freezable_batch_norm.FreezableBatchNorm object at 0x7f8895a694f0>, because it is not built.\n",
            "WARNING:tensorflow:Skipping full serialization of Keras layer <keras.layers.core.lambda_layer.Lambda object at 0x7f8895a692e0>, because it is not built.\n",
            "W0320 19:14:14.160167 140226709145408 save_impl.py:71] Skipping full serialization of Keras layer <keras.layers.core.lambda_layer.Lambda object at 0x7f8895a692e0>, because it is not built.\n",
            "WARNING:tensorflow:Skipping full serialization of Keras layer <object_detection.core.freezable_batch_norm.FreezableBatchNorm object at 0x7f8895a69400>, because it is not built.\n",
            "W0320 19:14:14.160226 140226709145408 save_impl.py:71] Skipping full serialization of Keras layer <object_detection.core.freezable_batch_norm.FreezableBatchNorm object at 0x7f8895a69400>, because it is not built.\n",
            "WARNING:tensorflow:Skipping full serialization of Keras layer <keras.layers.core.lambda_layer.Lambda object at 0x7f8895a69880>, because it is not built.\n",
            "W0320 19:14:14.160281 140226709145408 save_impl.py:71] Skipping full serialization of Keras layer <keras.layers.core.lambda_layer.Lambda object at 0x7f8895a69880>, because it is not built.\n",
            "WARNING:tensorflow:Skipping full serialization of Keras layer <object_detection.core.freezable_batch_norm.FreezableBatchNorm object at 0x7f88a8386be0>, because it is not built.\n",
            "W0320 19:14:14.160333 140226709145408 save_impl.py:71] Skipping full serialization of Keras layer <object_detection.core.freezable_batch_norm.FreezableBatchNorm object at 0x7f88a8386be0>, because it is not built.\n",
            "WARNING:tensorflow:Skipping full serialization of Keras layer <keras.layers.core.lambda_layer.Lambda object at 0x7f88a81337f0>, because it is not built.\n",
            "W0320 19:14:14.160422 140226709145408 save_impl.py:71] Skipping full serialization of Keras layer <keras.layers.core.lambda_layer.Lambda object at 0x7f88a81337f0>, because it is not built.\n",
            "WARNING:tensorflow:Skipping full serialization of Keras layer <object_detection.core.freezable_batch_norm.FreezableBatchNorm object at 0x7f8895a12580>, because it is not built.\n",
            "W0320 19:14:14.160494 140226709145408 save_impl.py:71] Skipping full serialization of Keras layer <object_detection.core.freezable_batch_norm.FreezableBatchNorm object at 0x7f8895a12580>, because it is not built.\n",
            "WARNING:tensorflow:Skipping full serialization of Keras layer <keras.layers.core.lambda_layer.Lambda object at 0x7f8895a129a0>, because it is not built.\n",
            "W0320 19:14:14.160564 140226709145408 save_impl.py:71] Skipping full serialization of Keras layer <keras.layers.core.lambda_layer.Lambda object at 0x7f8895a129a0>, because it is not built.\n",
            "WARNING:tensorflow:Skipping full serialization of Keras layer <object_detection.core.freezable_batch_norm.FreezableBatchNorm object at 0x7f8895ab1b50>, because it is not built.\n",
            "W0320 19:14:14.160616 140226709145408 save_impl.py:71] Skipping full serialization of Keras layer <object_detection.core.freezable_batch_norm.FreezableBatchNorm object at 0x7f8895ab1b50>, because it is not built.\n",
            "WARNING:tensorflow:Skipping full serialization of Keras layer <keras.layers.core.lambda_layer.Lambda object at 0x7f8895ab1ca0>, because it is not built.\n",
            "W0320 19:14:14.160727 140226709145408 save_impl.py:71] Skipping full serialization of Keras layer <keras.layers.core.lambda_layer.Lambda object at 0x7f8895ab1ca0>, because it is not built.\n",
            "WARNING:tensorflow:Skipping full serialization of Keras layer <object_detection.core.freezable_batch_norm.FreezableBatchNorm object at 0x7f8895ec6070>, because it is not built.\n",
            "W0320 19:14:14.160816 140226709145408 save_impl.py:71] Skipping full serialization of Keras layer <object_detection.core.freezable_batch_norm.FreezableBatchNorm object at 0x7f8895ec6070>, because it is not built.\n",
            "WARNING:tensorflow:Skipping full serialization of Keras layer <keras.layers.core.lambda_layer.Lambda object at 0x7f8895ec6d60>, because it is not built.\n",
            "W0320 19:14:14.160905 140226709145408 save_impl.py:71] Skipping full serialization of Keras layer <keras.layers.core.lambda_layer.Lambda object at 0x7f8895ec6d60>, because it is not built.\n",
            "WARNING:tensorflow:Skipping full serialization of Keras layer <object_detection.core.freezable_batch_norm.FreezableBatchNorm object at 0x7f8895a8f190>, because it is not built.\n",
            "W0320 19:14:14.161000 140226709145408 save_impl.py:71] Skipping full serialization of Keras layer <object_detection.core.freezable_batch_norm.FreezableBatchNorm object at 0x7f8895a8f190>, because it is not built.\n",
            "WARNING:tensorflow:Skipping full serialization of Keras layer <keras.layers.core.lambda_layer.Lambda object at 0x7f88a81136d0>, because it is not built.\n",
            "W0320 19:14:14.161091 140226709145408 save_impl.py:71] Skipping full serialization of Keras layer <keras.layers.core.lambda_layer.Lambda object at 0x7f88a81136d0>, because it is not built.\n",
            "WARNING:tensorflow:Skipping full serialization of Keras layer <object_detection.core.freezable_batch_norm.FreezableBatchNorm object at 0x7f8895d4a6d0>, because it is not built.\n",
            "W0320 19:14:14.161178 140226709145408 save_impl.py:71] Skipping full serialization of Keras layer <object_detection.core.freezable_batch_norm.FreezableBatchNorm object at 0x7f8895d4a6d0>, because it is not built.\n",
            "WARNING:tensorflow:Skipping full serialization of Keras layer <keras.layers.core.lambda_layer.Lambda object at 0x7f8895d4a220>, because it is not built.\n",
            "W0320 19:14:14.161251 140226709145408 save_impl.py:71] Skipping full serialization of Keras layer <keras.layers.core.lambda_layer.Lambda object at 0x7f8895d4a220>, because it is not built.\n",
            "WARNING:tensorflow:Skipping full serialization of Keras layer <object_detection.core.freezable_batch_norm.FreezableBatchNorm object at 0x7f8895be7580>, because it is not built.\n",
            "W0320 19:14:14.161368 140226709145408 save_impl.py:71] Skipping full serialization of Keras layer <object_detection.core.freezable_batch_norm.FreezableBatchNorm object at 0x7f8895be7580>, because it is not built.\n",
            "WARNING:tensorflow:Skipping full serialization of Keras layer <keras.layers.core.lambda_layer.Lambda object at 0x7f8895be76a0>, because it is not built.\n",
            "W0320 19:14:14.161494 140226709145408 save_impl.py:71] Skipping full serialization of Keras layer <keras.layers.core.lambda_layer.Lambda object at 0x7f8895be76a0>, because it is not built.\n",
            "WARNING:tensorflow:Skipping full serialization of Keras layer <object_detection.core.freezable_batch_norm.FreezableBatchNorm object at 0x7f8895eb2eb0>, because it is not built.\n",
            "W0320 19:14:14.161552 140226709145408 save_impl.py:71] Skipping full serialization of Keras layer <object_detection.core.freezable_batch_norm.FreezableBatchNorm object at 0x7f8895eb2eb0>, because it is not built.\n",
            "WARNING:tensorflow:Skipping full serialization of Keras layer <keras.layers.core.lambda_layer.Lambda object at 0x7f8895eb2880>, because it is not built.\n",
            "W0320 19:14:14.161643 140226709145408 save_impl.py:71] Skipping full serialization of Keras layer <keras.layers.core.lambda_layer.Lambda object at 0x7f8895eb2880>, because it is not built.\n",
            "W0320 19:14:34.338202 140226709145408 save.py:260] Found untraced functions such as WeightSharedConvolutionalBoxPredictor_layer_call_fn, WeightSharedConvolutionalBoxPredictor_layer_call_and_return_conditional_losses, WeightSharedConvolutionalBoxHead_layer_call_fn, WeightSharedConvolutionalBoxHead_layer_call_and_return_conditional_losses, WeightSharedConvolutionalClassHead_layer_call_fn while saving (showing 5 of 104). These functions will not be directly callable after loading.\n",
            "INFO:tensorflow:Assets written to: Tensorflow/workspace/models/my_ssd_mobnet_tuned/tfliteexport/saved_model/assets\n",
            "I0320 19:14:40.487832 140226709145408 builder_impl.py:779] Assets written to: Tensorflow/workspace/models/my_ssd_mobnet_tuned/tfliteexport/saved_model/assets\n"
          ]
        }
      ],
      "source": [
        "!{command}"
      ]
    },
    {
      "cell_type": "code",
      "execution_count": null,
      "metadata": {
        "id": "iJfYMbN6pfDL"
      },
      "outputs": [],
      "source": [
        "FROZEN_TFLITE_PATH = os.path.join(paths['TFLITE_PATH'], 'saved_model')\n",
        "TFLITE_MODEL = os.path.join(paths['TFLITE_PATH'], 'saved_model', 'detect.tflite')"
      ]
    },
    {
      "cell_type": "code",
      "execution_count": null,
      "metadata": {
        "id": "Ny2C3GUr_IsZ"
      },
      "outputs": [],
      "source": [
        "command = \"tflite_convert \\\n",
        "--saved_model_dir={} \\\n",
        "--output_file={} \\\n",
        "--input_shapes=1,300,300,3 \\\n",
        "--input_arrays=normalized_input_image_tensor \\\n",
        "--output_arrays='TFLite_Detection_PostProcess','TFLite_Detection_PostProcess:1','TFLite_Detection_PostProcess:2','TFLite_Detection_PostProcess:3' \\\n",
        "--inference_type=FLOAT \\\n",
        "--allow_custom_ops\".format(FROZEN_TFLITE_PATH, TFLITE_MODEL, )"
      ]
    },
    {
      "cell_type": "code",
      "execution_count": null,
      "metadata": {
        "colab": {
          "base_uri": "https://localhost:8080/"
        },
        "id": "E8GwUeoFpfDL",
        "outputId": "fac43ea4-cc85-471b-a362-e994b06fd583"
      },
      "outputs": [
        {
          "name": "stdout",
          "output_type": "stream",
          "text": [
            "tflite_convert --saved_model_dir=Tensorflow\\workspace\\models\\my_ssd_mobnet\\tfliteexport\\saved_model --output_file=Tensorflow\\workspace\\models\\my_ssd_mobnet\\tfliteexport\\saved_model\\detect.tflite --input_shapes=1,300,300,3 --input_arrays=normalized_input_image_tensor --output_arrays='TFLite_Detection_PostProcess','TFLite_Detection_PostProcess:1','TFLite_Detection_PostProcess:2','TFLite_Detection_PostProcess:3' --inference_type=FLOAT --allow_custom_ops\n"
          ]
        }
      ],
      "source": [
        "print(command)"
      ]
    },
    {
      "cell_type": "code",
      "execution_count": null,
      "metadata": {
        "colab": {
          "base_uri": "https://localhost:8080/"
        },
        "id": "Nbd7gqHMpfDL",
        "outputId": "7c8fe6d5-2415-4641-8548-39d425c202f7"
      },
      "outputs": [
        {
          "name": "stdout",
          "output_type": "stream",
          "text": [
            "2022-03-20 19:15:15.156264: E tensorflow/stream_executor/cuda/cuda_driver.cc:271] failed call to cuInit: CUDA_ERROR_NO_DEVICE: no CUDA-capable device is detected\n",
            "2022-03-20 19:15:15.156337: I tensorflow/stream_executor/cuda/cuda_diagnostics.cc:156] kernel driver does not appear to be running on this host (Indigo): /proc/driver/nvidia/version does not exist\n",
            "2022-03-20 19:15:15.643501: I tensorflow/core/platform/cpu_feature_guard.cc:151] This TensorFlow binary is optimized with oneAPI Deep Neural Network Library (oneDNN) to use the following CPU instructions in performance-critical operations:  AVX2\n",
            "To enable them in other operations, rebuild TensorFlow with the appropriate compiler flags.\n",
            "2022-03-20 19:15:28.141967: W tensorflow/compiler/mlir/lite/python/tf_tfl_flatbuffer_helpers.cc:357] Ignored output_format.\n",
            "2022-03-20 19:15:28.142024: W tensorflow/compiler/mlir/lite/python/tf_tfl_flatbuffer_helpers.cc:360] Ignored drop_control_dependency.\n",
            "2022-03-20 19:15:28.143959: I tensorflow/cc/saved_model/reader.cc:43] Reading SavedModel from: Tensorflow/workspace/models/my_ssd_mobnet_tuned/tfliteexport/saved_model\n",
            "2022-03-20 19:15:28.232695: I tensorflow/cc/saved_model/reader.cc:78] Reading meta graph with tags { serve }\n",
            "2022-03-20 19:15:28.232764: I tensorflow/cc/saved_model/reader.cc:119] Reading SavedModel debug info (if present) from: Tensorflow/workspace/models/my_ssd_mobnet_tuned/tfliteexport/saved_model\n",
            "2022-03-20 19:15:28.586435: I tensorflow/cc/saved_model/loader.cc:228] Restoring SavedModel bundle.\n",
            "2022-03-20 19:15:30.043953: I tensorflow/cc/saved_model/loader.cc:212] Running initialization op on SavedModel bundle at path: Tensorflow/workspace/models/my_ssd_mobnet_tuned/tfliteexport/saved_model\n",
            "2022-03-20 19:15:30.816393: I tensorflow/cc/saved_model/loader.cc:301] SavedModel load for tags { serve }; Status: success: OK. Took 2672452 microseconds.\n",
            "2022-03-20 19:15:32.105384: I tensorflow/compiler/mlir/tensorflow/utils/dump_mlir_util.cc:237] disabling MLIR crash reproducer, set env var `MLIR_CRASH_REPRODUCER_DIRECTORY` to enable.\n",
            "2022-03-20 19:15:34.191351: I tensorflow/compiler/mlir/lite/flatbuffer_export.cc:1963] Estimated count of arithmetic ops: 1.710 G  ops, equivalently 0.855 G  MACs\n",
            "\n",
            "Estimated count of arithmetic ops: 1.710 G  ops, equivalently 0.855 G  MACs\n",
            "W0320 19:15:34.553352 140649442764608 lite.py:769] Buffer deduplication procedure will be skipped when flatbuffer library is not properly loaded\n"
          ]
        }
      ],
      "source": [
        "!{command}"
      ]
    },
    {
      "cell_type": "markdown",
      "metadata": {
        "id": "5NQqZRdA21Uc"
      },
      "source": [
        "# 13. Zip and Export Models "
      ]
    },
    {
      "cell_type": "code",
      "execution_count": 57,
      "metadata": {
        "id": "tTVTGCQp2ZJJ"
      },
      "outputs": [],
      "source": [
        "!tar -czf models.tar.gz {paths['CHECKPOINT_PATH']}"
      ]
    },
    {
      "cell_type": "code",
      "execution_count": 58,
      "metadata": {
        "colab": {
          "base_uri": "https://localhost:8080/"
        },
        "id": "whShhB0x3PYJ",
        "outputId": "506208a7-1a7d-4aee-842b-afc8a2c6f2a6"
      },
      "outputs": [
        {
          "output_type": "stream",
          "name": "stdout",
          "text": [
            "Mounted at /content/drive\n"
          ]
        }
      ],
      "source": [
        "from google.colab import drive\n",
        "drive.mount('/content/drive')"
      ]
    }
  ],
  "metadata": {
    "accelerator": "GPU",
    "colab": {
      "name": "3. Training and Detection.ipynb",
      "provenance": []
    },
    "interpreter": {
      "hash": "0debf8b8a295993fc8704b5dbb530f245d08bd59781256ed8458ab0a0cb280d8"
    },
    "kernelspec": {
      "display_name": "Python 3.8.10 64-bit ('env': venv)",
      "name": "python3"
    },
    "language_info": {
      "codemirror_mode": {
        "name": "ipython",
        "version": 3
      },
      "file_extension": ".py",
      "mimetype": "text/x-python",
      "name": "python",
      "nbconvert_exporter": "python",
      "pygments_lexer": "ipython3",
      "version": "3.8.10"
    }
  },
  "nbformat": 4,
  "nbformat_minor": 0
}